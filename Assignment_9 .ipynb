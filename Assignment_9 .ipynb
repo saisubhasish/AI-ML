{
 "cells": [
  {
   "cell_type": "markdown",
   "id": "0aee6b4b",
   "metadata": {},
   "source": [
    "- 1. A relative path ss path that descibes location of the directory relative to the point from where you are executing the python code.\n",
    "\n",
    "-  2. Absolute path is the location of a file from the root directory(/). In other words absolute path is the complete path from the start of actual file system(/). It starts with forward slash(/).\n",
    "\n",
    "- 3. os.getcwd() : returns the present working directory/path from where you are writing code.\n",
    "     os.chdir() : change the working directory from where you are currently working to specified directory in the function.\n",
    "     \n",
    "- 4. . means current folder and .. means parent folder. We use these commands to access files quickly.\n",
    "\n",
    "     eg: ..\\..\\    to go upto 2 directories\n",
    "         ./program  to run executable binaries in the current directory\n",
    "         \n",
    "- 5. In C:\\bacon\\eggs\\spam.txt, In C:\\bacon\\eggs is the directory name and spam.txt is the base name.\n",
    "\n",
    "- 6. The three mode argument that can be passed to the open function : r, w and a.\n",
    "     Where r : read, w : write and a : append.\n",
    "     \n",
    "- 7. If an existing file is opened in write mod then we can write data to it. \n",
    "\n",
    "- 8. read()  :  We use read() to read the entire file at once.\n",
    "     readlines() : We use readlines() to read list of lines. We can read a bunch of lines one by one which reduces the time complexity. Instead of running any loop we can use this function for read operation.\n",
    "     \n",
    "- 9. A shelf value resembles dictionary values, it has keys and values along with keys() and values() mehods which works similarly to the distionary method of same name."
   ]
  },
  {
   "cell_type": "code",
   "execution_count": null,
   "id": "d764dec8",
   "metadata": {},
   "outputs": [],
   "source": []
  }
 ],
 "metadata": {
  "kernelspec": {
   "display_name": "Python 3 (ipykernel)",
   "language": "python",
   "name": "python3"
  },
  "language_info": {
   "codemirror_mode": {
    "name": "ipython",
    "version": 3
   },
   "file_extension": ".py",
   "mimetype": "text/x-python",
   "name": "python",
   "nbconvert_exporter": "python",
   "pygments_lexer": "ipython3",
   "version": "3.9.13"
  }
 },
 "nbformat": 4,
 "nbformat_minor": 5
}
