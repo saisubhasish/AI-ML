{
 "cells": [
  {
   "cell_type": "code",
   "execution_count": 4,
   "id": "68c7fc4d",
   "metadata": {},
   "outputs": [
    {
     "name": "stdout",
     "output_type": "stream",
     "text": [
      "True\n"
     ]
    }
   ],
   "source": [
    "def disariumNum(num):\n",
    "    '''\n",
    "    This function returns True if provided number is a disarium number\n",
    "    eg: 518 = 5**1+1**2+8**3\n",
    "    '''\n",
    "    temp = 0\n",
    "    for i in range(len(str(num))):\n",
    "        temp += int(str(num)[i])**(i+1)\n",
    "    return temp==num\n",
    "\n",
    "print(disariumNum(518))"
   ]
  },
  {
   "cell_type": "code",
   "execution_count": 17,
   "id": "6c57f717",
   "metadata": {},
   "outputs": [
    {
     "name": "stdout",
     "output_type": "stream",
     "text": [
      "1\n",
      "2\n",
      "3\n",
      "4\n",
      "5\n",
      "6\n",
      "7\n",
      "8\n",
      "9\n",
      "89\n"
     ]
    }
   ],
   "source": [
    "import math\n",
    "\n",
    "def digitCount(num):\n",
    "    '''\n",
    "    This function returns the length of given number\n",
    "    '''\n",
    "    length = 0\n",
    "    while num != 0:\n",
    "        length += 1\n",
    "        num //= 10\n",
    "    return length\n",
    "\n",
    "def digitSum(num):\n",
    "    '''\n",
    "    This function returns the sum of numbers with consecuitive powers\n",
    "    and returns disarium numbers in a range\n",
    "    '''\n",
    "    sum = 0\n",
    "    rem = 0\n",
    "    length = digitCount(num)return\n",
    "    while num > 0:\n",
    "        rem = num%10\n",
    "        sum += math.pow(rem, length)\n",
    "        num //= 10\n",
    "        length -= 1\n",
    "    return sum\n",
    "\n",
    "for i in range(1, 100):\n",
    "    sum = digitSum(i)\n",
    "    if sum == i:\n",
    "        print(i)"
   ]
  },
  {
   "cell_type": "code",
   "execution_count": 28,
   "id": "ce95f3c9",
   "metadata": {},
   "outputs": [
    {
     "name": "stdout",
     "output_type": "stream",
     "text": [
      "13 is a Happy number\n"
     ]
    }
   ],
   "source": [
    "# Utility method to return\n",
    "# sum of square of digit of n\n",
    "def numSquareSum(n):\n",
    "    squareSum = 0\n",
    "    while(n):\n",
    "        squareSum += (n % 10) * (n % 10)\n",
    "        n = int(n / 10)\n",
    "    return squareSum\n",
    "\n",
    "# method return true if\n",
    "# n is Happy number\n",
    "def isHappynumber(n):\n",
    "    '''\n",
    "    This function is to check if given number is happy number or not\n",
    "    ie. sum of squares of digits will be 1.\n",
    "    '''\n",
    "    # initialize slow\n",
    "    # and fast by n\n",
    "    slow = n\n",
    "    fast = n\n",
    "    while(True):\n",
    "\n",
    "        # move slow number\n",
    "        # by one iteration\n",
    "        slow = numSquareSum(slow)\n",
    "\n",
    "        # move fast number\n",
    "        # by two iteration\n",
    "        fast = numSquareSum(numSquareSum(fast))\n",
    "        if(slow != fast):\n",
    "            continue\n",
    "        else:\n",
    "            break\n",
    "\n",
    "    # if both number meet at 1,\n",
    "    # then return true\n",
    "    return (slow == 1)\n",
    "\n",
    "n = 13;\n",
    "if (isHappynumber(n)):\n",
    "    print(n , \"is a Happy number\")\n",
    "else:\n",
    "    print(n , \"is not a Happy number\")"
   ]
  },
  {
   "cell_type": "code",
   "execution_count": 30,
   "id": "4e801f6f",
   "metadata": {},
   "outputs": [
    {
     "name": "stdout",
     "output_type": "stream",
     "text": [
      "1\n",
      "7\n",
      "10\n",
      "13\n",
      "19\n",
      "23\n",
      "28\n",
      "31\n",
      "32\n",
      "44\n",
      "49\n",
      "68\n",
      "70\n",
      "79\n",
      "82\n",
      "86\n",
      "91\n",
      "94\n",
      "97\n"
     ]
    }
   ],
   "source": [
    "def numSquareSum(n):\n",
    "    squareSum = 0\n",
    "    while(n):\n",
    "        squareSum += (n % 10) * (n % 10)\n",
    "        n = int(n / 10)\n",
    "    return squareSum\n",
    "\n",
    "def isHappynumber(n):\n",
    "    '''\n",
    "    This function is to check if range of numbers are happy number or not \n",
    "    ie. sum of squares of digits will be 1.\n",
    "    '''\n",
    "    slow = n\n",
    "    fast = n\n",
    "    while(True):\n",
    "\n",
    "        slow = numSquareSum(slow)\n",
    "\n",
    "\n",
    "        fast = numSquareSum(numSquareSum(fast))\n",
    "        if(slow != fast):\n",
    "            continue\n",
    "        else:\n",
    "            break\n",
    "\n",
    "    if (slow == 1):\n",
    "        print(n)\n",
    "\n",
    "for i in range(1,100):\n",
    "    isHappynumber(i)"
   ]
  },
  {
   "cell_type": "code",
   "execution_count": 33,
   "id": "218b21bb",
   "metadata": {},
   "outputs": [
    {
     "name": "stdout",
     "output_type": "stream",
     "text": [
      "156 is a harshad number\n"
     ]
    }
   ],
   "source": [
    "def harshadNum(num):\n",
    "    '''\n",
    "    This function the harshad number\n",
    "    ie. of number is divisible by its sum of digits\n",
    "    '''\n",
    "    rem = sum = 0   \n",
    "    n = num;    \n",
    "    #Calculates sum of digits    \n",
    "    while(num > 0):    \n",
    "        rem = num%10;    \n",
    "        sum = sum + rem;    \n",
    "        num = num//10;    \n",
    "        \n",
    "    if(n%sum == 0):    \n",
    "        print(str(n) + \" is a harshad number\");    \n",
    "    else:    \n",
    "        print(str(n) + \" is not a harshad number\");\n",
    "\n",
    "harshadNum(156)  "
   ]
  },
  {
   "cell_type": "code",
   "execution_count": 36,
   "id": "04018b0f",
   "metadata": {},
   "outputs": [
    {
     "name": "stdout",
     "output_type": "stream",
     "text": [
      "2 6 12 20 30 42 56 72 90 "
     ]
    }
   ],
   "source": [
    "import math\n",
    "\n",
    "def checkPronic (x) :\n",
    "    '''\n",
    "    This function checks pronic number in a range of 1 to 100\n",
    "    '''\n",
    "    i = 0\n",
    "    while ( i <= (int)(math.sqrt(x)) ) :\n",
    "        if ( x == i * (i + 1)) :\n",
    "            return True\n",
    "        i = i + 1\n",
    "\n",
    "    return False\n",
    "\n",
    "i = 1\n",
    "while (i <= 100 ) :\n",
    "    if checkPronic(i) :\n",
    "        print(i,end=\" \")\n",
    "    i = i + 1"
   ]
  },
  {
   "cell_type": "code",
   "execution_count": null,
   "id": "ea6c9472",
   "metadata": {},
   "outputs": [],
   "source": []
  }
 ],
 "metadata": {
  "kernelspec": {
   "display_name": "Python 3 (ipykernel)",
   "language": "python",
   "name": "python3"
  },
  "language_info": {
   "codemirror_mode": {
    "name": "ipython",
    "version": 3
   },
   "file_extension": ".py",
   "mimetype": "text/x-python",
   "name": "python",
   "nbconvert_exporter": "python",
   "pygments_lexer": "ipython3",
   "version": "3.9.13"
  }
 },
 "nbformat": 4,
 "nbformat_minor": 5
}
