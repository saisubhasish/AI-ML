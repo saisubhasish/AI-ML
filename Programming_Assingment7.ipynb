{
 "cells": [
  {
   "cell_type": "code",
   "execution_count": 25,
   "id": "f46f00cc",
   "metadata": {},
   "outputs": [
    {
     "name": "stdout",
     "output_type": "stream",
     "text": [
      "The sum is : 60\n"
     ]
    }
   ],
   "source": [
    "from functools import *\n",
    "\n",
    "def arr_sum():\n",
    "    '''\n",
    "    This function is to find the sum of array\n",
    "    '''\n",
    "    n = [10,20,30]\n",
    "    result = reduce((lambda x, y: x+y), n) \n",
    "    print(f\"The sum is : {result}\")\n",
    "\n",
    "arr_sum()"
   ]
  },
  {
   "cell_type": "code",
   "execution_count": 30,
   "id": "29a37a19",
   "metadata": {},
   "outputs": [
    {
     "data": {
      "text/plain": [
       "('The largest element in list is : ', 8)"
      ]
     },
     "execution_count": 30,
     "metadata": {},
     "output_type": "execute_result"
    }
   ],
   "source": [
    "def large_elem():\n",
    "    '''\n",
    "    This function is to find the largest element in a the list\n",
    "    '''\n",
    "    large = 0\n",
    "    l = [5,7,3,8,4]\n",
    "    for i in l:\n",
    "        if i > large:\n",
    "            large = i\n",
    "    return \"The largest element in list is : \",large\n",
    "\n",
    "large_elem()"
   ]
  },
  {
   "cell_type": "code",
   "execution_count": 44,
   "id": "2677cf96",
   "metadata": {},
   "outputs": [
    {
     "name": "stdout",
     "output_type": "stream",
     "text": [
      "[30, 40, 50, 60, 70, 80, 90, 10, 20]\n"
     ]
    }
   ],
   "source": [
    "def array_rotation(arr, n, d):\n",
    "    '''\n",
    "    This funtion is for array rotation\n",
    "    '''\n",
    "    temp = []\n",
    "    i = 0\n",
    "    while i < d:\n",
    "        temp.append(arr[i])\n",
    "        i += 1\n",
    "    i = 0\n",
    "    while d < n:\n",
    "        arr[i] = arr[d]\n",
    "        i += 1\n",
    "        d += 1\n",
    "    \n",
    "    arr[:] = arr[:i]+temp\n",
    "    return arr\n",
    "    \n",
    "    \n",
    "arr = [10,20,30,40,50,60,70,80,90]\n",
    "print(array_rotation(arr, len(arr), 2))"
   ]
  },
  {
   "cell_type": "code",
   "execution_count": 53,
   "id": "9d7ae814",
   "metadata": {},
   "outputs": [
    {
     "data": {
      "text/plain": [
       "[8, 7, 6, 4, 2, 9, 5]"
      ]
     },
     "execution_count": 53,
     "metadata": {},
     "output_type": "execute_result"
    }
   ],
   "source": [
    "def arr_split(arr, n, p):\n",
    "    '''\n",
    "    This program is to split the array and add the first part to the end\n",
    "    '''\n",
    "    part1 = arr[:p]\n",
    "    return arr[p:]+part1[:]\n",
    "\n",
    "\n",
    "arr = [5,8,7,6,4,2,9]\n",
    "n = len(arr)\n",
    "p = 1\n",
    "arr_split(arr, n, p)"
   ]
  },
  {
   "cell_type": "code",
   "execution_count": 63,
   "id": "63804159",
   "metadata": {},
   "outputs": [
    {
     "name": "stdout",
     "output_type": "stream",
     "text": [
      "True\n"
     ]
    }
   ],
   "source": [
    "def monotonic_arr(A):\n",
    "    '''\n",
    "    This function is to check the monotonic array\n",
    "    ============================================================\n",
    "    Array is monotonic if it is in increasing or decrasing order\n",
    "    '''\n",
    "    x, y= [], []\n",
    "    x.extend(A)\n",
    "    y.extend(A)\n",
    "    x.sort()\n",
    "    y.sort(reverse=True)\n",
    "    if (x == A or y==A):\n",
    "        return True\n",
    "    return False\n",
    "\n",
    "\n",
    "#A = [5,8,1,4]\n",
    "A = [1,3,6,10]\n",
    "print(monotonic_arr(A))"
   ]
  },
  {
   "cell_type": "code",
   "execution_count": null,
   "id": "10ffda59",
   "metadata": {},
   "outputs": [],
   "source": []
  }
 ],
 "metadata": {
  "kernelspec": {
   "display_name": "Python 3 (ipykernel)",
   "language": "python",
   "name": "python3"
  },
  "language_info": {
   "codemirror_mode": {
    "name": "ipython",
    "version": 3
   },
   "file_extension": ".py",
   "mimetype": "text/x-python",
   "name": "python",
   "nbconvert_exporter": "python",
   "pygments_lexer": "ipython3",
   "version": "3.9.13"
  }
 },
 "nbformat": 4,
 "nbformat_minor": 5
}
