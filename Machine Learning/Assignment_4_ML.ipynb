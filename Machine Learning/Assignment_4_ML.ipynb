{
 "cells": [
  {
   "cell_type": "markdown",
   "id": "1f15b492",
   "metadata": {},
   "source": [
    "**1. What are the key tasks involved in getting ready to work with machine learning modeling?**"
   ]
  },
  {
   "cell_type": "markdown",
   "id": "2f926986",
   "metadata": {},
   "source": [
    "**Ans:** \n",
    "\n",
    "To start with machine learning modelling we need to complete the following tasks :\n",
    "1. Data collection  -->> Storing data to database\n",
    "\n",
    "    i. Web Scrapping\n",
    "    \n",
    "    ii. Data websites (UCI, Kaggle etc.)\n",
    "    \n",
    "    iii. APIs\n",
    "    \n",
    "2. Data Preparion\n",
    "\n",
    "    i. Data cleaning\n",
    "    \n",
    "    ii. Feature creation\n",
    "    \n",
    "    iii. Drop duplicates\n",
    "    \n",
    "    iv. Changing data types\n",
    "    \n",
    "3. EDA\n",
    "4. Data Preprocessing  -->> Data Transformation\n",
    "\n",
    "    i. Null value handling\n",
    "    \n",
    "    ii. Handling Outliers\n",
    "    \n",
    "    iii. Feature Scaling and selection\n",
    "    \n",
    "    iv. Transforming\n",
    "    \n",
    "    v. Dimensionality Reduction\n",
    "    \n",
    "    vi. Encoding\n",
    "    \n",
    "    v. Handling imbalanced data   \n",
    "    \n",
    "    vi. Split\n",
    "    \n",
    "5. Model Building -->> Model selection  -->> Hyper parameter tuning\n",
    "    "
   ]
  },
  {
   "cell_type": "markdown",
   "id": "0f9b5c17",
   "metadata": {},
   "source": [
    "**2. What are the different forms of data used in machine learning? Give a specific example for each of them.**"
   ]
  },
  {
   "cell_type": "markdown",
   "id": "c27936ad",
   "metadata": {},
   "source": [
    "**Ans:** \n",
    "\n",
    "There are four types of data used in machine learning:\n",
    "\n",
    "1. Numerical data\n",
    "2. Categorical data\n",
    "3. Time Series data\n",
    "4. Text data\n",
    "\n",
    "    \n",
    "1. **Numerical data**\n",
    "\n",
    "    Numerical data is any data where data points are exact numbers. Statisticians also might call numerical data as quantitative data. This data has meaning as a measurement such as house prices or as a count, such as a number of residential properties in Los Angeles or how many houses sold in the past year.\n",
    "    \n",
    "    i. Discrete data.\n",
    "    \n",
    "    Discrete data has distinct values.   eg: Number of students, Number of houses\n",
    "        \n",
    "    ii. Continuous data.\n",
    "    \n",
    "    Continuous data can assume any value within a range.    eg: Height, Weight\n",
    "    \n",
    "2. **Categorical data**\n",
    "\n",
    "    Categorical data represents characteristics, such as a hockey player’s position, team, hometown. Categorical data can take numerical values. For example, maybe we would use 1 for the colour red and 2 for blue. But these numbers don’t have a mathematical meaning. That is, we can’t add them together or take the average.\n",
    "\n",
    "    i. Nominal data.\n",
    "    \n",
    "    Categorical data     eg: Male, Female\n",
    "    \n",
    "    ii. Ordinal data.\n",
    "    \n",
    "    Order of the data matters but value doesn’t.    eg:  1st place in the class \n",
    "    \n",
    "    iii. Interval\n",
    "    \n",
    "    Order matters, value also matters but natural zero is not present.\n",
    "    \n",
    "    iv. Ratio\n",
    "    \n",
    "    Something measured on a ratio scale, has same properties as interval scale but with absolute zero point.\n",
    "    \n",
    "3. **Time Series data**\n",
    "\n",
    "Time series data is a sequence of numbers collected at regular intervals over some period of time. It is very important, especially in particular fields like finance. Time series data has a temporal value attached to it, so this would be something like a date or a timestamp that you can look for trends in time.\n",
    "\n",
    "eg: Sales forecasting, Investment prediction\n",
    "\n",
    "4. **Text data**\n",
    "\n",
    "Text data is basically just words. A lot of the time the first thing that you do with text is you turn it into numbers using some interesting functions like the bag of words formulation.\n",
    "\n",
    "eg: Email message segmentation"
   ]
  },
  {
   "cell_type": "markdown",
   "id": "03b1c2e2",
   "metadata": {},
   "source": [
    "**3. Distinguish:**\n",
    "\n",
    "           1. Numeric vs. categorical attributes\n",
    "\n",
    "            2. Feature selection vs. dimensionality reduction\n"
   ]
  },
  {
   "cell_type": "markdown",
   "id": "04ac5bef",
   "metadata": {},
   "source": [
    "**Ans:** \n",
    "\n",
    "**1. Numeric vs. categorical attributes**\n",
    "\n",
    "Numerical attributes refers to numbers. Numerical data is a type of data that expresses information in the form of numbers. \n",
    "\n",
    "Categorical attributes is non-numerical information that is divided into groups. Categorical data is a type of data that is used to group information with similar characteristics. As its name suggests, categorical data describes categories or groups.\n",
    "\n",
    "**2. Feature selection vs. dimensionality reduction**\n",
    "\n",
    "Both methods are used for reducing the number of features in a dataset, the difference between them are. \n",
    "\n",
    "Feature selection is simply selecting and excluding given features without changing them. We do feature selection by understanding the business usecase. \n",
    "\n",
    "Dimensionality reduction transforms features into a lower dimension., from which we can keep the maximum contributing features. For dimensionality reduction we use PCA."
   ]
  },
  {
   "cell_type": "markdown",
   "id": "c26690c4",
   "metadata": {},
   "source": [
    "**4. Make quick notes on any two of the following:**\n",
    "\n",
    "            1. The histogram\n",
    "\n",
    "             2. Use a scatter plot\n",
    "\n",
    "              3.PCA (Personal Computer Aid)\n"
   ]
  },
  {
   "cell_type": "markdown",
   "id": "5eed1f0f",
   "metadata": {},
   "source": [
    "**Ans:** \n",
    "\n",
    "1. **The histogram**:\n",
    "- Histogram is a distribution plot which displays the frequency of the discrete or continuous numerical data with in a range. Means, here we devide the range of values with a bin size, which we consider randomly and displays the frequeny of the numbers in the plot.\n",
    "\n",
    "To construct histogram :\n",
    "\n",
    "range/bins      -->>  If the range is from begining of the series\n",
    "\n",
    "Otherwise = (max – min) / bins       -->>   If the range is a part of the series \n",
    "\n",
    "2. **PCA**: PCA is a pre-processing technique used for dimensionality reduction. It is very very powerful algorithm for dimensionality reduction. We use it for feature decopmosition.\n",
    "\n",
    "If we will try to train our model with 100 different features, the problems we will face\n",
    "- Time complexity increases.\n",
    "- Difficult to generalize the model\n",
    "- All the time all of out features are not going to contribute. \n",
    "- Hard to find shape of the data.\n",
    "\n",
    "The solution to these problems are dimensionality reduction. \n",
    "\n",
    "Dimensionality reduction is not an elemination technique(columns removal), but it is a reduction technique. Here we will try to convert the dataset in some other axis in such a way that it will be able to retain the original meaning of the data. Means PCA able to retain 91% of the data. In other words we are not changing the meaning of the dataset, we are only changing the axis.\n",
    "\n",
    "We can generate the maximum number of principal component as per the number of features. ie (n-1). \n",
    "\n",
    "Then we calculate the EVR, eigen value and eigen vector. We will consider the PC1 as per highest eigen value. And keep the number of principal components which are keeping more then 90% of data.\n",
    "\n",
    "**Pratically we are following the steps:**\n",
    "1. Taka a dataset\n",
    "2. Check normalized or not\n",
    "3. Check co-variance of it. -->> Line relation\n",
    "4. Using that line we are able to represent our data into different scale.\n",
    "5. Find the EVR, Eigen value and eigen vector.\n",
    "6. Find PC1 and PC2."
   ]
  },
  {
   "cell_type": "markdown",
   "id": "9b230a03",
   "metadata": {},
   "source": [
    "**5. Why is it necessary to investigate data? Is there a discrepancy in how qualitative and quantitative data are explored?**"
   ]
  },
  {
   "cell_type": "markdown",
   "id": "50375c34",
   "metadata": {},
   "source": [
    "**Ans:** \n",
    "\n",
    "Yes it is necessary to investigate data. The combination of qualitative and quantitative data can also lead to clashes in the philosophical assumptions behind each approach and therefore recommendations have been made for triangulation to be carried out from a pragmatic, or subtle realist, approach"
   ]
  },
  {
   "cell_type": "markdown",
   "id": "0fca9103",
   "metadata": {},
   "source": [
    "**6. What are the various histogram shapes? What exactly are ‘bins'?**"
   ]
  },
  {
   "cell_type": "markdown",
   "id": "42469159",
   "metadata": {},
   "source": [
    "**Ans:** \n",
    "\n",
    "There are various shapes of histogram which shows the distribution of the data.\n",
    "- **Bell-shaped**: A bell-shaped histogram, usually presents a normal distribution.\n",
    "- **Bimodal**: A bimodal shape histogram, has two peaks. This shape may show that the data has come from two different systems\n",
    "- **Right Skewed**: Some histograms will show a skewed distribution to the right, as shown below. A distribution skewed to the right is said to be positively skewed. This kind of distribution has a large number of occurrences in the lower value cells (left side) and few in the upper value cells (right side). \n",
    "- **Left Skewed**: Some histograms will show a skewed distribution to the left, as shown below. A distribution skewed to the left is said to be negatively skewed. This kind of distribution has a large number of occurrences in the upper value cells (right side) and few in the lower value cells (left side). \n",
    "- **Uniform**: An uniform distribution, as shown below, provides little information about the system. An example would be a state lottery, in which each class has about the same number of elements. It may describe a distribution which has several modes (peaks). If your histogram has this shape, check to see if several sources of variation have been combined. If so, analyze them separately. If multiple sources of variation do not seem to be the cause of this pattern, different groupings can be tried to see if a more useful pattern results. This could be as simple as changing the starting and ending points of the cells, or changing the number of cells. An uniform distribution often means that the number of classes is too small.\n",
    "- **Random**: A random distribution, as shown below, has no apparent pattern. Like the uniform distribution, it may describe a distribution that has several modes (peaks). If your histogram has this shape, check to see if several sources of variation have been combined. If so, analyze them separately. If multiple sources of variation do not seem to be the cause of this pattern, different groupings can be tried to see if a more useful pattern results. This could be as simple as changing the starting and ending points of the cells, or changing the number of cells. A random distribution often means there are too many classes."
   ]
  },
  {
   "cell_type": "code",
   "execution_count": 41,
   "id": "de2cc8d0",
   "metadata": {},
   "outputs": [
    {
     "data": {
      "image/png": "[encoded data removed]",
      "text/plain": [
       "<IPython.core.display.Image object>"
      ]
     },
     "execution_count": 41,
     "metadata": {},
     "output_type": "execute_result"
    }
   ],
   "source": [
    "from IPython import display\n",
    "display.Image(\"Screenshot_65.png\")"
   ]
  },
  {
   "cell_type": "code",
   "execution_count": 42,
   "id": "d1103c86",
   "metadata": {},
   "outputs": [
    {
     "data": {
      "image/png": "[encoded data removed]",
      "text/plain": [
       "<IPython.core.display.Image object>"
      ]
     },
     "execution_count": 42,
     "metadata": {},
     "output_type": "execute_result"
    }
   ],
   "source": [
    "display.Image(\"Screenshot_66.png\")"
   ]
  },
  {
   "cell_type": "code",
   "execution_count": 43,
   "id": "f07a1c3e",
   "metadata": {},
   "outputs": [
    {
     "data": {
      "image/png": "[encoded data removed]",
      "text/plain": [
       "<IPython.core.display.Image object>"
      ]
     },
     "execution_count": 43,
     "metadata": {},
     "output_type": "execute_result"
    }
   ],
   "source": [
    "display.Image(\"Screenshot_67.png\")"
   ]
  },
  {
   "cell_type": "code",
   "execution_count": 44,
   "id": "5afb0d1b",
   "metadata": {},
   "outputs": [
    {
     "data": {
      "image/png": "[encoded data removed]",
      "text/plain": [
       "<IPython.core.display.Image object>"
      ]
     },
     "execution_count": 44,
     "metadata": {},
     "output_type": "execute_result"
    }
   ],
   "source": [
    "display.Image(\"Screenshot_68.png\")"
   ]
  },
  {
   "cell_type": "code",
   "execution_count": 45,
   "id": "68244ecb",
   "metadata": {},
   "outputs": [
    {
     "data": {
      "image/png": "[encoded data removed]",
      "text/plain": [
       "<IPython.core.display.Image object>"
      ]
     },
     "execution_count": 45,
     "metadata": {},
     "output_type": "execute_result"
    }
   ],
   "source": [
    "display.Image(\"Screenshot_69.png\")"
   ]
  },
  {
   "cell_type": "code",
   "execution_count": 46,
   "id": "0dfac32f",
   "metadata": {},
   "outputs": [
    {
     "data": {
      "image/png": "[encoded data removed]",
      "text/plain": [
       "<IPython.core.display.Image object>"
      ]
     },
     "execution_count": 46,
     "metadata": {},
     "output_type": "execute_result"
    }
   ],
   "source": [
    "display.Image(\"Screenshot_70.png\")"
   ]
  },
  {
   "cell_type": "markdown",
   "id": "5435fbe9",
   "metadata": {},
   "source": [
    "**7. How do we deal with data outliers?**"
   ]
  },
  {
   "cell_type": "markdown",
   "id": "0d77ee34",
   "metadata": {},
   "source": [
    "**Ans:** \n",
    "\n",
    "The outlier handling method can vary from case to case and should be discussed with the business before finalizing the method. There are different approaches such as replacing the outlier with the mean value, mode value or median value imputation or in some cases dropping the observation with the suspected outlier so as to avoid any bias in them. We tend to delete the outlier if they are due to data entry errors caused due to human error, data processing errors.\n",
    "\n",
    "\n",
    "Depending on the size of the data set it is advisable to treat the outliers separately during model fitting and build a different model which can fit the outliers and a separate model for the rest of the dataset but this process can be time-consuming and add to the cost."
   ]
  },
  {
   "cell_type": "markdown",
   "id": "6218231b",
   "metadata": {},
   "source": [
    "**8. What are the various central inclination measures? Why does mean vary too much from median in certain data sets?**"
   ]
  },
  {
   "cell_type": "markdown",
   "id": "da935bf3",
   "metadata": {},
   "source": [
    "**Ans:** \n",
    "\n",
    "Various central inclination measures are mean, median and mode. If a dataset is normally distributed then the value of mean = median = mode. If dataset is right skewed or left skewed distributed then mean vary too much from median."
   ]
  },
  {
   "cell_type": "markdown",
   "id": "bf099ee0",
   "metadata": {},
   "source": [
    "**9. Describe how a scatter plot can be used to investigate bivariate relationships. Is it possible to find outliers using a scatter plot?**"
   ]
  },
  {
   "cell_type": "markdown",
   "id": "16cd1000",
   "metadata": {},
   "source": [
    "**Ans:** \n",
    "\n",
    "To bivariate relationship we can use scatter plot. Which shows the tendency of the data. eg: positive or negative linear relationship. \n",
    "\n",
    "A scatter plot is useful to find outliers in bivariate data. We can easily spot the outliers because they will be far away from the majority of points on the scatter plot"
   ]
  },
  {
   "cell_type": "markdown",
   "id": "0a3c2312",
   "metadata": {},
   "source": [
    "**10. Describe how cross-tabs can be used to figure out, how two variables are related.**"
   ]
  },
  {
   "cell_type": "markdown",
   "id": "3f28bff3",
   "metadata": {},
   "source": [
    "**Ans:** \n",
    "\n",
    "Cross tabulation is a method to quantitatively analyze the relationship between multiple variables. Also known as contingency tables or cross tabs, cross tabulation groups variables to understand the correlation between different variables. It also shows how correlations change from one variable grouping to another."
   ]
  },
  {
   "cell_type": "code",
   "execution_count": null,
   "id": "613935fe",
   "metadata": {},
   "outputs": [],
   "source": []
  }
 ],
 "metadata": {
  "kernelspec": {
   "display_name": "Python 3 (ipykernel)",
   "language": "python",
   "name": "python3"
  },
  "language_info": {
   "codemirror_mode": {
    "name": "ipython",
    "version": 3
   },
   "file_extension": ".py",
   "mimetype": "text/x-python",
   "name": "python",
   "nbconvert_exporter": "python",
   "pygments_lexer": "ipython3",
   "version": "3.9.13"
  }
 },
 "nbformat": 4,
 "nbformat_minor": 5
}
