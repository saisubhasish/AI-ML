{
 "cells": [
  {
   "cell_type": "markdown",
   "id": "196674d0",
   "metadata": {},
   "source": [
    "**1.Explain the term machine learning, and how does it work? Explain two machine learning applications in the business world. What are some of the ethical concerns that machine learning applications could raise?**"
   ]
  },
  {
   "cell_type": "markdown",
   "id": "a55dbccb",
   "metadata": {},
   "source": [
    "**Ans**\n",
    "\n",
    "**Learning means finding out the pattern.**\n",
    "\n",
    "\n",
    "Machine Learning is finding out the relationship between data using some mathematical equation, so that system will be able to learn and adopt the instructions. \n",
    "\n",
    "Here we automate the entire process, so ML system works automatically by learning the pattern without human intervention.\n",
    "\n",
    "Machine learning applications in the business world:\n",
    "\n",
    "Finance\n",
    "- Algo trading\n",
    "- Creditcard fault detection\n",
    "- Chat-bots\n",
    "- Sentiment Analysis\n",
    "\n",
    "\n",
    "Healthcare\n",
    "- Cancer diagnosis\n",
    "- Thyroid Detection"
   ]
  },
  {
   "cell_type": "markdown",
   "id": "107b7f76",
   "metadata": {},
   "source": [
    "**2. Describe the process of human learning:**\n",
    "\n",
    "           i. Under the supervision of experts\n",
    "\n",
    "           ii. With the assistance of experts in an indirect manner\n",
    "\n",
    "            iii. Self-education\n"
   ]
  },
  {
   "cell_type": "markdown",
   "id": "76e8784f",
   "metadata": {},
   "source": [
    "**Ans**\n",
    "\n",
    "Human learning process is described below :\n",
    "\n",
    "\n",
    "**Under the supervision of experts:** Human-guided machine learning is a process whereby subject matter experts accelerate the learning process by teaching the technology in real-time. For example, if the machine learning model comes across a piece of data it is uncertain about, a human can be asked to weigh in and give feedback. The model then learns from this input, and uses it to make a more accurate prediction the next time. Human-guided machine learning works from the bottom up by first using algorithms to conduct the heavy lifting of identifying relationships within the data, and engaging humans when necessary for training or validation Concept Learning.\n",
    "\n",
    "**With the assistance of experts in an indirect manner:** Indirect guidance is provided through learners actively observing, listening, and engaging with social practices and norms, which serve to furnish models and goals for performance and individuals' learning. The exercise of learner agency is a defining quality of guided learning.\n",
    "\n",
    "**Self education:** Self-learning is the method of gathering, processing, and retaining knowledge without the help of another person. Any knowledge you get outside of a formal educational setting, such as through self-study or experience, is self-driven learning."
   ]
  },
  {
   "cell_type": "markdown",
   "id": "8ffd6941",
   "metadata": {},
   "source": [
    "**3. Provide a few examples of various types of machine learning.**"
   ]
  },
  {
   "cell_type": "markdown",
   "id": "170e325c",
   "metadata": {},
   "source": [
    "**Ans**\n",
    "\n",
    "Types of machine learning:\n",
    "\n",
    "**1. Supervised Learning**\n",
    "- Regression\n",
    "- Classification\n",
    "\n",
    "eg: Speech recognition, Product Recommendations, Customer churn decrease, Sales Forecasting\n",
    "\n",
    "**2. Un-supervised Learning**\n",
    "- clustering\n",
    "- association\n",
    "- dimensionality reduction\n",
    "\n",
    "eg: Customer segmentation, Spam filter, Medical imaging, recommender systems\n",
    "\n",
    "**3. Semi-supervised Learning**\n",
    "\n",
    "eg: Web Content Classification, Text document classification\n",
    "\n",
    "**4. Reinforcement Learning**\n",
    "\n",
    "eg: self-driving cars, trading"
   ]
  },
  {
   "cell_type": "markdown",
   "id": "0c668c4b",
   "metadata": {},
   "source": [
    "**4. Examine the various forms of machine learning.**"
   ]
  },
  {
   "cell_type": "markdown",
   "id": "7484a7fe",
   "metadata": {},
   "source": [
    "**Ans**\n",
    "\n",
    "The four different types of machine learning are:\n",
    "- Supervised Learning.\n",
    "- Unsupervised Learning.\n",
    "- Semi-Supervised Learning.\n",
    "- Reinforced Learning."
   ]
  },
  {
   "cell_type": "markdown",
   "id": "67ca5796",
   "metadata": {},
   "source": [
    "**5. Can you explain what a well-posed learning problem is? Explain the main characteristics that must be present to identify a learning problem properly.**"
   ]
  },
  {
   "cell_type": "markdown",
   "id": "c26b370d",
   "metadata": {},
   "source": [
    "**Ans**\n",
    "\n",
    "Well Posed Learning Problem – A computer program is said to learn from experience E in context to some task T and some performance measure P, if its performance on T, as was measured by P, upgrades with experience E. Any problem can be segregated as well-posed learning problem if it has three traits – **Task, Performance and Experience.**"
   ]
  },
  {
   "cell_type": "markdown",
   "id": "cf2f6188",
   "metadata": {},
   "source": [
    "**6. Is machine learning capable of solving all problems? Give a detailed explanation of your answer.**"
   ]
  },
  {
   "cell_type": "markdown",
   "id": "06f09710",
   "metadata": {},
   "source": [
    "**Ans**\n",
    "\n",
    "However, it is important to understand that machine learning is not the answer to all problems. Given the usefulness of machine learning, it can be hard to accept that sometimes it is not the best solution to a problem. to solve a problem some concerns are:\n",
    "\n",
    "**Ethics:** The idea of trusting data and algorithms more than our own judgment has its pros and cons.Obviously, we benefit from these algorithms, otherwise, we wouldn’t be using them in the first place. These algorithms allow us to automate processes by making informed judgments using available data. Sometimes, however, this means replacing someone’s job with an algorithm, which comes with ethical ramifications.\n",
    "\n",
    "**Deterministic Problem:** Machine learning is stochastic, not deterministic. A neural network does not understand Newton’s second law, or that density cannot be negative — there are no physical constraints.\n",
    "\n",
    "**Lack of Data:** Many machine learning algorithms require large amounts of data before they begin to give useful results."
   ]
  },
  {
   "cell_type": "markdown",
   "id": "568a2f6c",
   "metadata": {},
   "source": [
    "**7. What are the various methods and technologies for solving machine learning problems? Any two of them should be defined in detail.**"
   ]
  },
  {
   "cell_type": "markdown",
   "id": "c583ec4a",
   "metadata": {},
   "source": [
    "**Ans**\n",
    "\n",
    "The Various Technologies Used in Machine Learning Problems are: Scikit Learn, Pytorch, Tensorflow, Keras, Python.\n",
    "\n",
    "- **Scikit Learn:** Scikit-learn (Sklearn) is the most useful and robust library for machine learning in Python. It provides a selection of efficient tools for machine learning and statistical modeling including classification, Regression, clustering and dimensionality reduction via a consistence interface in Python.\n",
    "- **Tensorflow:** It is an open source artificial intelligence library, Using data flow graphs to build models. It allows developers to create large-scale neural networks with many layers. And to create transfer learning pretrained models. TensorFlow is mainly used for: Classification, Perception, Understanding, Discovering, Prediction and Creation.\n",
    "\n",
    "The Various Methods used in Machine Learning Problems are: Regression, Classification, Clustering, Dimensionality Reduction, Ensemble Methods, Neural Network, Deep Learning, Transfer Learning, Reinforcement Learning, Natural Language Processing, Word Embeddings.\n",
    "\n",
    "Regression methods fall within the category of supervised ML. They help to predict or explain a particular numerical value based on a set of prior data, for example predicting the price of a property based on previous pricing data for similar properties.\n",
    "\n",
    "Another class of supervised ML, classification methods predict or explain a class value. For example, they can help predict whether or not an online customer will buy a product. The output can be yes or no, buyer or not buyer. But classification methods aren’t limited to two classes. For example, a classification method could help to assess whether a given image contains a car or a truck. In this case, the output will be 3 different values:\n",
    "\n",
    "1. The image contains a car\n",
    "2. The image contains a truck\n",
    "3. The image contains neither a car nor a truck."
   ]
  },
  {
   "cell_type": "markdown",
   "id": "602a9ab2",
   "metadata": {},
   "source": [
    "**8. Can you explain the various forms of supervised learning? Explain each one with an example application.**"
   ]
  },
  {
   "cell_type": "markdown",
   "id": "eff353aa",
   "metadata": {},
   "source": [
    "**Ans**\n",
    "\n",
    "The various forms of supervised learning are explained in detail below:\n",
    "\n",
    "1. **Regression:** In regression, a numeric output value is produced using training data. It can be simple linear regression(Single input value) or muliple linear regression(multiple input values). For example, regression can help predict the price of a house based on its locality, size, etc.\n",
    "2. **Classification:** It involves grouping the data into classes.eg. If you are thinking of extending credit to a person, you can use classification to determine whether or not a person would be a loan defaulter."
   ]
  },
  {
   "cell_type": "markdown",
   "id": "f1f64d44",
   "metadata": {},
   "source": [
    "**9. What is the difference between supervised and unsupervised learning? With a sample application in each region, explain the difference**"
   ]
  },
  {
   "cell_type": "markdown",
   "id": "cb11fae5",
   "metadata": {},
   "source": [
    "**Ans**\n",
    "\n",
    "Supervised learning algorithms are trained using labeled data. Unsupervised learning algorithms are trained using unlabeled data.In unsupervised learning, only input data is provided to the model, no label is being provided. Based on similirity of features by measuring the eucledian distance algorithm itself performs segmentation of the data.\n",
    "\n",
    "Examples:\n",
    "\n",
    "- Supervised Learning : Classification and Regression.\n",
    "- Unsuperised Learning : Clustering."
   ]
  },
  {
   "cell_type": "markdown",
   "id": "30cdded3",
   "metadata": {},
   "source": [
    "**10. Describe the machine learning process in depth.**\n",
    "\n",
    "a. Make brief notes on any two of the following:\n",
    "\n",
    "        i. MATLAB is one of the most widely used programming languages.\n",
    "\n",
    "        ii. Deep learning applications in healthcare\n",
    "\n",
    "        iii. Study of the market basket\n",
    "\n",
    "         iv. Linear regression (simple)"
   ]
  },
  {
   "cell_type": "markdown",
   "id": "7bfbb1f6",
   "metadata": {},
   "source": [
    "**Ans**\n",
    "\n",
    "**MATLAB is one of the most widely used programming languages.**\n",
    "Imagine a dataset as a table, where the rows are each observation (aka measurement, data point, etc), and the columns for each observation represent the features of that observation and their values.At the outset of a machine learning project, a dataset is usually split into two or three subsets. The minimum subsets are the training and test datasets, and often an optional third validation dataset is created as well. Once these data subsets are created from the primary dataset, a predictive model or classifier is trained using the training data, and then the model’s predictive accuracy is determined using the test data. As, machine learning leverages algorithms to automatically model and find patternsing data, usually with the goal of predicting some target output or response. These algorithms are heavily based on statistics and mathematical optimization. Optimization is the process of finding the smallest or largest value (minima or maxima) of a function, often referred to as a loss, or cost function in the minimization case. One of the most popular optimization algorithms used in machine learning is called gradient descent, and another is known as the the normal equation. In a nutshell, machine learning is all about automatically learning a highly accurate predictive or classifier model, or finding unknown patterns in data, by leveraging learning algorithms and optimization techniques.\n",
    "\n",
    "**Deep learning applications in healthcare:** Deep learning provides the healthcare industry with the ability to analyze data at exceptional speeds without compromising on accuracy. It’s not machine learning, nor is it AI, it’s an elegant blend of both that uses a layered algorithmic architecture to sift through data at an astonishing rate. The benefits of deep learning in healthcare are plentiful – fast, efficient, accurate – but they don’t stop there. Even more benefits lie within the neural networks formed by multiple layers of AI and ML and their ability to learn. Yes, the secret to deep learning’s success is in the name – learning.\n",
    "\n",
    "**Linear regression (simple):** Linear Regression models describe the relationship between variables by fitting a line to the observed data. Linear regression models use a straight line, while logistic and nonlinear regression models use a curved line. Regression allows you to estimate how a dependent variable changes as the independent variable(s) change"
   ]
  },
  {
   "cell_type": "markdown",
   "id": "978f493d",
   "metadata": {},
   "source": [
    "**11. Make a comparison between:-**\n",
    "\n",
    "         1. Generalization and abstraction\n",
    "\n",
    "          2. Learning that is guided and unsupervised\n",
    "\n",
    "          3. Regression and classification\n"
   ]
  },
  {
   "cell_type": "markdown",
   "id": "0ca984a2",
   "metadata": {},
   "source": [
    "The differences between the given concepts is:\n",
    "\n",
    "**Generalization and abstraction:** Abstraction is the process of removing details of objects. And Generalization, then, is the formulation of general concepts from specific instances by abstracting common properties. A concrete object can be looked at as a “subset” of a more generalized object.\n",
    "\n",
    "**Learning that is guided and Unsupervised:** Guided learning is the method that trains machines to use data that is well classified and labeled. Whereas Unsupervised learning, on the other hand, is the method that trains machines to use data that is neither classified nor labeled.\n",
    "\n",
    "**Regression and classification:**\n",
    "\n",
    "**Regression Models–** Regression models are used for problems where the output variable is a numeric value such as an unique number, dollars, salary, weight or pressure, for example. It is most often used to predict numerical values based on previous data observations. Some of the more familiar regression algorithms include linear regression, polynomial regression, and ridge regression.\n",
    "\n",
    "**Classification Models–** Classification models are used for problems where the output variable can be categorized, such as Yes or No, or Pass or Fail. Classification Models are used to predict the category of the data. Real-life examples include spam detection, sentiment analysis, scorecard prediction of exams, etc."
   ]
  },
  {
   "cell_type": "code",
   "execution_count": null,
   "id": "71eaf1ba",
   "metadata": {},
   "outputs": [],
   "source": []
  }
 ],
 "metadata": {
  "kernelspec": {
   "display_name": "Python 3 (ipykernel)",
   "language": "python",
   "name": "python3"
  },
  "language_info": {
   "codemirror_mode": {
    "name": "ipython",
    "version": 3
   },
   "file_extension": ".py",
   "mimetype": "text/x-python",
   "name": "python",
   "nbconvert_exporter": "python",
   "pygments_lexer": "ipython3",
   "version": "3.9.13"
  }
 },
 "nbformat": 4,
 "nbformat_minor": 5
}
