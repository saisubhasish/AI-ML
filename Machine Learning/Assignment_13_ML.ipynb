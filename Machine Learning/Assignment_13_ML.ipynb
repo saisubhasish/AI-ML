{
 "cells": [
  {
   "cell_type": "markdown",
   "id": "b2aa57f2",
   "metadata": {},
   "source": [
    "# Assignment 13 Solutions"
   ]
  },
  {
   "cell_type": "markdown",
   "id": "111120c6",
   "metadata": {},
   "source": [
    "**1. Provide an example of the concepts of Prior, Posterior, and Likelihood ?**"
   ]
  },
  {
   "cell_type": "markdown",
   "id": "5b8cf21e",
   "metadata": {},
   "source": [
    "**Ans:**\n",
    "    \n",
    "Bayes theorem states the following:\n",
    "\n",
    "Posterior = Prior * Likelihood\n",
    "\n",
    "This can also be stated as P (A | B) = (P (B | A) * P(A)) / P(B) , where P(A|B) is the probability of A given B, also called posterior.\n",
    "\n",
    "Prior: Probability distribution representing knowledge or uncertainty of a data object prior or before observing it\n",
    "\n",
    "Posterior: Conditional probability distribution representing what parameters are likely after observing the data object\n",
    "\n",
    "Likelihood: The probability of falling under a specific category or class.\n",
    "\n",
    "For example, if you are classifying the buyers of a specific car, you might already know that 60% of purchasers are male and 40% are female. If you know or can estimate these probabilities, a discriminant analysis can use these prior probabilities in calculating the posterior probabilities."
   ]
  },
  {
   "cell_type": "markdown",
   "id": "4ae857d4",
   "metadata": {},
   "source": [
    "**2. What role does Bayes' theorem play in the concept learning principle ?**"
   ]
  },
  {
   "cell_type": "markdown",
   "id": "ea0231c8",
   "metadata": {},
   "source": [
    "**Ans:**\n",
    "\n",
    "Bayes theorem helps to determine the probability of an event with random knowledge. It is used to calculate the probability of occurring one event while other one already occurred. It is a best method to relate the condition probability and marginal probability."
   ]
  },
  {
   "cell_type": "markdown",
   "id": "c981ac1e",
   "metadata": {},
   "source": [
    "**3. Offer an example of how the Nave Bayes classifier is used in real life ?**"
   ]
  },
  {
   "cell_type": "markdown",
   "id": "ae03223b",
   "metadata": {},
   "source": [
    "**Ans:**\n",
    "\n",
    "Naive Bayes easily in real life sorts out spam using keywords. For example, in spam, you can see the word 'viagra' much more often than in regular mail. The algorithm must be trained to recognize such probabilities and, then, it can efficiently apply them for spam filtering. Sentiment analysis."
   ]
  },
  {
   "cell_type": "markdown",
   "id": "07ab2a64",
   "metadata": {},
   "source": [
    "**4. Can the Nave Bayes classifier be used on continuous numeric data? If so, how can you go about doing it ?**"
   ]
  },
  {
   "cell_type": "markdown",
   "id": "d343040c",
   "metadata": {},
   "source": [
    "**Ans:**\n",
    "\n",
    "Yes naive Bayes classification can be used with numeric predictor values. When characteristic values are continuous in nature then an assumption is made that the values linked with each class are dispersed according to Gaussian that is Normal Distribution, hence Gaussian Naïve Bayes is used."
   ]
  },
  {
   "cell_type": "markdown",
   "id": "0be2162e",
   "metadata": {},
   "source": [
    "**5. What are Bayesian Belief Networks, and how do they work? What are their applications? Are they capable of resolving a wide range of issues ?**"
   ]
  },
  {
   "cell_type": "markdown",
   "id": "a36e1367",
   "metadata": {},
   "source": [
    "**Ans:**\n",
    "\n",
    "Bayesian belief network is a useful way to represent probabilistic models and visualize them.\n",
    "\n",
    "Bayesian Networks can be useful in many streams. Application of Bayesian belief network happens in the stream of an optimized search engine, diagnosis of different diseases, filtering spam emails, gene regulatory networks, and a lot more.\n",
    "\n",
    "The main aim of this network is to understand the concept of causality relations. To begin with, let’s think of this as a diagnosis of a disease. The symptoms are in front of your eyes, and you can determine the condition by seeing the symptoms. The Bayesian Belief network works similarly to detecting disease by examining symptoms. For example, when a new patient comes, you determine possible diseases they might have after checking their symptoms. The network is also providing the probabilities for every single disease.\n",
    "\n",
    "It performs poorly on high dimensional data."
   ]
  },
  {
   "cell_type": "markdown",
   "id": "a96163dd",
   "metadata": {},
   "source": [
    "**6. Passengers are checked in an airport screening system to see if there is an intruder. Let I be the random variable that indicates whether someone is an intruder I = 1) or not I = 0), and A be the variable that indicates alarm I = 0). If an intruder is detected with probability P(A = 1|I = 1) = 0.98 and a non-intruder is detected with probability P(A = 1|I = 0) = 0.001, an alarm will be triggered, implying the error factor. The likelihood of an intruder in the passenger population is P(I = 1) = 0.00001. What are the chances that an alarm would be triggered when an individual is actually an intruder ?**"
   ]
  },
  {
   "cell_type": "markdown",
   "id": "364d5445",
   "metadata": {},
   "source": [
    "**Ans:**\n",
    "\n",
    "P(A = 1|I = 1)  = P(I = 1|A = 1)P(A = 1)/P(A = 1)\n",
    "\n",
    "                = P(I = 1|A = 1)P(A = 1)/P(A = 1|T = 1)P(T = 1) + P(A = 1|T = 0)P(T = 0)\n",
    "                = (0.98 × 0.00001)/0.98 × 0.00001 + 0.001 × (1 − 0.00001) = 0.0097\n",
    "                = 0.00001/0.001\n",
    "                = 0.01 "
   ]
  },
  {
   "cell_type": "markdown",
   "id": "6b3b649e",
   "metadata": {},
   "source": [
    "**7. An antibiotic resistance test (random variable T) has 1% false positives (i.e., 1% of those who are not immune to an antibiotic display a positive result in the test) and 5% false negatives (i.e., 1% of those who are not resistant to an antibiotic show a positive result in the test) (i.e. 5 percent of those actually resistant to an antibiotic test negative). Assume that 2% of those who were screened were antibiotic-resistant. Calculate the likelihood that a person who tests positive is actually immune (random variable D) ?**"
   ]
  },
  {
   "cell_type": "markdown",
   "id": "9954ce45",
   "metadata": {},
   "source": [
    "**Ans:**\n",
    "\n",
    "T = p means Test positive,\n",
    "\n",
    "T = n means Test negative,\n",
    "\n",
    "D = p means person takes drug,\n",
    "\n",
    "D = n means person does not take drugs\n",
    "\n",
    "We know:\n",
    "\n",
    "P(T = p|D = n) = 0.01 (false positives) \n",
    "\n",
    "(false negatives) P(T = n|D = p) = 0.05 =⇒ P(T = p|D = p) = 0.95 (true positives) \n",
    "\n",
    "P(D = p) = 0.02 =⇒ P(D = n) = 0.98 \n",
    "\n",
    "We want to know the probability that somebody who tests positive is actually taking drugs:\n",
    "\n",
    "P(D = p|T = p) = P(T = p|D = p)P(D = p)/P(T = p) * (Bayes theorem)\n",
    "\n",
    "We do not know P(T = p):\n",
    "\n",
    "P(T = p) = P(T = p|D = p)P(D = p) + P(T = p|D = n)P(D = n)\n",
    "\n",
    "We get:\n",
    "\n",
    "P(D = p|T = p) = P(T = p|D = p)P(D = p)/P(T = p)\n",
    "\n",
    "                = (P(T = p|D = p)P(D = p))/(P(T = p|D = p)P(D = p) + P(T = p|D = n)P(D = n))\n",
    "\n",
    "                = (0.95 · 0.02)/(0.95 · 0.02 + 0.01 · 0.98)\n",
    "\n",
    "                = 0.019/0.0288 ≈ 0.66"
   ]
  },
  {
   "cell_type": "markdown",
   "id": "54020cf8",
   "metadata": {},
   "source": [
    "**8. In order to prepare for the test, a student knows that there will be one question in the exam that is either form A, B, or C. The chances of getting an A, B, or C on the exam are 30 percent, 20%, and 50 percent, respectively. During the planning, the student solved 9 of 10 type A problems, 2 of 10 type B problems, and 6 of 10 type C problems.**\n",
    "1. What is the likelihood that the student can solve the exam problem?\n",
    "2. Given the student's solution, what is the likelihood that the problem was of form A?"
   ]
  },
  {
   "cell_type": "markdown",
   "id": "91c40b74",
   "metadata": {},
   "source": [
    "**Ans:**\n",
    "    \n",
    "1. The probability to solve the problem of the exam is the probability of getting a problem of\n",
    "a certain type times the probability of solving such a problem, summed over all types. This is known\n",
    "as the total probability.\n",
    "\n",
    "P(solved) = P(solved|A)P(A) + P(solved|B)P(B) + P(solved|C)P(C)\n",
    "\n",
    "            = 9/10 · 30% + 2/10 · 20% + 6/10 · 50%\n",
    "\n",
    "            = 27/100 + 4/100 + 30/100 = 61/100 = 0.61  \n",
    "            \n",
    "2. : For this to answer we need Bayes theorem.\n",
    "\n",
    "P(A|solved) = P(solved|A)P(A)/P(solved)\n",
    "\n",
    "            = (9/10 · 30%)/(61/100)\n",
    "\n",
    "            = (27/100)/(61/100)\n",
    "            \n",
    "            = 27/61\n",
    "            \n",
    "            = 0.442... ."
   ]
  },
  {
   "cell_type": "markdown",
   "id": "9db681d1",
   "metadata": {},
   "source": [
    "**9. A bank installs a CCTV system to track and photograph incoming customers. Despite the constant influx of customers, we divide the timeline into 5 minute bins. There may be a customer coming into the bank with a 5% chance in each 5-minute time period, or there may be no customer (again, for simplicity, we assume that either there is 1 customer or none, not the case of multiple customers). If there is a client, the CCTV will detect them with a 99 percent probability. If there is no customer, the camera can take a false photograph with a 10% chance of detecting movement from other objects.**\n",
    "1. How many customers come into the bank on a daily basis (10 hours)?\n",
    "2. On a daily basis, how many fake photographs (photographs taken when there is no customer) and how many missed photographs (photographs taken when there is a customer) are there?\n",
    "3. Explain likelihood that there is a customer if there is a photograph?"
   ]
  },
  {
   "cell_type": "markdown",
   "id": "c02bdf08",
   "metadata": {},
   "source": [
    "**Ans:**"
   ]
  },
  {
   "cell_type": "markdown",
   "id": "5b686929",
   "metadata": {},
   "source": [
    "**10. Create the conditional probability table associated with the node Won Toss in the Bayesian Belief network to represent the conditional independence assumptions of the Nave Bayes classifier for the match winning prediction problem in Section 6.4.4.?**"
   ]
  },
  {
   "cell_type": "markdown",
   "id": "06460fd3",
   "metadata": {},
   "source": [
    "**Ans:**"
   ]
  },
  {
   "cell_type": "code",
   "execution_count": null,
   "id": "dac6c039",
   "metadata": {},
   "outputs": [],
   "source": []
  }
 ],
 "metadata": {
  "kernelspec": {
   "display_name": "Python 3 (ipykernel)",
   "language": "python",
   "name": "python3"
  },
  "language_info": {
   "codemirror_mode": {
    "name": "ipython",
    "version": 3
   },
   "file_extension": ".py",
   "mimetype": "text/x-python",
   "name": "python",
   "nbconvert_exporter": "python",
   "pygments_lexer": "ipython3",
   "version": "3.9.13"
  }
 },
 "nbformat": 4,
 "nbformat_minor": 5
}
