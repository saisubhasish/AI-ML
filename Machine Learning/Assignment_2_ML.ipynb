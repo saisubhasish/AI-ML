{
 "cells": [
  {
   "cell_type": "markdown",
   "id": "60f992f1",
   "metadata": {},
   "source": [
    "**1. What is the concept of human learning? Please give two examples.**"
   ]
  },
  {
   "cell_type": "markdown",
   "id": "e8e993ae",
   "metadata": {},
   "source": [
    "**Ans**\n",
    "\n",
    "Human learning is the form of learning which requires higher order mental processes like thinking, reasoning, intelligence, etc.We learn different concepts from childhood. For example:\n",
    "\n",
    "- Learning through Association - Classical Conditioning.\n",
    "- Learning through consequences – Operant Conditioning.\n",
    "- Learning through observation – Modeling/Observational Learning."
   ]
  },
  {
   "cell_type": "markdown",
   "id": "a161aa21",
   "metadata": {},
   "source": [
    "**2. What different forms of human learning are there? Are there any machine learning equivalents?**"
   ]
  },
  {
   "cell_type": "markdown",
   "id": "bf00a519",
   "metadata": {},
   "source": [
    "**Ans**\n",
    "\n",
    "Different forms of human learning are as follows :\n",
    "- Learning through Association, Learning through consequences, Learning through observation\n",
    "- Forms of Machine Learning are Reinforcement Learning, Supervised Learning, Unsupervised Learning.\n",
    "- ML equivalents human learnings are :  \n",
    "i) Learning through Association - Unsupervised learning\n",
    "ii) Learning through consequences - Reinforcement Learning\n",
    "iii) Learning through observation - Supervised Learning"
   ]
  },
  {
   "cell_type": "markdown",
   "id": "e28e8b14",
   "metadata": {},
   "source": [
    "**3. What is machine learning, and how does it work? What are the key responsibilities of machine learning?**"
   ]
  },
  {
   "cell_type": "markdown",
   "id": "e16261e6",
   "metadata": {},
   "source": [
    "**Ans**\n",
    "\n",
    "- Machine learning is a branch of Artificial intelligence (AI) that teaches computers on how to think in a similar way just like humans do, like by learning and improving upon past experiences.\n",
    "\n",
    "- It works by exploring data and identifying patterns, and involves minimal human intervention.\n",
    "\n",
    "\n",
    "\n",
    "Roles and responsibilities of a machine learning engineer are:\n",
    "\n",
    "- Designing ML systems.\n",
    "- Researching and implementing ML algorithms and tools. Selecting appropriate data sets.\n",
    "- Picking appropriate data representation methods. Identifying differences in data distribution that affects model performance. Verifying data quality."
   ]
  },
  {
   "cell_type": "markdown",
   "id": "b182237e",
   "metadata": {},
   "source": [
    "**4. Define the terms \"penalty\" and \"reward\" in the context of reinforcement learning.**"
   ]
  },
  {
   "cell_type": "markdown",
   "id": "b68b7c5f",
   "metadata": {},
   "source": [
    "**Ans**\n",
    "\n",
    "- In Reinforcement Learning the system interacts with environment and learn form it's mistakes and correct actions. For correct actions the system gets reward and for mistakes it gets penalty. \n",
    "- System learns without human intervention by maximizing the reward and minimizing the penalty."
   ]
  },
  {
   "cell_type": "markdown",
   "id": "3480fefd",
   "metadata": {},
   "source": [
    "**5. Explain the term \"learning as a search\"?**"
   ]
  },
  {
   "cell_type": "markdown",
   "id": "6bd0006d",
   "metadata": {},
   "source": [
    "**Ans**\n",
    "\n",
    "Learning can be viewed as a search through the space of all sentences in a concept description language for a sentence that best describes the data. Alternatively, it can be viewed as a search through all hypotheses in a hypothesis space"
   ]
  },
  {
   "cell_type": "markdown",
   "id": "e81eb00c",
   "metadata": {},
   "source": [
    "**6. What are the various goals of machine learning? What is the relationship between these and human learning?**"
   ]
  },
  {
   "cell_type": "markdown",
   "id": "e7432020",
   "metadata": {},
   "source": [
    "**Ans**\n",
    "\n",
    "The goals of machine learning are :\n",
    "\n",
    "\n",
    "(1) To make the computers smarter, more intelligent. The more direct objective in this aspect is to develop systems (programs) for specific practical learning tasks in application domains. \n",
    "\n",
    "\n",
    "(2) To develop computational models of human learning process and perform computer simulations.\n",
    "\n",
    "The relationship between these and human learning are humans acquire knowledge through experience either directly or shared by others. Machines acquire knowledge through experience shared in the form of past data.\n",
    "\n",
    "Humans have the ability to learn, however with the progress in artificial intelligence, machine learning has become a resource which can augment or even replace human learning. Learning does not happen all at once, but it builds upon and is shaped by previous knowledge."
   ]
  },
  {
   "cell_type": "markdown",
   "id": "d287788d",
   "metadata": {},
   "source": [
    "**7. Illustrate the various elements of machine learning using a real-life illustration.**"
   ]
  },
  {
   "cell_type": "markdown",
   "id": "c6b5710c",
   "metadata": {},
   "source": [
    "**Ans**\n",
    "\n",
    "The Various elements of the the Machine Learning are:\n",
    "\n",
    "1. Image recognition\n",
    "2. Speech recognition\n",
    "3. Medical diagnosis\n",
    "4. Statistical arbitrage\n",
    "5. Predictive analytics\n",
    "6. Extraction"
   ]
  },
  {
   "cell_type": "markdown",
   "id": "4285e1ad",
   "metadata": {},
   "source": [
    "**8. Provide an example of the abstraction method.**"
   ]
  },
  {
   "cell_type": "markdown",
   "id": "b1790b0d",
   "metadata": {},
   "source": [
    "**Ans**\n",
    "\n",
    "In Machine Learning, Abstraction is supported primarily at the level of modules. This can be justified in two ways: first, Data abstraction is mostly a question of program interfaces and therefore it arises naturally at the point where we have to consider program composition and modules."
   ]
  },
  {
   "cell_type": "markdown",
   "id": "a52c586e",
   "metadata": {},
   "source": [
    "**9. What is the concept of generalization? What function does it play in the machine learning process?**"
   ]
  },
  {
   "cell_type": "markdown",
   "id": "bf69362f",
   "metadata": {},
   "source": [
    "**Ans**\n",
    "\n",
    "- Generalization means reducing the error, where the model is not over-fitted. \n",
    "- In machine learning, generalization is how well a trained model can predict or forecast unseen data. To generalize a model we apply different regularization methods."
   ]
  },
  {
   "cell_type": "markdown",
   "id": "1aeb77f6",
   "metadata": {},
   "source": [
    "**10. What is classification, exactly? What are the main distinctions between classification and regression?**"
   ]
  },
  {
   "cell_type": "markdown",
   "id": "b9bd1048",
   "metadata": {},
   "source": [
    "**Ans**\n",
    "\n",
    "- In Machine Learning, Classification refers to a predictive model is used to predict a class, or label based on input data. Here label refers to a categorical value or binary classification.\n",
    "- Classification is the task of predicting a categorical class. Whereas Regression is the task of predicting a continuous quantity."
   ]
  },
  {
   "cell_type": "markdown",
   "id": "943bcc8b",
   "metadata": {},
   "source": [
    "**11. What is regression, and how does it work? Give an example of a real-world problem that was solved using regression.**"
   ]
  },
  {
   "cell_type": "markdown",
   "id": "dd2c9c2a",
   "metadata": {},
   "source": [
    "**Ans**\n",
    "\n",
    "- In general terms Regression means relation, linear means straight line.  \n",
    "\n",
    "- Regression is a Supervised Machine Learning technique which is used to predict continuous values. The ultimate goal of a regression algorithm is to plot a best-fit line or a curve between the data.\n",
    "\n",
    "- The three main metrics that are used for evaluating the trained regression model are Variance, Bias and Error.\n",
    "\n",
    "- A simple linear regression real life example could mean you finding a relationship between the revenue and temperature, with a sample size for revenue as the dependent variable. In case of multiple variable regression, you can find the relationship between temperature, pricing and number of workers to the revenue.."
   ]
  },
  {
   "cell_type": "markdown",
   "id": "acaf6601",
   "metadata": {},
   "source": [
    "**12. Describe the clustering mechanism in detail.**"
   ]
  },
  {
   "cell_type": "markdown",
   "id": "dcc44b15",
   "metadata": {},
   "source": [
    "**Ans**\n",
    "\n",
    "Clustering is the task of dividing the population or data points into a number of groups such that data points in the same groups are more similar to other data points in the same group than those in other groups. In simple words, the aim is to segregate groups with similar traits and assign them into clusters."
   ]
  },
  {
   "cell_type": "markdown",
   "id": "c370726e",
   "metadata": {},
   "source": [
    "**13. Make brief observations on two of the following topics:**\n",
    "\n",
    "i. Machine learning algorithms are used\n",
    "\n",
    "ii. Studying under supervision\n",
    "\n",
    "iii. Studying without supervision\n",
    "\n",
    "iv. Reinforcement learning is a form of learning based on positive reinforcement.\n"
   ]
  },
  {
   "cell_type": "markdown",
   "id": "0030e779",
   "metadata": {},
   "source": [
    "**Ans**\n",
    "\n",
    "**Machine learning algorithms are used**: At its most basic, Machine Learning uses programmed algorithms that receive and analyse input data to predict output values within an acceptable range. As new data is fed to these algorithms, they learn and optimise their operations to improve performance, developing intelligence over time.\n",
    "\n",
    "**Studying under Supervision**: In machine learning, there are two important categories- Supervised and Unsupervised learning. Supervised learning, an algorithm learns from a training dataset. We know the correct answers or desired output, the algorithm makes predictions using the given dataset and is corrected by the “supervisor”.\n",
    "\n",
    "**Studying without supervision**: In unsupervised learning there won't be any output lavel or supervision in the train dataset. We need to form clusters using algorithms based on similarities of the data points.\n",
    "\n",
    "**Reinforcement learning** is a form of learning based on positive reinforcement. In Reinforcement Learning System learns without human intervention by maximizing the reward and minimizing the penalty. This is called as positive reinforcement. "
   ]
  },
  {
   "cell_type": "code",
   "execution_count": null,
   "id": "4796894a",
   "metadata": {},
   "outputs": [],
   "source": []
  }
 ],
 "metadata": {
  "kernelspec": {
   "display_name": "Python 3 (ipykernel)",
   "language": "python",
   "name": "python3"
  },
  "language_info": {
   "codemirror_mode": {
    "name": "ipython",
    "version": 3
   },
   "file_extension": ".py",
   "mimetype": "text/x-python",
   "name": "python",
   "nbconvert_exporter": "python",
   "pygments_lexer": "ipython3",
   "version": "3.9.13"
  }
 },
 "nbformat": 4,
 "nbformat_minor": 5
}
