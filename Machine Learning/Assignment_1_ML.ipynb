{
 "cells": [
  {
   "cell_type": "markdown",
   "id": "47ddef5f",
   "metadata": {},
   "source": [
    "**1. What does one mean by the term \"machine learning\"?**"
   ]
  },
  {
   "cell_type": "markdown",
   "id": "094b8ccf",
   "metadata": {},
   "source": [
    "**Ans**\n",
    "\n",
    "- Finding out the relationship between data using some mathematical equations, so system will be able to learn, adopt the instructions is called machine learning.\n",
    "- Machine Learning is a sub-field of Artificial Intelligence"
   ]
  },
  {
   "cell_type": "markdown",
   "id": "91e67226",
   "metadata": {},
   "source": [
    "**2. Can you think of 4 distinct types of issues where it shines?**"
   ]
  },
  {
   "cell_type": "markdown",
   "id": "841b2cc5",
   "metadata": {},
   "source": [
    "**Ans**\n",
    "\n",
    "Machine learning algorithms have had good results on problems such has \n",
    "- email spam detection, \n",
    "- cancer diagnosis, \n",
    "- fraudulent credit card transactions, \n",
    "- automatically driving vehicles."
   ]
  },
  {
   "cell_type": "markdown",
   "id": "a6f65458",
   "metadata": {},
   "source": [
    "**3.What is a labeled training set, and how does it work?**"
   ]
  },
  {
   "cell_type": "markdown",
   "id": "89cb840e",
   "metadata": {},
   "source": [
    "**Ans**\n",
    "\n",
    "- We use training data to train the model and we predict output using test data from the model\n",
    "- Labeled training set means the data that has some predefined tags such as name, type, or number. For example, an image has an apple or banana. At the same time, unlabelled data contains no tags or no specified name. Labeled data is used in Supervised Learning techniques, whereas Unlabelled data is used in Unsupervised Learning."
   ]
  },
  {
   "cell_type": "markdown",
   "id": "91b58ce0",
   "metadata": {},
   "source": [
    "**4.What are the two most important tasks that are supervised?**"
   ]
  },
  {
   "cell_type": "markdown",
   "id": "9860d378",
   "metadata": {},
   "source": [
    "**Ans**\n",
    "\n",
    "The two most important supervised tasks are:\n",
    "   - classification\n",
    "   - regression"
   ]
  },
  {
   "cell_type": "markdown",
   "id": "7a603a9e",
   "metadata": {},
   "source": [
    "**5.Can you think of four examples of unsupervised tasks?**"
   ]
  },
  {
   "cell_type": "markdown",
   "id": "66a5b8e7",
   "metadata": {},
   "source": [
    "**Ans**\n",
    "\n",
    "Examples of unsupervised tasks are :\n",
    "- clustering, \n",
    "- visualization, \n",
    "- dimensionality reduction, \n",
    "- association rule learning."
   ]
  },
  {
   "cell_type": "markdown",
   "id": "09008be9",
   "metadata": {},
   "source": [
    "**6.State the machine learning model that would be best to make a robot walk through various unfamiliar terrains?**"
   ]
  },
  {
   "cell_type": "markdown",
   "id": "45df0d4a",
   "metadata": {},
   "source": [
    "**Ans**\n",
    "\n",
    "The best Machine Learning algorithm to allow a robot to walk in unknown terrain is Reinforced Learning, where the robot can learn from response of the terrain to optimize itself."
   ]
  },
  {
   "cell_type": "markdown",
   "id": "e163cbcf",
   "metadata": {},
   "source": [
    "**7.Which algorithm will you use to divide your customers into different groups?**"
   ]
  },
  {
   "cell_type": "markdown",
   "id": "48c42bb4",
   "metadata": {},
   "source": [
    "**Ans**\n",
    "\n",
    "To perform customer segmentation or grouping we use k-means clustering algorithm. Where each data point is segregated by euclidean distance."
   ]
  },
  {
   "cell_type": "markdown",
   "id": "780f0575",
   "metadata": {},
   "source": [
    "**8.Will you consider the problem of spam detection to be a supervised or unsupervised learning problem?**"
   ]
  },
  {
   "cell_type": "markdown",
   "id": "f3fc54d1",
   "metadata": {},
   "source": [
    "**Ans**\n",
    "\n",
    "- I will consider spam detection problem as supervised learning problem. As to detect a message or mail is spam or ham we need to train our model with the related data. \n",
    "- For spam detection we can use two machine learning algorithms : \n",
    "- i) SVM and \n",
    "- ii) Naive bayes.  \n",
    "- But Naive bayes performs well with this kind of problem statement, because it works on conditional probability. We use naive bayes when each feature are independent to other and this text data with nltk, bag of words, best suit to algorithm."
   ]
  },
  {
   "cell_type": "markdown",
   "id": "e30e56db",
   "metadata": {},
   "source": [
    "**9.What is the concept of an online learning system?**"
   ]
  },
  {
   "cell_type": "markdown",
   "id": "1c64b2b1",
   "metadata": {},
   "source": [
    "**Ans**\n",
    "\n",
    "- Online machine learning system includes methods to create machine learning models using data which becomes available sequentially in time.\n",
    "\n",
    "- In classical machine learning approaches, we use the whole data set to train required models and after that, we make predictions on data points using your trained model when we need. At that point, the data we used for training the model is not needed.\n",
    "\n",
    "- Differently, online learning techniques update the trained model when each new data point comes. Thus, we can make use of any data we have for the accuracy of our machine learning model instantly."
   ]
  },
  {
   "cell_type": "markdown",
   "id": "a4a1a240",
   "metadata": {},
   "source": [
    "**10.What is out-of-core learning, and how does it differ from core learning?**"
   ]
  },
  {
   "cell_type": "markdown",
   "id": "e453e017",
   "metadata": {},
   "source": [
    "**Ans**\n",
    "\n",
    "- Out-of-core learning is a way to train our model on data that cannot fit our core memory.\n",
    "- It refers to the machine learning algorithms working with data that cannot fit into a single machine's memory but can easily fit into some data storage, such as a local hard disk or web repository."
   ]
  },
  {
   "cell_type": "markdown",
   "id": "1c130148",
   "metadata": {},
   "source": [
    "**11.What kind of learning algorithm makes predictions using a similarity measure?**"
   ]
  },
  {
   "cell_type": "markdown",
   "id": "9a5fc208",
   "metadata": {},
   "source": [
    "**Ans**\n",
    "\n",
    "Instance-based learning algorithms use a measure of similarity to generalize to new cases. In an instance-based learning system, the algorithm learns the examples by heart, then uses the similarity measure to generalize."
   ]
  },
  {
   "cell_type": "markdown",
   "id": "5b100203",
   "metadata": {},
   "source": [
    "**12.What's the difference between a model parameter and a hyperparameter in a learning algorithm?**"
   ]
  },
  {
   "cell_type": "markdown",
   "id": "c1875214",
   "metadata": {},
   "source": [
    "**Ans**\n",
    "\n",
    "- Model parameters are the parameters on which value model get trained. \n",
    "- Hyperparameter are the parameters which are multiple values we pass to parameter using a machine learning algorithm to findout the best parameter on which the model gives the best accuracy. "
   ]
  },
  {
   "cell_type": "markdown",
   "id": "a5248150",
   "metadata": {},
   "source": [
    "**13.What are the criteria that model-based learning algorithms look for? What is the most popular method they use to achieve success? What method do they use to make predictions?**"
   ]
  },
  {
   "cell_type": "markdown",
   "id": "a28c6bdc",
   "metadata": {},
   "source": [
    "**Ans**\n",
    "\n",
    "- The criteria a model-based algorithm looks for is to generalize the model, reach to global minima where error will be near to zero.\n",
    "- To do this, model based algorithms search for optimal values for the model's parameters, which is called theta. This searching, or \"learning\", is to get global minima. This is what machine learning is all about, and this method is called gradient descent or this algorithm is called convergence algorithm, where we converge towards a specific point in a parabola.\n",
    "- Model-based system learn by minimizing a cost function that measures how bad the system is at making predicitons on new data, plus a penalty for model complexity if the model is regularized. \n",
    "- To make a prediction, a new instance's features are fed into a hypothesis function which uses the minimized theta found by repeatedly running the cost function."
   ]
  },
  {
   "cell_type": "markdown",
   "id": "b96becad",
   "metadata": {},
   "source": [
    "**14.Can you name four of the most important Machine Learning challenges?**"
   ]
  },
  {
   "cell_type": "markdown",
   "id": "ffd688e6",
   "metadata": {},
   "source": [
    "**Ans**\n",
    "\n",
    "Four of the most important Machine Learning challenges :\n",
    "- Not enough training data.\n",
    "- Poor Quality of data.\n",
    "- Irrelevant features.\n",
    "- Overfitting and Underfitting."
   ]
  },
  {
   "cell_type": "markdown",
   "id": "12bb32ce",
   "metadata": {},
   "source": [
    "**15.What happens if the model performs well on the training data but fails to generalize the results to new situations? Can you think of three different options?**"
   ]
  },
  {
   "cell_type": "markdown",
   "id": "8fcde6d1",
   "metadata": {},
   "source": [
    "**Ans**\n",
    "\n",
    "This is a case where the model is overfitting, means performing well in the training data but giving not that much good result with new data. To reduce overfitting, we need to generalize the model by reducing the complexity of the model in\n",
    "- removing features (feature selection) or constraining the parameters. \n",
    "- We could gather more data. \n",
    "- We can reduce noisiness in the data by fixing errors and removing outliers."
   ]
  },
  {
   "cell_type": "markdown",
   "id": "c0579560",
   "metadata": {},
   "source": [
    "**16.What exactly is a test set, and why would you need one?**"
   ]
  },
  {
   "cell_type": "markdown",
   "id": "e38a3f3e",
   "metadata": {},
   "source": [
    "**Ans**\n",
    "\n",
    "- Test set means the unseen data to the model, on which we will exmine the model performance once training is done.\n",
    "- As per the predicted result we calculate error rate which is called the generalization error or out-of-sample error. This error tells us how bad our model is performing with the unseen data.\n",
    "- If the training accuracy is high, but the test accuracy is low , it means we're overfitting our model."
   ]
  },
  {
   "cell_type": "markdown",
   "id": "0c233a36",
   "metadata": {},
   "source": [
    "**17.What is a validation set's purpose?**"
   ]
  },
  {
   "cell_type": "markdown",
   "id": "a419f26b",
   "metadata": {},
   "source": [
    "**Ans**\n",
    "\n",
    "- Validation set generally given by customer to check or validate our model.\n",
    "- The respective data scientist needs to share the validation report or prediction report by using the model to the customer."
   ]
  },
  {
   "cell_type": "markdown",
   "id": "ebb2fa3a",
   "metadata": {},
   "source": [
    "**18.What precisely is the train-dev kit, when will you need it, how do you put it to use?**"
   ]
  },
  {
   "cell_type": "markdown",
   "id": "be8f6d3f",
   "metadata": {},
   "source": [
    "**Ans**\n",
    "\n",
    "- Train-dev kit or cross validation set that is used to generalize the model.\n",
    "- In cross-validation we compare the model without needing a separate validation set. Here we make the parts of the training set eg. 10, without splitting the train data to another validation data. Where we use 9 parts to train the model and 1 part to test the model, and iteratively we do it for each part. And having more data is valuable."
   ]
  },
  {
   "cell_type": "markdown",
   "id": "db363a3d",
   "metadata": {},
   "source": [
    "**19.What could go wrong if you use the test set to tune hyperparameters?**"
   ]
  },
  {
   "cell_type": "markdown",
   "id": "def7ae9b",
   "metadata": {},
   "source": [
    "**Ans**\n",
    "\n",
    "- If we use test data to choose hyperparameters, we are actually showing the test data and to the model which will develop a bias towards this test data. \n",
    "- Therefore, we actually lose the possibility to find out how good our model is performing on unseen data (because it has already seen the test data)."
   ]
  },
  {
   "cell_type": "code",
   "execution_count": null,
   "id": "6767d940",
   "metadata": {},
   "outputs": [],
   "source": []
  }
 ],
 "metadata": {
  "kernelspec": {
   "display_name": "Python 3 (ipykernel)",
   "language": "python",
   "name": "python3"
  },
  "language_info": {
   "codemirror_mode": {
    "name": "ipython",
    "version": 3
   },
   "file_extension": ".py",
   "mimetype": "text/x-python",
   "name": "python",
   "nbconvert_exporter": "python",
   "pygments_lexer": "ipython3",
   "version": "3.9.13"
  }
 },
 "nbformat": 4,
 "nbformat_minor": 5
}
