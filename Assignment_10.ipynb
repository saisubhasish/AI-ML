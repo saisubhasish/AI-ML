{
 "cells": [
  {
   "cell_type": "markdown",
   "id": "9e4b7903",
   "metadata": {},
   "source": [
    "- shutil.copy() : will copy a single file\n",
    "  shutil.copytree() : will copy an entire folder and every folder and file in it.\n",
    "  \n",
    "- rename() is used to rename a file or directory\n",
    "\n",
    "- delete() function in send2trash module will move the file or folder to recycle bin.\n",
    "  delete() function in shutil module willdelete the the file or folder permenently.\n",
    "  \n",
    "- As per ZipFile objects close() function is equivalent of File objects' close function. zipfile.ZipFile() function is equivalent to File objects' open() function.\n",
    "\n",
    "- "
   ]
  },
  {
   "cell_type": "code",
   "execution_count": 60,
   "id": "d9d34f47",
   "metadata": {},
   "outputs": [],
   "source": [
    "import os, shutil\n",
    "\n",
    "def file_operation(extensions, folder, destinationFolder):\n",
    "    '''\n",
    "    This programme is to search files with extension in the \n",
    "    given folder and copy files to desination folder. \n",
    "    '''\n",
    "    folder =  os.path.abspath(folder)\n",
    "    destinationFolder = os.path.abspath(destinationFolder)\n",
    "    \n",
    "    # Search will be done based on extension if the user has entered .txt and .ipynb\n",
    "    for folder_path, dirs, files in os.walk(folder):  # walk will return all the files and paths to those files and directories\n",
    "        for file in files:\n",
    "            # Checking if the file content is present in list of files that if user is searching based on extension\n",
    "            # Getting the name and extension of each file by splitting extension\n",
    "            name, extension= os.path.splitext(file)\n",
    "            if extension in extensions:\n",
    "                fileAbsPath = folder_path+os.path.sep+file\n",
    "                shutil.move(fileAbsPath, destinationFolder)\n",
    "                        \n",
    "ext = ['.txt', '.ipynb']\n",
    "folder = 'Folder'\n",
    "destFolder = 'DestinationFolder'\n",
    "\n",
    "\n",
    "file_operation(ext, folder, destFolder)"
   ]
  },
  {
   "cell_type": "code",
   "execution_count": null,
   "id": "8ff6efa7",
   "metadata": {},
   "outputs": [],
   "source": []
  }
 ],
 "metadata": {
  "kernelspec": {
   "display_name": "Python 3 (ipykernel)",
   "language": "python",
   "name": "python3"
  },
  "language_info": {
   "codemirror_mode": {
    "name": "ipython",
    "version": 3
   },
   "file_extension": ".py",
   "mimetype": "text/x-python",
   "name": "python",
   "nbconvert_exporter": "python",
   "pygments_lexer": "ipython3",
   "version": "3.9.13"
  }
 },
 "nbformat": 4,
 "nbformat_minor": 5
}
