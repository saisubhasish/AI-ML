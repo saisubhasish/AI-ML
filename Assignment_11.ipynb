{
 "cells": [
  {
   "cell_type": "code",
   "execution_count": 10,
   "id": "dcea05f1",
   "metadata": {},
   "outputs": [
    {
     "ename": "AssertionError",
     "evalue": "Please enter a positive number",
     "output_type": "error",
     "traceback": [
      "\u001b[1;31m---------------------------------------------------------------------------\u001b[0m",
      "\u001b[1;31mAssertionError\u001b[0m                            Traceback (most recent call last)",
      "\u001b[1;32m~\\AppData\\Local\\Temp\\ipykernel_3748\\970105845.py\u001b[0m in \u001b[0;36m<module>\u001b[1;34m\u001b[0m\n\u001b[0;32m      3\u001b[0m        \u001b[1;32mraise\u001b[0m \u001b[0mAssertionError\u001b[0m\u001b[1;33m(\u001b[0m\u001b[1;34m'Please enter a positive number'\u001b[0m\u001b[1;33m)\u001b[0m\u001b[1;33m\u001b[0m\u001b[1;33m\u001b[0m\u001b[0m\n\u001b[0;32m      4\u001b[0m \u001b[1;33m\u001b[0m\u001b[0m\n\u001b[1;32m----> 5\u001b[1;33m \u001b[0mprint\u001b[0m\u001b[1;33m(\u001b[0m\u001b[0mAssertError\u001b[0m\u001b[1;33m(\u001b[0m\u001b[1;33m-\u001b[0m\u001b[1;36m1\u001b[0m\u001b[1;33m)\u001b[0m\u001b[1;33m)\u001b[0m\u001b[1;33m\u001b[0m\u001b[1;33m\u001b[0m\u001b[0m\n\u001b[0m",
      "\u001b[1;32m~\\AppData\\Local\\Temp\\ipykernel_3748\\970105845.py\u001b[0m in \u001b[0;36mAssertError\u001b[1;34m(spam)\u001b[0m\n\u001b[0;32m      1\u001b[0m \u001b[1;32mdef\u001b[0m \u001b[0mAssertError\u001b[0m\u001b[1;33m(\u001b[0m\u001b[0mspam\u001b[0m\u001b[1;33m)\u001b[0m\u001b[1;33m:\u001b[0m\u001b[1;33m\u001b[0m\u001b[1;33m\u001b[0m\u001b[0m\n\u001b[0;32m      2\u001b[0m     \u001b[1;32mif\u001b[0m \u001b[0mspam\u001b[0m \u001b[1;33m<\u001b[0m \u001b[1;36m0\u001b[0m\u001b[1;33m:\u001b[0m\u001b[1;33m\u001b[0m\u001b[1;33m\u001b[0m\u001b[0m\n\u001b[1;32m----> 3\u001b[1;33m        \u001b[1;32mraise\u001b[0m \u001b[0mAssertionError\u001b[0m\u001b[1;33m(\u001b[0m\u001b[1;34m'Please enter a positive number'\u001b[0m\u001b[1;33m)\u001b[0m\u001b[1;33m\u001b[0m\u001b[1;33m\u001b[0m\u001b[0m\n\u001b[0m\u001b[0;32m      4\u001b[0m \u001b[1;33m\u001b[0m\u001b[0m\n\u001b[0;32m      5\u001b[0m \u001b[0mprint\u001b[0m\u001b[1;33m(\u001b[0m\u001b[0mAssertError\u001b[0m\u001b[1;33m(\u001b[0m\u001b[1;33m-\u001b[0m\u001b[1;36m1\u001b[0m\u001b[1;33m)\u001b[0m\u001b[1;33m)\u001b[0m\u001b[1;33m\u001b[0m\u001b[1;33m\u001b[0m\u001b[0m\n",
      "\u001b[1;31mAssertionError\u001b[0m: Please enter a positive number"
     ]
    }
   ],
   "source": [
    "def AssertError(spam):\n",
    "    if spam < 0:\n",
    "       raise AssertionError('Please enter a positive number')\n",
    "\n",
    "print(AssertError(-1))"
   ]
  },
  {
   "cell_type": "code",
   "execution_count": 14,
   "id": "258b227f",
   "metadata": {},
   "outputs": [
    {
     "ename": "AssertionError",
     "evalue": "You have entered both words with same content",
     "output_type": "error",
     "traceback": [
      "\u001b[1;31m---------------------------------------------------------------------------\u001b[0m",
      "\u001b[1;31mAssertionError\u001b[0m                            Traceback (most recent call last)",
      "\u001b[1;32m~\\AppData\\Local\\Temp\\ipykernel_3748\\1202218461.py\u001b[0m in \u001b[0;36m<module>\u001b[1;34m\u001b[0m\n\u001b[0;32m      5\u001b[0m         \u001b[1;32mraise\u001b[0m \u001b[0mAssertionError\u001b[0m\u001b[1;33m(\u001b[0m\u001b[1;34m'You have entered both words with same content'\u001b[0m\u001b[1;33m)\u001b[0m\u001b[1;33m\u001b[0m\u001b[1;33m\u001b[0m\u001b[0m\n\u001b[0;32m      6\u001b[0m \u001b[1;33m\u001b[0m\u001b[0m\n\u001b[1;32m----> 7\u001b[1;33m \u001b[0massertSame\u001b[0m\u001b[1;33m(\u001b[0m\u001b[1;34m'NEURO'\u001b[0m\u001b[1;33m,\u001b[0m \u001b[1;34m'nEuro'\u001b[0m\u001b[1;33m)\u001b[0m\u001b[1;33m\u001b[0m\u001b[1;33m\u001b[0m\u001b[0m\n\u001b[0m",
      "\u001b[1;32m~\\AppData\\Local\\Temp\\ipykernel_3748\\1202218461.py\u001b[0m in \u001b[0;36massertSame\u001b[1;34m(eggs, bacon)\u001b[0m\n\u001b[0;32m      3\u001b[0m     \u001b[0mbacon\u001b[0m \u001b[1;33m=\u001b[0m \u001b[0mbacon\u001b[0m\u001b[1;33m.\u001b[0m\u001b[0mlower\u001b[0m\u001b[1;33m(\u001b[0m\u001b[1;33m)\u001b[0m\u001b[1;33m\u001b[0m\u001b[1;33m\u001b[0m\u001b[0m\n\u001b[0;32m      4\u001b[0m     \u001b[1;32mif\u001b[0m \u001b[0meggs\u001b[0m \u001b[1;33m==\u001b[0m \u001b[0mbacon\u001b[0m\u001b[1;33m:\u001b[0m\u001b[1;33m\u001b[0m\u001b[1;33m\u001b[0m\u001b[0m\n\u001b[1;32m----> 5\u001b[1;33m         \u001b[1;32mraise\u001b[0m \u001b[0mAssertionError\u001b[0m\u001b[1;33m(\u001b[0m\u001b[1;34m'You have entered both words with same content'\u001b[0m\u001b[1;33m)\u001b[0m\u001b[1;33m\u001b[0m\u001b[1;33m\u001b[0m\u001b[0m\n\u001b[0m\u001b[0;32m      6\u001b[0m \u001b[1;33m\u001b[0m\u001b[0m\n\u001b[0;32m      7\u001b[0m \u001b[0massertSame\u001b[0m\u001b[1;33m(\u001b[0m\u001b[1;34m'NEURO'\u001b[0m\u001b[1;33m,\u001b[0m \u001b[1;34m'nEuro'\u001b[0m\u001b[1;33m)\u001b[0m\u001b[1;33m\u001b[0m\u001b[1;33m\u001b[0m\u001b[0m\n",
      "\u001b[1;31mAssertionError\u001b[0m: You have entered both words with same content"
     ]
    }
   ],
   "source": [
    "def assertSame(eggs, bacon):\n",
    "    eggs = eggs.lower()\n",
    "    bacon = bacon.lower()\n",
    "    if eggs == bacon:\n",
    "        raise AssertionError('You have entered both words with same content')\n",
    "\n",
    "assertSame('NEURO', 'nEuro')"
   ]
  },
  {
   "cell_type": "code",
   "execution_count": 19,
   "id": "3c85a2a9",
   "metadata": {},
   "outputs": [
    {
     "data": {
      "text/plain": [
       "AssertionError('Please enter required input')"
      ]
     },
     "execution_count": 19,
     "metadata": {},
     "output_type": "execute_result"
    }
   ],
   "source": [
    "def errorAll(*x):\n",
    "    for i in x:\n",
    "        sum = i+i\n",
    "    return AssertionError('Please enter required input')\n",
    "\n",
    "errorAll(5,6,8,10,15,84)"
   ]
  },
  {
   "cell_type": "markdown",
   "id": "ace39b5f",
   "metadata": {},
   "source": [
    "\n",
    "The two lines must present in the code to call logging.debug() are \n",
    "1. import logging\n",
    "2. logging.basicConfig(level=DEBUG, format='%(asctime)s-%(levelname)s-%(message)s')"
   ]
  },
  {
   "cell_type": "markdown",
   "id": "3e784aa6",
   "metadata": {},
   "source": [
    "The two lines a program must have in order to have logging.debug() send a logging mesasge to a file programLog.txt are \n",
    "1. Import logging\n",
    "2. logging.basicConfig(filname='programLog.txt', level=DEBUG, format='%(asctime)s-%(levelname)s-%(message)s')"
   ]
  },
  {
   "cell_type": "markdown",
   "id": "680d952f",
   "metadata": {},
   "source": [
    "5 levels of logging are:\n",
    "-    1. Critical\n",
    "-    2. Error\n",
    "-    3. Warning\n",
    "-    4. Info\n",
    "-    5. Debug"
   ]
  },
  {
   "cell_type": "markdown",
   "id": "d18a2f8e",
   "metadata": {},
   "source": [
    "To disable logging messages\n",
    "-  logger = logging.getLogger('my-logger')\n",
    "   logger.propagate = False\n",
    "   \n",
    "-  logger = logging.getLogger()\n",
    "   logger.disabled = True"
   ]
  },
  {
   "cell_type": "markdown",
   "id": "c2738f2d",
   "metadata": {},
   "source": [
    "Logging messages is better than print() to display some outcome because if we are using print and executing our code multiple times then the entries and outcome won't get stored. But if we are using logging in these places, it wil store all the entries, outcomes and errors."
   ]
  },
  {
   "cell_type": "markdown",
   "id": "b9ab514d",
   "metadata": {},
   "source": [
    "- Step Into  : \n",
    "A method is about to be invoked, and you want to debug into the code of that method, so the next step is to go into that method and continue debugging step-by-step.\n",
    "- Step Over : \n",
    "A method is about to be invoked, but you're not interested in debugging this particular invocation, so you want the debugger to execute that method completely as one entire step.\n",
    "- Step Return :\n",
    "You're done debugging this method step-by-step, and you just want the debugger to run the entire method until it returns as one entire step."
   ]
  },
  {
   "cell_type": "markdown",
   "id": "156a86e5",
   "metadata": {},
   "source": [
    "After you click continue, the debugger will stop only wwhen the breakpoint is encountered."
   ]
  },
  {
   "cell_type": "markdown",
   "id": "83f140cc",
   "metadata": {},
   "source": [
    "In a program the break point is a stopping or pausing place for a debugger. "
   ]
  },
  {
   "cell_type": "code",
   "execution_count": null,
   "id": "c5587d02",
   "metadata": {},
   "outputs": [],
   "source": []
  }
 ],
 "metadata": {
  "kernelspec": {
   "display_name": "Python 3 (ipykernel)",
   "language": "python",
   "name": "python3"
  },
  "language_info": {
   "codemirror_mode": {
    "name": "ipython",
    "version": 3
   },
   "file_extension": ".py",
   "mimetype": "text/x-python",
   "name": "python",
   "nbconvert_exporter": "python",
   "pygments_lexer": "ipython3",
   "version": "3.9.13"
  }
 },
 "nbformat": 4,
 "nbformat_minor": 5
}
