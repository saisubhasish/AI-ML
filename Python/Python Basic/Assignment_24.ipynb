{
 "cells": [
  {
   "cell_type": "markdown",
   "id": "f4b78c4d",
   "metadata": {},
   "source": [
    "1. What is the relationship between def statements and lambda expressions ?"
   ]
  },
  {
   "cell_type": "markdown",
   "id": "709b7218",
   "metadata": {},
   "source": [
    "**def statement is used to create a function outside of a class, where we define repeatedly required lines and call it need. When we use def statement inside of a class that is called as method and we access it with the help of class name or object name.**\n",
    "\n",
    "**lambda function is a temporary function which is used to meet the programming need. We call them as nameless function or anonymous function. We can pass them function as an argument to another function.**\n",
    "We can use the functions like:\n",
    "\n",
    "        i) filter()\n",
    "        \n",
    "        ii) reduce()\n",
    "        \n",
    "        iii) map()"
   ]
  },
  {
   "cell_type": "markdown",
   "id": "fe5df2ce",
   "metadata": {},
   "source": [
    "2. What is the benefit of lambda?"
   ]
  },
  {
   "cell_type": "markdown",
   "id": "a790ef3c",
   "metadata": {},
   "source": [
    "Using lambda we can define a function instantly **to meet the programming need in one line.** It reduces the **space complexity** of a program."
   ]
  },
  {
   "cell_type": "markdown",
   "id": "8af9dd29",
   "metadata": {},
   "source": [
    "3. Compare and contrast map, filter, and reduce."
   ]
  },
  {
   "cell_type": "markdown",
   "id": "66ae46e9",
   "metadata": {},
   "source": [
    "- We use **filter()** to filter a given sequence based on some condition. So we get output as input size or less.\n",
    "- **Filter()** checks the condition to every element in the sequence.\n",
    "- Using **Map()** we generate output for every input value based on some operation(function). So we get output as input size.\n",
    "- By using **reduce()** we get the required output from list of value.  reduce() is useful when you need to apply a function to an iterable and reduce it to a single cumulative value. \n",
    "- **reduce()** is not available in python by-default. We need to import it explicitly."
   ]
  },
  {
   "cell_type": "code",
   "execution_count": 22,
   "id": "a62cc5c9",
   "metadata": {},
   "outputs": [
    {
     "name": "stdout",
     "output_type": "stream",
     "text": [
      "--------------------\n",
      "('AAAA', 'AAAAA')\n",
      "[0, 2, 4, 6, 8]\n",
      "--------------------\n",
      "(1, 4, 9, 16, 25)\n",
      "[100, 120, 140, 160, 180]\n",
      "--------------------\n",
      "120\n",
      "5050\n"
     ]
    }
   ],
   "source": [
    "### Let's see some examples\n",
    "\n",
    "from functools import reduce\n",
    "\n",
    "## filter()\n",
    "print('-'*20)\n",
    "\n",
    "l = ['A', 'AA', 'AAA', 'AAAA', 'AAAAA']\n",
    "output = tuple(filter(lambda s:len(s) > 3, l))   ## We get iterable, hence using iterator\n",
    "print(output)\n",
    "\n",
    "r = list(range(10))\n",
    "even = list(filter(lambda x: x%2 == 0, r))   ## We get iterable, hence using iterator\n",
    "print(even)\n",
    "\n",
    "\n",
    "## map()\n",
    "print('-'*20)\n",
    "\n",
    "l = [1,2,3,4,5]\n",
    "output = tuple(map(lambda n:n*n, l))   ## We get iterable, hence using iterator\n",
    "print(output)\n",
    "\n",
    "r = [50,60,70,80,90]\n",
    "def two_times(n):   # finding two times of every number\n",
    "    return n+n\n",
    "twice = list(map(two_times, r))   ## We get iterable, hence using iterator\n",
    "print(twice)\n",
    "\n",
    "\n",
    "## reduce()\n",
    "print('-'*20)\n",
    "\n",
    "factorial =  reduce(lambda x,y : x*y, range(1,6))\n",
    "print(factorial)\n",
    "\n",
    "sum_of_nos_in_range = reduce(lambda x,y:x+y, range(1,100+1))\n",
    "print(sum_of_nos_in_range)"
   ]
  },
  {
   "cell_type": "code",
   "execution_count": 20,
   "id": "5cff6049",
   "metadata": {},
   "outputs": [
    {
     "name": "stdout",
     "output_type": "stream",
     "text": [
      "[2, 4, 6, 8]\n"
     ]
    }
   ],
   "source": [
    "def addition(n):\n",
    "    return n + n\n",
    "\n",
    "\n",
    "numbers = (1, 2, 3, 4)\n",
    "result = map(addition, numbers)\n",
    "print(list(result))\n"
   ]
  },
  {
   "cell_type": "markdown",
   "id": "c3ed6ed1",
   "metadata": {},
   "source": [
    "4. What are function annotations, and how are they used?"
   ]
  },
  {
   "cell_type": "markdown",
   "id": "5f23bd4c",
   "metadata": {},
   "source": [
    "\n",
    "Function annotations, both for parameters and return values, are completely optional. Function annotations are nothing more than a way of associating arbitrary Python expressions with various parts of a function at compile-time. By itself, Python does not attach any particular meaning or significance to annotations."
   ]
  },
  {
   "cell_type": "markdown",
   "id": "60f7888b",
   "metadata": {},
   "source": [
    "5. What are recursive functions, and how are they used?"
   ]
  },
  {
   "cell_type": "markdown",
   "id": "af52acbb",
   "metadata": {},
   "source": [
    "**A function that calls it-self is known as recurrsive function.**\n",
    "- We can generate a sequence of terms by using it's previous terms.\n",
    "- Advantages of recursive function\n",
    "1. We can reduce the length of the code and improve readability. \n",
    "2. Complex problems can also been solved easily."
   ]
  },
  {
   "cell_type": "code",
   "execution_count": 24,
   "id": "c96ff09e",
   "metadata": {},
   "outputs": [
    {
     "data": {
      "text/plain": [
       "120"
      ]
     },
     "execution_count": 24,
     "metadata": {},
     "output_type": "execute_result"
    }
   ],
   "source": [
    "def factorial(n):\n",
    "    if n==0:\n",
    "        result = 1\n",
    "    else:\n",
    "        result = n * factorial(n-1)\n",
    "    return result\n",
    "\n",
    "factorial(5)"
   ]
  },
  {
   "cell_type": "markdown",
   "id": "59efd39c",
   "metadata": {},
   "source": [
    "6. What are some general design guidelines for coding functions?"
   ]
  },
  {
   "cell_type": "markdown",
   "id": "84887834",
   "metadata": {},
   "source": [
    "The design guidelines for coding functions are it will start with a name followed by def statement and paranthesis with a colon(eg- def school(): ). The content of the function will be as per the indentation from the next line."
   ]
  },
  {
   "cell_type": "markdown",
   "id": "32afbec5",
   "metadata": {},
   "source": [
    "7. Name three or more ways that functions can communicate results to a caller."
   ]
  },
  {
   "cell_type": "markdown",
   "id": "348c20ba",
   "metadata": {},
   "source": [
    "In python, we can call a function using 4 types of arguments:\n",
    "1. Positional argument\n",
    "2. Keyworded argument\n",
    "3. Default argument\n",
    "4. Variable-length arguments"
   ]
  },
  {
   "cell_type": "code",
   "execution_count": null,
   "id": "e0acbeaa",
   "metadata": {},
   "outputs": [],
   "source": []
  },
  {
   "cell_type": "code",
   "execution_count": null,
   "id": "d76f6cdd",
   "metadata": {},
   "outputs": [],
   "source": []
  },
  {
   "cell_type": "code",
   "execution_count": null,
   "id": "35983e2b",
   "metadata": {},
   "outputs": [],
   "source": []
  },
  {
   "cell_type": "markdown",
   "id": "48d527ff",
   "metadata": {},
   "source": [
    "Below topics are not related to assignments. Only for my own knowledge (Documenting)"
   ]
  },
  {
   "cell_type": "markdown",
   "id": "14fa8904",
   "metadata": {},
   "source": [
    "### Variables:\n",
    "Variables are of 3 types:\n",
    "1. Instance variable\n",
    "2. Static variable\n",
    "3. Local variable\n",
    "\n",
    "\n",
    "#### 1. Instance Variable\n",
    "- If the value of the variable is varied from object to object, such type of variables are called instance variabl/ object level variable.\n",
    "- For every object a separate copy of variable will be created.\n",
    "- In general we define instance variables inside constructor by using self. And self is not a key-word, instead of self we can take delf.\n",
    "\n",
    ". eg:\n",
    "\n",
    "class Student:\n",
    "\n",
    "    def __init__(delf, name):\n",
    "\n",
    "        delf.name = name\n",
    "\n",
    "        delf.course = 'FSDS'\n",
    "        \n",
    "s = Student('Sai')\n",
    "\n",
    "print(s.name)\n",
    "\n",
    "print(s.course)\n",
    "\n",
    "#### 2. Static variable\n",
    "- If the value of the variable is not varied from object to object then it is recommended to declare that variable as static variable or class lavel variable.\n",
    "- Inside class if we are declaring a variable directly then it is called static variable.\n",
    "- In case of static variable a single copy will be created and shared to every object of the class.\n",
    "\n",
    ". eg:\n",
    "\n",
    "class Student:\n",
    "\n",
    "    x= 10\n",
    "\n",
    "    def profile(self):\n",
    "\n",
    "        self.name = 'Sai'\n",
    "\n",
    "s = Student()\n",
    "\n",
    "print(s.x)\n",
    "            \n",
    "#### 3. Local variable\n",
    "- To meet temporary requirement of the programme, we can declare variables directly inside a method.\n",
    "- These variables are temporary variables. And pvm destroys them once method execution completes\n",
    "\n",
    ". eg:\n",
    "\n",
    "class Student:\n",
    "    \n",
    "    def profile(self):\n",
    "        \n",
    "        y = 20\n",
    "        \n",
    "        print(y)\n",
    "        \n",
    "s = Student()\n",
    "\n",
    "s.profile()\n",
    "\n",
    "#### Referance variable\n",
    "- Referance variable can be used to to refer an object, by using that variable we can invoke the functionality of that object.\n",
    "- When we crate an object constructor will get created, and the variables related to object get initialized.\n",
    "\n",
    "### self\n",
    "- Inside class to access the instance variables we use self. Outside the class we use referance variable.\n",
    "- self referance variable is always pointing to current object within the python class.\n",
    "- The first argument of constructor, instance method is always self.\n",
    "- And we never provide the value of self, pvm is responsible to provide value.\n",
    "\n",
    "\n",
    "OOPs ---->> Methods\n",
    "There are 3 types of methods\n",
    "1. Instance method\n",
    "2. Class Method\n",
    "3. Static Method\n"
   ]
  },
  {
   "cell_type": "markdown",
   "id": "57f36df9",
   "metadata": {},
   "source": [
    "There are 3 types of methods in python:\n",
    "\n",
    "    1. Instance method\n",
    "\n",
    "    2. Class method\n",
    "    \n",
    "    3. Static method"
   ]
  },
  {
   "cell_type": "markdown",
   "id": "d3b2d487",
   "metadata": {},
   "source": [
    "#### 1. Instance method\n",
    "- Inside a method if we are trying to access instance variables(wheather static and local variable are present or not) then this type of method is called instance method. We call these methods using object referance to access the object related properties, as these methods are related object.\n",
    "- The first argument inside instance method is self.\n",
    "\n",
    ". eg:\n",
    "class Student:\n",
    "\n",
    "    def __init__(delf, name):\n",
    "\n",
    "        delf.name = name\n",
    "\n",
    "        delf.course = 'FSDS'\n",
    "        \n",
    "    def profile(self):\n",
    "        print(self.name)\n",
    "        \n",
    "s = Student('Sai')\n",
    "\n",
    "s.profile()\n",
    "\n",
    "#### 2. Class method\n",
    "- Inside method implementation if we are using only static variable and we are not using atleast one instance variable, then we go for class method.\n",
    "- We define a class method using @classmethod decorator, and cls variable.\n",
    "- By using class name or object referance we cal call these methods\n",
    "\n",
    ". eg:\n",
    "class Student:\n",
    "    \n",
    "    institute = 'iNeuron'\n",
    "    \n",
    "    @classmethod\n",
    "    \n",
    "    def get_student_info(cls):\n",
    "        \n",
    "        print(cls.institute)\n",
    "        \n",
    "Student.get_student_info()\n",
    "\n",
    "#### 3. Static method\n",
    "- If we are not using any instance variable or static variable inside a method body, such type of method is called static method.\n",
    "- Static method is no way related to class or object. It is a general utility method.\n",
    "- We use @staticmethod decorator to define these methods, and it is optional.\n",
    "- We call a static method using class name or object referance. But class name is recommended.\n",
    "class Student:\n",
    "    \n",
    "    @staticmethod\n",
    "    \n",
    "    def get_student_info():\n",
    "        \n",
    "        institute = 'iNeuron'\n",
    "        \n",
    "        print(institute)\n",
    "        \n",
    "    def details():\n",
    "    \n",
    "        y = 10\n",
    "        \n",
    "        print(y)\n",
    "        \n",
    "Student.get_student_info()\n",
    "\n",
    "Student.details()"
   ]
  },
  {
   "cell_type": "code",
   "execution_count": null,
   "id": "8693963e",
   "metadata": {},
   "outputs": [],
   "source": []
  }
 ],
 "metadata": {
  "kernelspec": {
   "display_name": "Python 3 (ipykernel)",
   "language": "python",
   "name": "python3"
  },
  "language_info": {
   "codemirror_mode": {
    "name": "ipython",
    "version": 3
   },
   "file_extension": ".py",
   "mimetype": "text/x-python",
   "name": "python",
   "nbconvert_exporter": "python",
   "pygments_lexer": "ipython3",
   "version": "3.9.13"
  }
 },
 "nbformat": 4,
 "nbformat_minor": 5
}
