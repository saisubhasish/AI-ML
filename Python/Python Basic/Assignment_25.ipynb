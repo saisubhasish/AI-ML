{
 "cells": [
  {
   "cell_type": "markdown",
   "id": "c97a51b6",
   "metadata": {},
   "source": [
    "1) What is the difference between enclosing a list comprehension in square brackets and parentheses?"
   ]
  },
  {
   "cell_type": "markdown",
   "id": "41e4ed49",
   "metadata": {},
   "source": [
    "**Enclosing a list comprehension with square brackets will generate a sequence of elements in list. By this process we are generating the output from the loop at the same time, which requires higher computational power to generate output for a large sequence of value. But if we enclose it with parantheses then it will create a generator, where we only stores the values to the variable and with the help of next() or for loop we can display the output. It requires very less computational power.**"
   ]
  },
  {
   "cell_type": "markdown",
   "id": "586f1d6f",
   "metadata": {},
   "source": [
    "2) What is the relationship between generators and iterators?"
   ]
  },
  {
   "cell_type": "markdown",
   "id": "cf0a211c",
   "metadata": {},
   "source": [
    "Iterator\n",
    "- Iterator or traditional collection is going to provide support upto certain level of object creation and displaying result.\n",
    "- In iterator or traditional approach all objects will be created at the begining only.\n",
    "- Iterator will raise memory problem because of huge object creation. As in python we treat everything as an object.\n",
    "- Comprehension concept is not applicable to tuple, it is only applicable to list. If we try to apply comprehension to tuple then we get generator. \n",
    "\n",
    "\n",
    "\n",
    "Genarator\n",
    "- Generator will generate sequence of values. Generator never going to raise memory problem. \n",
    "- It is better to go with generator when you are covering a very big sequence of values.\n",
    "- In generator objects will be created on demand.\n",
    "- Generator never stores the value at the begining. It generates and provides the value as per requirement.\n",
    "- If you want values on by one, better to go for generator."
   ]
  },
  {
   "cell_type": "markdown",
   "id": "51e5417c",
   "metadata": {},
   "source": [
    "3) What are the signs that a function is a generator function?"
   ]
  },
  {
   "cell_type": "markdown",
   "id": "dfa9b827",
   "metadata": {},
   "source": [
    "- If in a function yield key-word is used then it is a generator.\n",
    "- Generator will use yield key-word to generate value."
   ]
  },
  {
   "cell_type": "markdown",
   "id": "ddf3d578",
   "metadata": {},
   "source": [
    "4) What is the purpose of a yield statement?"
   ]
  },
  {
   "cell_type": "markdown",
   "id": "1b497e81",
   "metadata": {},
   "source": [
    "The yield statement returns a generator object to the one who calls the function which contains yield, instead of simply returning a value."
   ]
  },
  {
   "cell_type": "markdown",
   "id": "4945bf25",
   "metadata": {},
   "source": [
    "5) What is the relationship between map calls and list comprehensions? Make a comparison and contrast between the two."
   ]
  },
  {
   "cell_type": "markdown",
   "id": "b3f6a0ac",
   "metadata": {},
   "source": [
    "- List comprehension returns a list, whereas the map function returns an object of Iterable. \n",
    "- List comprehension execution is faster than that of map function when the formula expression is huge and complex. \n",
    "- Map function is faster than list comprehension when the formula is already defined as a function earlier."
   ]
  },
  {
   "cell_type": "code",
   "execution_count": null,
   "id": "a23995c8",
   "metadata": {},
   "outputs": [],
   "source": []
  },
  {
   "cell_type": "code",
   "execution_count": null,
   "id": "12ca6d32",
   "metadata": {},
   "outputs": [],
   "source": []
  },
  {
   "cell_type": "code",
   "execution_count": null,
   "id": "c6ce70b9",
   "metadata": {},
   "outputs": [],
   "source": []
  },
  {
   "cell_type": "markdown",
   "id": "0850d8e0",
   "metadata": {},
   "source": [
    "Below topics are not related to assignments. Only for my own knowledge (Documenting)"
   ]
  },
  {
   "cell_type": "markdown",
   "id": "249bd6a3",
   "metadata": {},
   "source": [
    "### Decorator :\n",
    " \n",
    "**Decorator is a function which takes a function as input argument and extend it's functionality and returns modified function with extended functionality.**\n",
    "\n",
    "- **Decorator is a function. It always takes a function as argument(input function).**\n",
    "- **The biggest advantage of this function is, i)  Code reusability, ii) DRY principle (Don't repeat yourself)**\n",
    "- **In python every function is treated as object internally.**\n",
    "- **Decorator creates a new function with extended functionality. In this new function we may use the original function(input function). And it will return the extended function as output.**\n",
    "- **Without afftecing the original function we can extend its functionality using decorator.**"
   ]
  },
  {
   "cell_type": "code",
   "execution_count": 37,
   "id": "801960cd",
   "metadata": {},
   "outputs": [
    {
     "name": "stdout",
     "output_type": "stream",
     "text": [
      "I am Sai Subhasish\n",
      "I am a DataScientist\n"
     ]
    }
   ],
   "source": [
    "# eg:\n",
    "\n",
    "def decor(func):\n",
    "    def inner():\n",
    "        print('I am Sai Subhasish')\n",
    "        print('I am a DataScientist')\n",
    "    return inner\n",
    "\n",
    "@decor\n",
    "def display():\n",
    "    print('I am Sai Subhasish')\n",
    "    \n",
    "display()"
   ]
  },
  {
   "cell_type": "code",
   "execution_count": 56,
   "id": "20904a07",
   "metadata": {},
   "outputs": [
    {
     "name": "stdout",
     "output_type": "stream",
     "text": [
      "I am Sai Subhasish\n",
      "I am a DataScientist\n"
     ]
    }
   ],
   "source": [
    "def decor(func):\n",
    "    def inner():\n",
    "        print('I am Sai Subhasish')\n",
    "        print('I am a DataScientist')\n",
    "    return inner\n",
    "\n",
    "@decor\n",
    "def display():\n",
    "    pass\n",
    "    \n",
    "display()"
   ]
  },
  {
   "cell_type": "code",
   "execution_count": 35,
   "id": "0482c1ac",
   "metadata": {},
   "outputs": [
    {
     "name": "stdout",
     "output_type": "stream",
     "text": [
      "I am Sai Subhasish\n"
     ]
    }
   ],
   "source": [
    "def display():\n",
    "    print('I am Sai Subhasish')\n",
    "    \n",
    "display()"
   ]
  },
  {
   "cell_type": "markdown",
   "id": "76f8cad1",
   "metadata": {},
   "source": [
    "- **In the above program when we call display() function, pvm is going to check if there is any decorator is present or not. If it is not there then original display() function will get executed.**\n",
    "- **If decorator is present then the decorator() function will get executed. As here decorator() function is returning inner() function so it is executing inner() function.**\n",
    "- **Here @decorator and inner() function name can be anything.**"
   ]
  },
  {
   "cell_type": "code",
   "execution_count": 57,
   "id": "57d3a838",
   "metadata": {},
   "outputs": [
    {
     "name": "stdout",
     "output_type": "stream",
     "text": [
      "I am Sai Subhasish\n",
      "I am a DataScientist\n"
     ]
    }
   ],
   "source": [
    "def fecorator(funcion):\n",
    "    def fsds():\n",
    "        print('I am Sai Subhasish')\n",
    "        print('I am a DataScientist')\n",
    "    return fsds\n",
    "\n",
    "@fecorator\n",
    "def profile():\n",
    "    print('I am Sai Subhasish')\n",
    "    \n",
    "profile()"
   ]
  },
  {
   "cell_type": "markdown",
   "id": "593843bd",
   "metadata": {},
   "source": [
    "- **Decorator() function must have return statement**"
   ]
  },
  {
   "cell_type": "code",
   "execution_count": 52,
   "id": "b1c4f151",
   "metadata": {},
   "outputs": [
    {
     "name": "stdout",
     "output_type": "stream",
     "text": [
      "I am Sai Subhasish\n",
      "I am a DataScientist\n"
     ]
    }
   ],
   "source": [
    "def decorator(func):\n",
    "    def fsds():\n",
    "        print('I am Sai Subhasish')\n",
    "        print('I am a DataScientist')\n",
    "    return fsds\n",
    "\n",
    "@decorator\n",
    "def profile():\n",
    "    pass\n",
    "    \n",
    "profile()"
   ]
  },
  {
   "cell_type": "code",
   "execution_count": 53,
   "id": "3baeb89e",
   "metadata": {},
   "outputs": [
    {
     "ename": "TypeError",
     "evalue": "'NoneType' object is not callable",
     "output_type": "error",
     "traceback": [
      "\u001b[1;31m---------------------------------------------------------------------------\u001b[0m",
      "\u001b[1;31mTypeError\u001b[0m                                 Traceback (most recent call last)",
      "\u001b[1;32m~\\AppData\\Local\\Temp\\ipykernel_1884\\1642286031.py\u001b[0m in \u001b[0;36m<module>\u001b[1;34m\u001b[0m\n\u001b[0;32m      6\u001b[0m     \u001b[1;32mpass\u001b[0m\u001b[1;33m\u001b[0m\u001b[1;33m\u001b[0m\u001b[0m\n\u001b[0;32m      7\u001b[0m \u001b[1;33m\u001b[0m\u001b[0m\n\u001b[1;32m----> 8\u001b[1;33m \u001b[0mprofile\u001b[0m\u001b[1;33m(\u001b[0m\u001b[1;33m)\u001b[0m\u001b[1;33m\u001b[0m\u001b[1;33m\u001b[0m\u001b[0m\n\u001b[0m",
      "\u001b[1;31mTypeError\u001b[0m: 'NoneType' object is not callable"
     ]
    }
   ],
   "source": [
    "def decorator(func):\n",
    "    pass\n",
    "\n",
    "@decorator\n",
    "def profile():\n",
    "    pass\n",
    "    \n",
    "profile()"
   ]
  },
  {
   "cell_type": "code",
   "execution_count": 54,
   "id": "e473b90f",
   "metadata": {},
   "outputs": [
    {
     "ename": "TypeError",
     "evalue": "'NoneType' object is not callable",
     "output_type": "error",
     "traceback": [
      "\u001b[1;31m---------------------------------------------------------------------------\u001b[0m",
      "\u001b[1;31mTypeError\u001b[0m                                 Traceback (most recent call last)",
      "\u001b[1;32m~\\AppData\\Local\\Temp\\ipykernel_1884\\1472711811.py\u001b[0m in \u001b[0;36m<module>\u001b[1;34m\u001b[0m\n\u001b[0;32m      7\u001b[0m     \u001b[1;32mpass\u001b[0m\u001b[1;33m\u001b[0m\u001b[1;33m\u001b[0m\u001b[0m\n\u001b[0;32m      8\u001b[0m \u001b[1;33m\u001b[0m\u001b[0m\n\u001b[1;32m----> 9\u001b[1;33m \u001b[0mprofile\u001b[0m\u001b[1;33m(\u001b[0m\u001b[1;33m)\u001b[0m\u001b[1;33m\u001b[0m\u001b[1;33m\u001b[0m\u001b[0m\n\u001b[0m",
      "\u001b[1;31mTypeError\u001b[0m: 'NoneType' object is not callable"
     ]
    }
   ],
   "source": [
    "def decorator(func):\n",
    "    def fsds():\n",
    "        pass\n",
    "\n",
    "@decorator\n",
    "def profile():\n",
    "    pass\n",
    "    \n",
    "profile()"
   ]
  },
  {
   "cell_type": "code",
   "execution_count": 55,
   "id": "eda17163",
   "metadata": {},
   "outputs": [],
   "source": [
    "def decorator(func):\n",
    "    def fsds():\n",
    "        pass\n",
    "    return fsds\n",
    "\n",
    "@decorator\n",
    "def profile():\n",
    "    pass\n",
    "    \n",
    "profile()"
   ]
  },
  {
   "cell_type": "markdown",
   "id": "710ec920",
   "metadata": {},
   "source": [
    "### Practical example using decorator"
   ]
  },
  {
   "cell_type": "code",
   "execution_count": 59,
   "id": "3214932b",
   "metadata": {},
   "outputs": [
    {
     "name": "stdout",
     "output_type": "stream",
     "text": [
      "########################################\n",
      "The sum of 10 and 2030\n",
      "########################################\n"
     ]
    }
   ],
   "source": [
    "def decor_for_add(func):\n",
    "    def inner(x, y):\n",
    "        print('#'*40)\n",
    "        print('The sum of {} and {}'.format(x,y), end='')\n",
    "        func(x,y)    # Calling original function i.e add()\n",
    "        print('#'*40)\n",
    "    return inner\n",
    "\n",
    "@decor_for_add\n",
    "def add(a,b):\n",
    "    print(a+b)\n",
    "    \n",
    "add(10,20)"
   ]
  },
  {
   "cell_type": "markdown",
   "id": "6570a274",
   "metadata": {},
   "source": [
    "#### Who is calling decorator ?\n",
    "- When we are writing @decorator, pvm is going to pass only one input function as argument.\n",
    "\n",
    "**If you want to call same function with and without decorator then you need to call the decorator function.**"
   ]
  },
  {
   "cell_type": "markdown",
   "id": "ebe303f4",
   "metadata": {},
   "source": [
    "### Decorator chaining\n",
    "We can configure multiple decorators for same function and this concept is known as decorator chaining."
   ]
  },
  {
   "cell_type": "code",
   "execution_count": 66,
   "id": "73404419",
   "metadata": {},
   "outputs": [
    {
     "name": "stdout",
     "output_type": "stream",
     "text": [
      "decor2 execution\n",
      "Decor1 execution\n",
      "Original function\n"
     ]
    }
   ],
   "source": [
    "def decor1(func):\n",
    "    def inner1():\n",
    "        print('Decor1 execution')  ## 2\n",
    "        func()    ## Here original_func() will get executed\n",
    "    return inner1\n",
    "\n",
    "def decor2(func):\n",
    "    def inner2():\n",
    "        print('decor2 execution')  ## 1\n",
    "        func()  ## Here inner1() will get executed\n",
    "    return inner2  ## Here inner2() will get executed\n",
    "\n",
    "@decor2\n",
    "@decor1\n",
    "def original_func():\n",
    "    print(f'Original function')  ## 3\n",
    "    \n",
    "original_func()"
   ]
  },
  {
   "cell_type": "code",
   "execution_count": 67,
   "id": "db6a3443",
   "metadata": {},
   "outputs": [
    {
     "name": "stdout",
     "output_type": "stream",
     "text": [
      "Output of decor2 : 200\n"
     ]
    }
   ],
   "source": [
    "def decor1(func):\n",
    "    def inner1(a,b):\n",
    "        print('Output of decor1 : {}'.format(a+b))\n",
    "    return inner1\n",
    "\n",
    "def decor2(func):\n",
    "    def inner2(x,y):\n",
    "        print('Output of decor2 : {}'.format(x*y))\n",
    "    return inner2\n",
    "\n",
    "@decor2\n",
    "@decor1\n",
    "def original_func(p,q):\n",
    "    print(f'Original value {p}, {q}')\n",
    "    \n",
    "original_func(10,20)"
   ]
  },
  {
   "cell_type": "markdown",
   "id": "cc36710b",
   "metadata": {},
   "source": [
    "Above program exection flow : \n",
    "    \n",
    "original_func()---->>[decor1]---->>inner1(), inner1()---->>[decor2]---->>inner2()"
   ]
  },
  {
   "cell_type": "code",
   "execution_count": 68,
   "id": "45481fa6",
   "metadata": {},
   "outputs": [
    {
     "name": "stdout",
     "output_type": "stream",
     "text": [
      "Output of decor1 : 30\n"
     ]
    }
   ],
   "source": [
    "#  Let's change the order\n",
    "\n",
    "def decor1(func):\n",
    "    def inner1(a,b):\n",
    "        print('Output of decor1 : {}'.format(a+b))\n",
    "    return inner1\n",
    "\n",
    "def decor2(func):\n",
    "    def inner2(x,y):\n",
    "        print('Output of decor2 : {}'.format(x*y))\n",
    "    return inner2\n",
    "\n",
    "@decor1\n",
    "@decor2\n",
    "def original_func(p,q):\n",
    "    print(f'Original value {p}, {q}')\n",
    "    \n",
    "original_func(10,20)"
   ]
  },
  {
   "cell_type": "markdown",
   "id": "ce505988",
   "metadata": {},
   "source": [
    "Above program exection flow : \n",
    "    \n",
    "original_func()---->>[decor2]---->>inner2(), inner2()---->>[decor1]---->>inner1()"
   ]
  },
  {
   "cell_type": "code",
   "execution_count": null,
   "id": "f9c6fa38",
   "metadata": {},
   "outputs": [],
   "source": []
  }
 ],
 "metadata": {
  "kernelspec": {
   "display_name": "Python 3 (ipykernel)",
   "language": "python",
   "name": "python3"
  },
  "language_info": {
   "codemirror_mode": {
    "name": "ipython",
    "version": 3
   },
   "file_extension": ".py",
   "mimetype": "text/x-python",
   "name": "python",
   "nbconvert_exporter": "python",
   "pygments_lexer": "ipython3",
   "version": "3.9.13"
  }
 },
 "nbformat": 4,
 "nbformat_minor": 5
}
