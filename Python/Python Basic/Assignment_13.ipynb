{
 "cells": [
  {
   "cell_type": "markdown",
   "id": "7b5767e2",
   "metadata": {},
   "source": [
    "1. What advantages do Excel spreadsheets have over CSV spreadsheets?\n",
    "\n",
    "Excel (XLS and XLSX) file formats are better for storing more complex data than CSV spreadsheets."
   ]
  },
  {
   "cell_type": "markdown",
   "id": "d9a78b49",
   "metadata": {},
   "source": [
    "2. What do you pass to csv.reader() and csv.writer() to create reader and writer objects?\n",
    "\n",
    "We will open the csv file using open() and pass it 'r' to open a file in read mode ❶. This will create the object you can then pass to csv.reader() is used to read the file, which returns an iterable reader object. The reader object is then iterated using a for loop to print the contents of each row.\n",
    "\n",
    "We will open the csv file using open() and pass it 'w' to open a file in write mode ❶. This will create the object you can then pass to csv. writer() ❷ to create a Writer object. On Windows, you'll also need to pass a blank string for the open() function's newline keyword argument."
   ]
  },
  {
   "cell_type": "markdown",
   "id": "86b929e0",
   "metadata": {},
   "source": [
    "3. What modes do File objects for reader and writer objects need to be opened in?\n",
    "\n",
    "The reader and writer objects need to open in 'r' and 'w' mode respectively. "
   ]
  },
  {
   "cell_type": "markdown",
   "id": "04c29693",
   "metadata": {},
   "source": [
    "4. What method takes a list argument and writes it to a CSV file?\n",
    "\n",
    "writerows() takes a list argument and writes it to a CSV file."
   ]
  },
  {
   "cell_type": "markdown",
   "id": "3ee551b2",
   "metadata": {},
   "source": [
    "5. What do the keyword arguments delimiter and line terminator do?\n",
    "\n",
    "The delimiter is the character that appears between cells on a row. By default, the delimiter for a CSV file is a comma. The line terminator is the character that comes at the end of a row. By default, the line terminator is a newline."
   ]
  },
  {
   "cell_type": "markdown",
   "id": "ffb86b84",
   "metadata": {},
   "source": [
    "6. What function takes a string of JSON data and returns a Python data structure?\n",
    "\n",
    "loads() method takes a string of JSON data and returns Python data structure."
   ]
  },
  {
   "cell_type": "markdown",
   "id": "801f7cfa",
   "metadata": {},
   "source": [
    "7. What function takes a Python data structure and returns a string of JSON data?\n",
    "\n",
    "json.dumps() takes a Python data structure and returns a string of JSON data."
   ]
  },
  {
   "cell_type": "code",
   "execution_count": null,
   "id": "5d718a61",
   "metadata": {},
   "outputs": [],
   "source": []
  }
 ],
 "metadata": {
  "kernelspec": {
   "display_name": "Python 3 (ipykernel)",
   "language": "python",
   "name": "python3"
  },
  "language_info": {
   "codemirror_mode": {
    "name": "ipython",
    "version": 3
   },
   "file_extension": ".py",
   "mimetype": "text/x-python",
   "name": "python",
   "nbconvert_exporter": "python",
   "pygments_lexer": "ipython3",
   "version": "3.9.13"
  }
 },
 "nbformat": 4,
 "nbformat_minor": 5
}
