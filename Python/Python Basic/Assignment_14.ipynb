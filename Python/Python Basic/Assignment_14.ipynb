{
 "cells": [
  {
   "cell_type": "markdown",
   "id": "e3be3ed2",
   "metadata": {},
   "source": [
    "1. What does RGBA stand for?\n",
    "\n",
    "An RGB color value represents RED, GREEN, and BLUE light sources. An RGBA color value is an extension of RGB with an Alpha channel (opacity)."
   ]
  },
  {
   "cell_type": "markdown",
   "id": "a67ede03",
   "metadata": {},
   "source": [
    "2. From the Pillow module, how do you get the RGBA value of any images?\n",
    "\n",
    "i. import the Image module from the Pillow library\n",
    "\n",
    "    from PIL import Image\n",
    "ii. Open any image and get the RAGBAG values.\n",
    "\n",
    "    img = Image.open(‘image.png’)\n",
    "\n",
    "    rgba = img.convert(“RGBA”)\n",
    "\n",
    "    datas = rgba.getdata()\n",
    "iii. Change the color \n",
    "\n",
    "    newData = []\n",
    "\n",
    "    for item in datas:\n",
    "\n",
    "       if item[0] == 0 and item[1] == 0 and item[2] == 0:\n",
    "\n",
    "           newData.append((255, 255, 255, 0))\n",
    "\n",
    "       else:\n",
    "\n",
    "          newData.append(item)\n",
    "iv. Store the changed image\n",
    "\n",
    "    rgba.putdata(newData)\n",
    "\n",
    "    rgba.save(“transparent_image.png”, “PNG”)"
   ]
  },
  {
   "cell_type": "markdown",
   "id": "c2ea3a5a",
   "metadata": {},
   "source": [
    "3. What is a box tuple, and how does it work?\n",
    "\n",
    "The box. tuple submodule provides read-only access for the tuple userdata type. It allows, for a single tuple: selective retrieval of the field contents, retrieval of information about size, iteration over all the fields, and conversion to a Lua table."
   ]
  },
  {
   "cell_type": "markdown",
   "id": "5104c655",
   "metadata": {},
   "source": [
    "4. Use your image and load in notebook then, How can you find out the width and height of an Image object?\n",
    "\n",
    "If we have loaded the image to notebook, then we can use data.shape to get the dimension of the image, which describes number of images in the dataset followed by width and height."
   ]
  },
  {
   "cell_type": "markdown",
   "id": "e20536c4",
   "metadata": {},
   "source": [
    "5. What method would you call to get Image object for a 100×100 image, excluding the lower-left quarter of it?\n",
    "\n",
    "We will call crop() method to get image object for a 100x100 image, excluding the lower-left quarter of it."
   ]
  },
  {
   "cell_type": "markdown",
   "id": "aaa25d5c",
   "metadata": {},
   "source": [
    "6. After making changes to an Image object, how could you save it as an image file?\n",
    "\n",
    "We can save an image directly if nofurther operations are required\n",
    "\n",
    "from PIL import Image\n",
    "\n",
    "im = Image.open('data/src/astronaut_rect.bmp')\n",
    "\n",
    "im.crop((60, 20, 400, 200)).save('data/dst/astronaut_pillow_crop.jpg', quality=95)\n",
    "\n",
    "Else we can store cropped image object to a variable and then save it\n",
    "\n",
    "im_crop = im.crop((60, 20, 400, 200))\n",
    "\n",
    "im_crop.save('data/dst/astronaut_pillow_crop.jpg', quality=95)"
   ]
  },
  {
   "cell_type": "markdown",
   "id": "c9d21765",
   "metadata": {},
   "source": [
    "7. What module contains Pillow’s shape-drawing code?\n",
    "\n",
    "The 'ImageDraw' module provides simple 2D graphics support for Image Object. Generally, we use this module to create new images, annotate or retouch existing images and to generate graphics on the fly for web use. The graphics commands support the drawing of shapes and annotation of text."
   ]
  },
  {
   "cell_type": "markdown",
   "id": "6f268af8",
   "metadata": {},
   "source": [
    "8. Image objects do not have drawing methods. What kind of object does? How do you get this kind of object?\n",
    "\n",
    "ImageDraw objects have shape-drawing methods such as point(), line(), or rectangle().They are returned by passing the Image object to the ImageDraw.Draw() function."
   ]
  },
  {
   "cell_type": "code",
   "execution_count": null,
   "id": "a668b42b",
   "metadata": {},
   "outputs": [],
   "source": []
  }
 ],
 "metadata": {
  "kernelspec": {
   "display_name": "Python 3 (ipykernel)",
   "language": "python",
   "name": "python3"
  },
  "language_info": {
   "codemirror_mode": {
    "name": "ipython",
    "version": 3
   },
   "file_extension": ".py",
   "mimetype": "text/x-python",
   "name": "python",
   "nbconvert_exporter": "python",
   "pygments_lexer": "ipython3",
   "version": "3.9.13"
  }
 },
 "nbformat": 4,
 "nbformat_minor": 5
}
