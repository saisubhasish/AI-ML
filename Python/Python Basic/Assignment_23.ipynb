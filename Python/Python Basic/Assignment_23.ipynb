{
 "cells": [
  {
   "cell_type": "markdown",
   "id": "d826c463",
   "metadata": {},
   "source": [
    "1. What is the result of the code, and why?\n",
    "\n",
    "def func(a, b=6, c=8):\n",
    "\n",
    "print(a, b, c)\n",
    "\n",
    "func(1, 2)\n"
   ]
  },
  {
   "cell_type": "code",
   "execution_count": 1,
   "id": "4801505b",
   "metadata": {},
   "outputs": [
    {
     "name": "stdout",
     "output_type": "stream",
     "text": [
      "1 2 8\n"
     ]
    }
   ],
   "source": [
    "def func(a, b=6, c=8):\n",
    "    print(a, b, c)\n",
    "func(1, 2)"
   ]
  },
  {
   "cell_type": "markdown",
   "id": "53e1b81c",
   "metadata": {},
   "source": [
    "In the above function we are declaring a as positional argument, b & c as default argument. So when calling the function with argument 1,2 (eg. func(1,2)), for first two positions of variables it is considering the values 1, 2 and for c it is considering the default value. **For default arguments if we are not providing any value during function call then it will consider the default value.**\n",
    "#### For posional argument order of the element matters, For default arguments if we are providing value during function call it will consider as per position of argument else the default value"
   ]
  },
  {
   "cell_type": "markdown",
   "id": "15ef7b98",
   "metadata": {},
   "source": [
    "2. What is the result of this code, and why?\n",
    "\n",
    "def func(a, b, c=5):\n",
    "\n",
    "    print(a, b, c)\n",
    "\n",
    "func(1, c=3, b=2)\n"
   ]
  },
  {
   "cell_type": "code",
   "execution_count": 2,
   "id": "50e0a286",
   "metadata": {},
   "outputs": [
    {
     "name": "stdout",
     "output_type": "stream",
     "text": [
      "1 2 3\n"
     ]
    }
   ],
   "source": [
    "def func(a, b, c=5):\n",
    "    print(a, b, c)\n",
    "    \n",
    "func(1, c=3, b=2)"
   ]
  },
  {
   "cell_type": "markdown",
   "id": "ca84bc35",
   "metadata": {},
   "source": [
    "In the above function we are declaring a & b as positional argument, c as default argument. So when calling the function with argument (1, c=3, b=2), for first position of the variable a is considering the values 1, **as order of the element matters for positional arguments.** And for b & c we are proving the value with key-word. **Where the order doesn't matter.**"
   ]
  },
  {
   "cell_type": "markdown",
   "id": "aebbe0f4",
   "metadata": {},
   "source": [
    "3. How about this code: what is its result, and why?\n",
    "    \n",
    "def func(a, *pargs):\n",
    "    \n",
    "    print(a, pargs)\n",
    "\n",
    "func(1, 2, 3)"
   ]
  },
  {
   "cell_type": "code",
   "execution_count": 3,
   "id": "f6b86ae4",
   "metadata": {},
   "outputs": [
    {
     "name": "stdout",
     "output_type": "stream",
     "text": [
      "1 (2, 3)\n"
     ]
    }
   ],
   "source": [
    "def func(a, *pargs):\n",
    "    print(a, pargs)\n",
    "\n",
    "func(1, 2, 3)"
   ]
  },
  {
   "cell_type": "markdown",
   "id": "8115f24f",
   "metadata": {},
   "source": [
    "In the above function we are declaring a as positional argument, and (*pargs) as variable length argument.  \n",
    "\n",
    "**We can only define a variable lenth argument at the time of function declaration. The work of variable length argument is that it will consider all the elements we are using during function call after normal/positional argument. And we can not declare a positional argument after variable length argument otherwise we will get syntax error**   "
   ]
  },
  {
   "cell_type": "markdown",
   "id": "954e974d",
   "metadata": {},
   "source": [
    "4. What does this code print, and why?\n",
    "\n",
    "def func(a, **kargs):\n",
    "\n",
    "    print(a, kargs)\n",
    " \n",
    "func(a=1, c=3, b=2)\n"
   ]
  },
  {
   "cell_type": "code",
   "execution_count": 4,
   "id": "d9f50ab5",
   "metadata": {},
   "outputs": [
    {
     "name": "stdout",
     "output_type": "stream",
     "text": [
      "1 {'c': 3, 'b': 2}\n"
     ]
    }
   ],
   "source": [
    "def func(a, **kargs):\n",
    "    print(a, kargs)\n",
    "    \n",
    "func(a=1, c=3, b=2)"
   ]
  },
  {
   "cell_type": "markdown",
   "id": "dbb21272",
   "metadata": {},
   "source": [
    "In the above function we are declaring a as positional argument, and (**kargs) as key-word argument.  \n",
    "\n",
    "**We have to pass the argument value only with key-word name or by parameter name. We use it at the time of calling s function by using key-word. Here we can take any number of argument and order is not important**"
   ]
  },
  {
   "cell_type": "markdown",
   "id": "5b3d7bfa",
   "metadata": {},
   "source": [
    "5. What gets printed by this, and explain?\n",
    "\n",
    "def func(a, b, c=8, d=5): \n",
    "    \n",
    "    print(a, b, c, d)\n",
    "    \n",
    "func(1, *(5, 6))"
   ]
  },
  {
   "cell_type": "code",
   "execution_count": 5,
   "id": "30d0d66c",
   "metadata": {},
   "outputs": [
    {
     "name": "stdout",
     "output_type": "stream",
     "text": [
      "1 5 6 5\n"
     ]
    }
   ],
   "source": [
    "def func(a, b, c=8, d=5):\n",
    "    print(a, b, c, d)\n",
    "func(1, *(5, 6))"
   ]
  },
  {
   "cell_type": "markdown",
   "id": "d34d655d",
   "metadata": {},
   "source": [
    "In the above function we are declaring a, b as positional argument, and and c, d as default argument. But in function call we are providing 1 as positional argument, which is taken by a and *(5, 6) as variable length argument, which is considered by b & c, and d is the default argument. So we are getting output as 1 5 6 5."
   ]
  },
  {
   "cell_type": "markdown",
   "id": "e57a522f",
   "metadata": {},
   "source": [
    "6. what is the result of this, and explain?\n",
    "\n",
    "def func(a, b, c): a = 2; b[0] = 'x'; c['a'] = 'y'\n",
    "\n",
    "l=1; m=[1]; n={'a':0}\n",
    "\n",
    "func(l, m, n)\n",
    "\n",
    "l, m, n"
   ]
  },
  {
   "cell_type": "code",
   "execution_count": 6,
   "id": "5ceebf82",
   "metadata": {},
   "outputs": [
    {
     "data": {
      "text/plain": [
       "(1, ['x'], {'a': 'y'})"
      ]
     },
     "execution_count": 6,
     "metadata": {},
     "output_type": "execute_result"
    }
   ],
   "source": [
    "def func(a, b, c): a = 2; b[0] = 'x'; c['a'] = 'y'\n",
    "    \n",
    "l=1; m=[1]; n={'a':0}\n",
    "func(l, m, n)\n",
    "l,m,n"
   ]
  },
  {
   "cell_type": "markdown",
   "id": "45712d77",
   "metadata": {},
   "source": [
    "1. We all know indentation is important in python. But it provides a facility to declare an entire function in one single line. where statements in a function body are sepereated by ;\n",
    "2. Then we are declaring the value of l,m,n and calling the function with the same. \n",
    "\n",
    "**As we know the basic data types of python (int, float, str, bool, complex) are immutable so the value for l is not changing and printing as it is. We are declaring m as list and inside function we are assigning value 'x' to it. In python list is mutable, so it is printing the changed value. Then we are declaring n as dict and inside function we are assigning value 'y' to key - 'a'. As dict is mutable, it is printing the changed value.**"
   ]
  },
  {
   "cell_type": "code",
   "execution_count": null,
   "id": "e7c91825",
   "metadata": {},
   "outputs": [],
   "source": []
  }
 ],
 "metadata": {
  "kernelspec": {
   "display_name": "Python 3 (ipykernel)",
   "language": "python",
   "name": "python3"
  },
  "language_info": {
   "codemirror_mode": {
    "name": "ipython",
    "version": 3
   },
   "file_extension": ".py",
   "mimetype": "text/x-python",
   "name": "python",
   "nbconvert_exporter": "python",
   "pygments_lexer": "ipython3",
   "version": "3.9.13"
  }
 },
 "nbformat": 4,
 "nbformat_minor": 5
}
