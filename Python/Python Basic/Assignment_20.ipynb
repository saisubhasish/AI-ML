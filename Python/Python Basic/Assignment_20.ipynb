{
 "cells": [
  {
   "cell_type": "markdown",
   "id": "ed4adb11",
   "metadata": {},
   "source": [
    "1. Set the variable test1 to the string 'This is a test of the emergency text system,' and save test1 to a file named test.txt."
   ]
  },
  {
   "cell_type": "code",
   "execution_count": 38,
   "id": "c3d9db91",
   "metadata": {},
   "outputs": [],
   "source": [
    "test1 = 'This is a test of the emergency text system,'\n",
    "\n",
    "f = open('test.txt', 'w')\n",
    "f.write(test1)\n",
    "f.close()"
   ]
  },
  {
   "cell_type": "markdown",
   "id": "d1aae009",
   "metadata": {},
   "source": [
    "2. Read the contents of the file test.txt into the variable test2. Is there a difference between test 1 and test 2?"
   ]
  },
  {
   "cell_type": "code",
   "execution_count": 39,
   "id": "eea3c887",
   "metadata": {},
   "outputs": [
    {
     "name": "stdout",
     "output_type": "stream",
     "text": [
      "Both are same\n"
     ]
    }
   ],
   "source": [
    "test2 = open('test.txt', 'r')\n",
    "test2 = test2.readline()\n",
    "\n",
    "if test1 == test2:\n",
    "    print('Both are same')"
   ]
  },
  {
   "cell_type": "markdown",
   "id": "1f25807a",
   "metadata": {},
   "source": [
    "3. Create a CSV file called books.csv by using these lines:\n",
    "\n",
    "title,author,year\n",
    "\n",
    "The Weirdstone of Brisingamen,Alan Garner,1960\n",
    "\n",
    "Perdido Street Station,China Miéville,2000\n",
    "\n",
    "Thud!,Terry Pratchett,2005\n",
    "\n",
    "The Spellman Files,Lisa Lutz,2007\n",
    "\n",
    "Small Gods,Terry Pratchett,1992"
   ]
  },
  {
   "cell_type": "code",
   "execution_count": 40,
   "id": "bd0b3021",
   "metadata": {},
   "outputs": [],
   "source": [
    "f = open(\"books.csv\", 'w')\n",
    "\n",
    "f.write(\"\"\"title,author,year\n",
    "\n",
    "The Weirdstone of Brisingamen,Alan Garner,1960\n",
    "\n",
    "Perdido Street Station,China Miéville,2000\n",
    "\n",
    "Thud!,Terry Pratchett,2005\n",
    "\n",
    "The Spellman Files,Lisa Lutz,2007\n",
    "\n",
    "Small Gods,Terry Pratchett,1992\"\"\")\n",
    "f.close()"
   ]
  },
  {
   "cell_type": "code",
   "execution_count": 41,
   "id": "26674d6e",
   "metadata": {},
   "outputs": [],
   "source": [
    "import csv\n",
    "\n",
    "rows = [['title', 'author', 'year'],\n",
    "        ['The Weirdstone of Brisingamen', 'Alan Garner', 1960],\n",
    "        ['Perdido Street Station', 'China Miéville', 2000],\n",
    "        ['Thud!', 'Terry Pratchett', 2005],\n",
    "        ['The Spellman Files', 'Lisa Lutz', 2007],\n",
    "        ['Small Gods', 'Terry Pratchett', 1992]\n",
    "       ]\n",
    "\n",
    "with open(\"books.csv\", 'w', newline='') as f:\n",
    "    write = csv.writer(f)\n",
    "    write.writerows(rows)"
   ]
  },
  {
   "cell_type": "markdown",
   "id": "4949bd65",
   "metadata": {},
   "source": [
    "4. Use the sqlite3 module to create a SQLite database called books.db, and a table called books with these fields: title (text), author (text), and year (integer)."
   ]
  },
  {
   "cell_type": "code",
   "execution_count": 42,
   "id": "fe5fcabb",
   "metadata": {},
   "outputs": [],
   "source": [
    "import sqlite3\n",
    "\n",
    "def connect():\n",
    "    conn= sqlite3.connect(\"books.db\")\n",
    "    curr= conn.cursor()\n",
    "    curr.execute(\"CREATE TABLE IF NOT EXISTS books(title text,author text,year integer)\")\n",
    "    conn.commit()\n",
    "    conn.close()\n",
    "    \n",
    "    \n",
    "connect()"
   ]
  },
  {
   "cell_type": "markdown",
   "id": "fe0b7def",
   "metadata": {},
   "source": [
    "5. Read books.csv and insert its data into the book table."
   ]
  },
  {
   "cell_type": "code",
   "execution_count": 43,
   "id": "2ccf70ac",
   "metadata": {},
   "outputs": [],
   "source": [
    "import pandas as pd\n",
    "\n",
    "def read():\n",
    "    conn = sqlite3.connect(\"books.db\")\n",
    "    read_books = pd.read_csv(\"books.csv\", encoding='unicode_escape')\n",
    "    read_books.to_sql('books', conn, if_exists='append', index= False)\n",
    "    \n",
    "read()"
   ]
  },
  {
   "cell_type": "markdown",
   "id": "a4d251c0",
   "metadata": {},
   "source": [
    "6. Select and print the title column from the book table in alphabetical order."
   ]
  },
  {
   "cell_type": "code",
   "execution_count": 44,
   "id": "53f9713f",
   "metadata": {},
   "outputs": [
    {
     "name": "stdout",
     "output_type": "stream",
     "text": [
      "[('Perdido Street Station',), ('Perdido Street Station',), ('Small Gods',), ('Small Gods',), ('The Spellman Files',), ('The Spellman Files',), ('The Weirdstone of Brisingamen',), ('The Weirdstone of Brisingamen',), ('Thud!',), ('Thud!',)]\n"
     ]
    }
   ],
   "source": [
    "def print_title():\n",
    "    conn= sqlite3.connect(\"books.db\")\n",
    "    curr=  conn.cursor()\n",
    "    curr.execute('select title from books order by title asc')\n",
    "    print(curr.fetchall())\n",
    "    \n",
    "print_title()"
   ]
  },
  {
   "cell_type": "markdown",
   "id": "71d9621d",
   "metadata": {},
   "source": [
    "7. From the book table, select and print all columns in the order of publication."
   ]
  },
  {
   "cell_type": "code",
   "execution_count": 45,
   "id": "92fedf58",
   "metadata": {},
   "outputs": [
    {
     "name": "stdout",
     "output_type": "stream",
     "text": [
      "[('The Weirdstone of Brisingamen', 'Alan Garner', 1960), ('The Weirdstone of Brisingamen', 'Alan Garner', 1960), ('Small Gods', 'Terry Pratchett', 1992), ('Small Gods', 'Terry Pratchett', 1992), ('Perdido Street Station', 'China Miéville', 2000), ('Perdido Street Station', 'China Miéville', 2000), ('Thud!', 'Terry Pratchett', 2005), ('Thud!', 'Terry Pratchett', 2005), ('The Spellman Files', 'Lisa Lutz', 2007), ('The Spellman Files', 'Lisa Lutz', 2007)]\n"
     ]
    }
   ],
   "source": [
    "def print_all():\n",
    "    conn= sqlite3.connect(\"books.db\")\n",
    "    curr=  conn.cursor()\n",
    "    curr.execute('select * from books order by year asc')\n",
    "    print(curr.fetchall())\n",
    "    \n",
    "print_all()"
   ]
  },
  {
   "cell_type": "markdown",
   "id": "45299a79",
   "metadata": {},
   "source": [
    "8. Use the sqlalchemy module to connect to the sqlite3 database books.db that you just made in exercise 6."
   ]
  },
  {
   "cell_type": "code",
   "execution_count": 46,
   "id": "8fa504de",
   "metadata": {},
   "outputs": [
    {
     "name": "stdout",
     "output_type": "stream",
     "text": [
      "('The Weirdstone of Brisingamen', 'Alan Garner', 1960)\n",
      "('Perdido Street Station', 'China Miéville', 2000)\n",
      "('Thud!', 'Terry Pratchett', 2005)\n",
      "('The Spellman Files', 'Lisa Lutz', 2007)\n",
      "('Small Gods', 'Terry Pratchett', 1992)\n",
      "('The Weirdstone of Brisingamen', 'Alan Garner', 1960)\n",
      "('Perdido Street Station', 'China Miéville', 2000)\n",
      "('Thud!', 'Terry Pratchett', 2005)\n",
      "('The Spellman Files', 'Lisa Lutz', 2007)\n",
      "('Small Gods', 'Terry Pratchett', 1992)\n"
     ]
    }
   ],
   "source": [
    "import sqlalchemy\n",
    "\n",
    "engine = sqlalchemy.create_engine(\"sqlite:///books.db\")\n",
    "rows = engine.execute('select * from books')\n",
    "\n",
    "for i in rows:\n",
    "    print(i)"
   ]
  },
  {
   "cell_type": "markdown",
   "id": "2b5b9062",
   "metadata": {},
   "source": [
    "9. Install the Redis server and the Python redis library (pip install redis) on your computer. Create a Redis hash called test with the fields count (1) and name ('Fester Bestertester'). Print all the fields for test."
   ]
  },
  {
   "cell_type": "code",
   "execution_count": null,
   "id": "82765256",
   "metadata": {},
   "outputs": [],
   "source": [
    "!pip install redis"
   ]
  },
  {
   "cell_type": "code",
   "execution_count": null,
   "id": "12939c47",
   "metadata": {},
   "outputs": [],
   "source": [
    "import redis\n",
    "\n",
    "conn = redis.Redis()\n",
    "conn.delete('test')\n",
    "conn.hmset('test', {'count': 1, 'name': 'Fester Bestertester'})\n",
    "conn.hgetall('test')"
   ]
  },
  {
   "cell_type": "markdown",
   "id": "9aefc2be",
   "metadata": {},
   "source": [
    "10. Increment the count field of test and print it."
   ]
  },
  {
   "cell_type": "code",
   "execution_count": null,
   "id": "01aa3a0c",
   "metadata": {},
   "outputs": [],
   "source": [
    "conn.hincrby('test','count', 3)"
   ]
  }
 ],
 "metadata": {
  "kernelspec": {
   "display_name": "Python 3 (ipykernel)",
   "language": "python",
   "name": "python3"
  },
  "language_info": {
   "codemirror_mode": {
    "name": "ipython",
    "version": 3
   },
   "file_extension": ".py",
   "mimetype": "text/x-python",
   "name": "python",
   "nbconvert_exporter": "python",
   "pygments_lexer": "ipython3",
   "version": "3.9.13"
  }
 },
 "nbformat": 4,
 "nbformat_minor": 5
}
