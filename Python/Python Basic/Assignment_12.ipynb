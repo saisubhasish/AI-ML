{
 "cells": [
  {
   "cell_type": "markdown",
   "id": "c3e1676d",
   "metadata": {},
   "source": [
    "1. In what modes should the PdfFileReader() and PdfFileWriter() File objects will be opened?"
   ]
  },
  {
   "cell_type": "markdown",
   "id": "5445efc2",
   "metadata": {},
   "source": [
    "Ans. PdfFileReader() file objects should be opened in rb -> read binary mode, \n",
    "- and PdfFileWriter() file objects should be opened in wb -> write binary mode."
   ]
  },
  {
   "cell_type": "markdown",
   "id": "b7a6c282",
   "metadata": {},
   "source": [
    "2. From a PdfFileReader object, how do you get a Page object for page 5?"
   ]
  },
  {
   "cell_type": "markdown",
   "id": "efd1dd92",
   "metadata": {},
   "source": [
    "Ans. You can get a Page object by calling the getPage() method on a PdfFileReader object by passing the required page number."
   ]
  },
  {
   "cell_type": "markdown",
   "id": "54f54cfd",
   "metadata": {},
   "source": [
    "3. What PdfFileReader variable stores the number of pages in the PDF document?"
   ]
  },
  {
   "cell_type": "markdown",
   "id": "81ef09f1",
   "metadata": {},
   "source": [
    "Ans. The total number of pages in the document is stored in the numPages attribute of a PdfFileReader object"
   ]
  },
  {
   "cell_type": "markdown",
   "id": "78b2ff75",
   "metadata": {},
   "source": [
    "4. If a PdfFileReader object’s PDF is encrypted with the password swordfish, what must you do before you can obtain Page objects from it?"
   ]
  },
  {
   "cell_type": "markdown",
   "id": "716c8ff5",
   "metadata": {},
   "source": [
    "Ans: If a PdfFileReader object's PDF is encrypted with the password swordfish and you're not aware of it. first read the Pdf using the PdfFileReader Class."
   ]
  },
  {
   "cell_type": "markdown",
   "id": "5253e6c0",
   "metadata": {},
   "source": [
    "5. What methods do you use to rotate a page?"
   ]
  },
  {
   "cell_type": "markdown",
   "id": "fca06cd9",
   "metadata": {},
   "source": [
    "Ans. Right-click the selected page or individual pages, and choose the \"Rotate Page\" option. Once you select the \"Rotate Page\" option, the \"Rotate\" window pops up, allowing you to select the orientation you would like to rotate the page, and you can also choose the page range that you would like to perform this rotation on."
   ]
  },
  {
   "cell_type": "markdown",
   "id": "e75895b6",
   "metadata": {},
   "source": [
    "6. What is the difference between a Run object and a Paragraph object?"
   ]
  },
  {
   "cell_type": "markdown",
   "id": "e3265f16",
   "metadata": {},
   "source": [
    "Ans. New Paragraph objects can be added only to the end of the document, and new Run objects can be added only to the end of a Paragraph object."
   ]
  },
  {
   "cell_type": "markdown",
   "id": "28ee81c2",
   "metadata": {},
   "source": [
    "7. How do you obtain a list of Paragraph objects for a Document object that’s stored in a variable named doc?"
   ]
  },
  {
   "cell_type": "code",
   "execution_count": null,
   "id": "9a063fb5",
   "metadata": {},
   "outputs": [],
   "source": [
    "#!pip install python-docx\n",
    "import docx\n",
    "doc = docx.Document('abc.docx')\n",
    "doc.paragraphs\n",
    "#By using doc.paragraphs"
   ]
  },
  {
   "cell_type": "markdown",
   "id": "50d1dafd",
   "metadata": {},
   "source": [
    "8. What type of object has bold, underline, italic, strike, and outline variables?"
   ]
  },
  {
   "cell_type": "markdown",
   "id": "d2cee87c",
   "metadata": {},
   "source": [
    "Ans: Run object has bold, underline, italic, strike, and outline variables."
   ]
  },
  {
   "cell_type": "markdown",
   "id": "be292b07",
   "metadata": {},
   "source": [
    "9. What is the difference between False, True, and None for the bold variable?"
   ]
  },
  {
   "cell_type": "markdown",
   "id": "72b55fa9",
   "metadata": {},
   "source": [
    "Ans. \n",
    "- Runs can be further styled using text attributes. Each attribute can be set to one of three values:\n",
    "True (the attribute is always enabled, no matter what other styles are applied to the run),\n",
    "False (the attribute is always disabled),\n",
    "None (defaults to whatever the run’s style is set to)\n",
    "\n",
    "- True always makes the Run object bolded and False makes it always not bolded, no matter what the style’s bold setting is. None will make the Run object just use the style’s bold setting"
   ]
  },
  {
   "cell_type": "markdown",
   "id": "f59cf0aa",
   "metadata": {},
   "source": [
    "10. How do you create a Document object for a new Word document?"
   ]
  },
  {
   "cell_type": "markdown",
   "id": "195f68b0",
   "metadata": {},
   "source": [
    "Ans. By Calling the docx.Document() function."
   ]
  },
  {
   "cell_type": "markdown",
   "id": "31d92059",
   "metadata": {},
   "source": [
    "11. How do you add a paragraph with the text 'Hello, there!' to a Document object stored in a variable named doc?"
   ]
  },
  {
   "cell_type": "code",
   "execution_count": null,
   "id": "528071d4",
   "metadata": {},
   "outputs": [],
   "source": [
    "import docx\n",
    "doc = docx.Document()\n",
    "\n",
    "doc.add_paragraph('Hello there!')\n",
    "doc.save('hellothere.docx')"
   ]
  },
  {
   "cell_type": "markdown",
   "id": "21c68af7",
   "metadata": {},
   "source": [
    "12. What integers represent the levels of headings available in Word documents?"
   ]
  },
  {
   "cell_type": "markdown",
   "id": "dbc652fd",
   "metadata": {},
   "source": [
    "Ans.\n",
    "- integer from 0 to 4\n",
    "- The arguments to add_heading() are a string of the heading text and an integer from 0 to 4. The integer 0 makes the heading the Title style, which is used for the top of the document. Integers 1 to 4 are for various heading levels, with 1 being the main heading and 4 the lowest subheading"
   ]
  },
  {
   "cell_type": "code",
   "execution_count": null,
   "id": "6506d5f4",
   "metadata": {},
   "outputs": [],
   "source": []
  }
 ],
 "metadata": {
  "kernelspec": {
   "display_name": "Python 3 (ipykernel)",
   "language": "python",
   "name": "python3"
  },
  "language_info": {
   "codemirror_mode": {
    "name": "ipython",
    "version": 3
   },
   "file_extension": ".py",
   "mimetype": "text/x-python",
   "name": "python",
   "nbconvert_exporter": "python",
   "pygments_lexer": "ipython3",
   "version": "3.9.13"
  }
 },
 "nbformat": 4,
 "nbformat_minor": 5
}
