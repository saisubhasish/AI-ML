{
 "cells": [
  {
   "cell_type": "markdown",
   "id": "7087db5a",
   "metadata": {},
   "source": [
    "#### Q1. What is a probability distribution, exactly? If the values are meant to be random, how can you predict them at all ?\n"
   ]
  },
  {
   "cell_type": "markdown",
   "id": "98cb9e43",
   "metadata": {},
   "source": [
    "**Ans:** A probability distribution describes how a random variable is distributed.\n",
    "\n",
    "It tells us which values a random variable is most likely to take on and which values are less likely. Based on the previous data and the occurences of the random event, we can predict the outcome in terms of probabilities. "
   ]
  },
  {
   "cell_type": "markdown",
   "id": "d7d3595a",
   "metadata": {},
   "source": [
    "#### Q2. Is there a distinction between true random numbers and pseudo-random numbers, if there is one? Why are the latter considered “good enough”?\n"
   ]
  },
  {
   "cell_type": "markdown",
   "id": "4b076053",
   "metadata": {},
   "source": [
    "**Ans:** : True Random Numbers are true physical values while pseudo-random numbers are generated internally by a program . Latter is considered good enough as they have sort of uniform\n",
    "distribution. "
   ]
  },
  {
   "cell_type": "markdown",
   "id": "9cedbf5f",
   "metadata": {},
   "source": [
    "#### Q3. What are the two main factors that influence the behaviour of a \"normal\" probability distribution ?\n",
    " "
   ]
  },
  {
   "cell_type": "markdown",
   "id": "0fe92fd0",
   "metadata": {},
   "source": [
    "**Ans:** Normal Probability Distribution are influenced by two factors mean and the variance."
   ]
  },
  {
   "cell_type": "markdown",
   "id": "33fec564",
   "metadata": {},
   "source": [
    "#### Q4. Provide a real-life example of a normal distribution ?\n"
   ]
  },
  {
   "cell_type": "markdown",
   "id": "55ca43a4",
   "metadata": {},
   "source": [
    "**Ans:** A Real-life example of a normal distribution are heights or blood pressure measurements"
   ]
  },
  {
   "cell_type": "markdown",
   "id": "7b3240d8",
   "metadata": {},
   "source": [
    "#### Q5. In the short term, how can you expect a probability distribution to behave? What do you think will happen as the number of trials grows ?\n"
   ]
  },
  {
   "cell_type": "markdown",
   "id": "4e37bff8",
   "metadata": {},
   "source": [
    "**Ans:** Variance will decrease with number of trials"
   ]
  },
  {
   "cell_type": "markdown",
   "id": "1203e25e",
   "metadata": {},
   "source": [
    "#### Q6. What kind of object can be shuffled by using random.shuffle ?\n"
   ]
  },
  {
   "cell_type": "markdown",
   "id": "fafec990",
   "metadata": {},
   "source": [
    "**Ans:** lists (`list`), strings (`str`) and tuples (`tuple`) objects can be shuffled by using `random.shuffle`."
   ]
  },
  {
   "cell_type": "markdown",
   "id": "863364d1",
   "metadata": {},
   "source": [
    "#### Q7. Describe the math package's general categories of functions ?\n"
   ]
  },
  {
   "cell_type": "markdown",
   "id": "c9ec77fe",
   "metadata": {},
   "source": [
    "**Ans:** The Math package's general categories of functions are:\n",
    "1. Trigonometric functions\n",
    "2. Quadratic functions\n",
    "3. Exponential functions\n",
    "4. Hyperbolic functions\n",
    "5. Periodic functions\n",
    "6. Arithmetic functions\n",
    "7. Logarithimic functions\n",
    "8. Conversions to Integer"
   ]
  },
  {
   "cell_type": "markdown",
   "id": "a5b700dc",
   "metadata": {},
   "source": [
    "#### Q8. What is the relationship between exponentiation and logarithms ?\n"
   ]
  },
  {
   "cell_type": "markdown",
   "id": "8fb7dcef",
   "metadata": {},
   "source": [
    "**Ans:** Exponentiation and logarithms are inverse of each other. "
   ]
  },
  {
   "cell_type": "markdown",
   "id": "6cde4010",
   "metadata": {},
   "source": [
    "#### Q9. What are the three logarithmic functions that Python supports ?\n"
   ]
  },
  {
   "cell_type": "markdown",
   "id": "0ef83398",
   "metadata": {},
   "source": [
    "**Ans:** The Three Logarithmic Functions that Python supports are:\n",
    "1. `log2(x)` - logarithmic value of x to base 2\n",
    "2. `log10(x)` - logarithmic value of x to base 10 \n",
    "3. `log1p(a)` - This function is used to compute logarithm(1+a) . "
   ]
  },
  {
   "cell_type": "code",
   "execution_count": null,
   "id": "f890cfca",
   "metadata": {},
   "outputs": [],
   "source": []
  }
 ],
 "metadata": {
  "kernelspec": {
   "display_name": "Python 3 (ipykernel)",
   "language": "python",
   "name": "python3"
  },
  "language_info": {
   "codemirror_mode": {
    "name": "ipython",
    "version": 3
   },
   "file_extension": ".py",
   "mimetype": "text/x-python",
   "name": "python",
   "nbconvert_exporter": "python",
   "pygments_lexer": "ipython3",
   "version": "3.9.13"
  }
 },
 "nbformat": 4,
 "nbformat_minor": 5
}
