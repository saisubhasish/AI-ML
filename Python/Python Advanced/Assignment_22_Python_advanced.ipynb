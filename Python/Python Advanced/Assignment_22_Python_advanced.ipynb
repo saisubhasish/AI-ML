{
 "cells": [
  {
   "cell_type": "markdown",
   "id": "9a6056db",
   "metadata": {},
   "source": [
    "#### Q1. What are the benefits of the built-in array package, if any?\n"
   ]
  },
  {
   "cell_type": "markdown",
   "id": "6f4479fa",
   "metadata": {},
   "source": [
    "**Ans:** Arrays represent multiple data items of the same type using a single name. In arrays, the elements can be accessed randomly by using the index number. Arrays allocate memory in contiguous memory locations for all its elements. Hence there is no chance of extra memory being allocated in case of arrays. This avoids memory overflow or shortage of memory in arrays."
   ]
  },
  {
   "cell_type": "markdown",
   "id": "84518342",
   "metadata": {},
   "source": [
    "#### Q2. What are some of the array package's limitations ?\n"
   ]
  },
  {
   "cell_type": "markdown",
   "id": "769d0a21",
   "metadata": {},
   "source": [
    "**Ans:**  The number of elements to be stored in an array should be known in advance. An array is a static structure (which means the array is of fixed size). Once declared the size of the array cannot be modified. The memory which is allocated to it cannot be increased or decreased.\n",
    "\n",
    "Insertion and deletion are quite difficult in an array as the elements are stored in consecutive memory locations and the shifting operation is costly.\n",
    "\n",
    "Allocating more memory than the requirement leads to wastage of memory space and less allocation of memory also leads to a problem"
   ]
  },
  {
   "cell_type": "markdown",
   "id": "aa5242d9",
   "metadata": {},
   "source": [
    "#### Q3. Describe the main differences between the array and numpy packages ?\n"
   ]
  },
  {
   "cell_type": "markdown",
   "id": "4580dd05",
   "metadata": {},
   "source": [
    "**Ans:**  The array package doesn't provide any help with numerical calculation with the items insdie it in number form while NumPy give you a wide variety of numerical operations.\n",
    "\n",
    "An array is a single dimensional entity which hold the numerical data, while numpy can have more than 1 dimension.\n",
    "\n",
    "In case of array, item can be accessed by its index position and it is easy task while in numpy item is accessed by its column and row index, which makes it slightly time taking. Same goes with appending operation.\n",
    "\n",
    "In case of array we do not form a tabular structure, while in numpy it forms a tabular structure "
   ]
  },
  {
   "cell_type": "markdown",
   "id": "b1a92579",
   "metadata": {},
   "source": [
    "#### Q4. Explain the distinctions between the empty, ones, and zeros functions ?\n"
   ]
  },
  {
   "cell_type": "markdown",
   "id": "5b28be6a",
   "metadata": {},
   "source": [
    "**Ans:** The distinctions between the `empty`, `ones`, and `zero` functions are as follows :  \n",
    "- `Empty function:` An empty function is a function that does not contain any statement within its body. If you try to write a function definition without any statement in python ,it will return an error. To avoid this, we use pass statement. pass is a special statement in Python that does nothing. It only works as a dummy statement.  \n",
    "- `Ones:` This function returns a new array of given shape and data type, where the element’s value is 1.  \n",
    "- `Zeros:` This function returns a new array of given shape and data type, where the element’s value is 0.  "
   ]
  },
  {
   "cell_type": "markdown",
   "id": "73cc869c",
   "metadata": {},
   "source": [
    "#### Q5. In the fromfunction function, which is used to construct new arrays, what is the role of the callable argument ?\n"
   ]
  },
  {
   "cell_type": "markdown",
   "id": "2f7298b3",
   "metadata": {},
   "source": [
    "**Ans:**  Its function is to execute the function over each coordinate and the resulting array. The function is called with N parameters, where N is the rank of shape. Each parameter represents the coordinates of the array varying along a specific axis. "
   ]
  },
  {
   "cell_type": "markdown",
   "id": "8602d107",
   "metadata": {},
   "source": [
    "#### Q6. What happens when a numpy array is combined with a single-value operand (a scalar, such as an int or a floating-point value) through addition, as in the expression `A + n` ?\n"
   ]
  },
  {
   "cell_type": "markdown",
   "id": "60d4a4fb",
   "metadata": {},
   "source": [
    "**Ans:** If any scaler value such as integer is added to the numpy array then all the elements inside the array will add that value in it. "
   ]
  },
  {
   "cell_type": "markdown",
   "id": "a5596329",
   "metadata": {},
   "source": [
    "#### Q7. Can array-to-scalar operations use combined operation-assign operators (such as += or *=)? What is the outcome ?\n"
   ]
  },
  {
   "cell_type": "markdown",
   "id": "f7c47222",
   "metadata": {},
   "source": [
    "**Ans:** It will carry out provided operation on all elements of array. "
   ]
  },
  {
   "cell_type": "markdown",
   "id": "bc468e3f",
   "metadata": {},
   "source": [
    "#### Q8. Does a numpy array contain fixed-length strings? What happens if you allocate a longer string to one of these arrays ?\n"
   ]
  },
  {
   "cell_type": "markdown",
   "id": "867f916c",
   "metadata": {},
   "source": [
    "**Ans:** : Yes, it is possible that we can include a string of fixed length in numpy array. The dtype of any numpy array containing string values is the maximum length of any string present in the array.Once set, it will only be able to store new string having length not more than the maximum length at the time of the creation. If we try to reassign some another string value having length greater than the maximum length of the existing elements, it simply discards all the values beyond the maximum length accept upto those values which are under the limit."
   ]
  },
  {
   "cell_type": "markdown",
   "id": "283e8db9",
   "metadata": {},
   "source": [
    "#### Q9. What happens when you combine two numpy arrays using an operation like addition (+) or multiplication (*)? What are the conditions for combining two numpy arrays ?\n"
   ]
  },
  {
   "cell_type": "markdown",
   "id": "d8f8397d",
   "metadata": {},
   "source": [
    "**Ans:** It will simply add or multiply element to element at same position. "
   ]
  },
  {
   "cell_type": "markdown",
   "id": "fe110f23",
   "metadata": {},
   "source": [
    "#### Q10. What is the best way to use a Boolean array to mask another array ?\n"
   ]
  },
  {
   "cell_type": "markdown",
   "id": "91c495ea",
   "metadata": {},
   "source": [
    "**Ans:** The best way to use a Boolean array to mask another array is by Using `masked_where` of numpy package"
   ]
  },
  {
   "cell_type": "markdown",
   "id": "1f986b9a",
   "metadata": {},
   "source": [
    "#### Q11. What are three different ways to get the standard deviation of a wide collection of data using both standard Python and its packages? Sort the three of them by how quickly they execute ?\n"
   ]
  },
  {
   "cell_type": "markdown",
   "id": "c710fab2",
   "metadata": {},
   "source": [
    "**Ans:** `np.std` and math package can be used individually. "
   ]
  },
  {
   "cell_type": "markdown",
   "id": "be0e8c9f",
   "metadata": {},
   "source": [
    "#### 12. What is the dimensionality of a Boolean mask-generated array ?\n"
   ]
  },
  {
   "cell_type": "markdown",
   "id": "e04d7426",
   "metadata": {},
   "source": [
    "**Ans:**  It will have same dimensionality as input array."
   ]
  },
  {
   "cell_type": "code",
   "execution_count": null,
   "id": "6650c6d0",
   "metadata": {},
   "outputs": [],
   "source": []
  }
 ],
 "metadata": {
  "kernelspec": {
   "display_name": "Python 3 (ipykernel)",
   "language": "python",
   "name": "python3"
  },
  "language_info": {
   "codemirror_mode": {
    "name": "ipython",
    "version": 3
   },
   "file_extension": ".py",
   "mimetype": "text/x-python",
   "name": "python",
   "nbconvert_exporter": "python",
   "pygments_lexer": "ipython3",
   "version": "3.9.13"
  }
 },
 "nbformat": 4,
 "nbformat_minor": 5
}
