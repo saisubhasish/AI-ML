{
 "cells": [
  {
   "cell_type": "markdown",
   "id": "7569ca19",
   "metadata": {},
   "source": [
    "**Q1. What is the relationship between classes and modules?**"
   ]
  },
  {
   "cell_type": "markdown",
   "id": "f98ed0ef",
   "metadata": {},
   "source": [
    "**Ans**\n",
    "\n",
    "i.\tClass is the collection of methods, constructor and variables, and to define a class we use class keyword.\n",
    "\n",
    "ii.\tModule is a collection of classes, functions, and attributes, which is like a package.\n",
    "\n",
    "iii. We can modify the attributes of the class by using inheritance. But we can simply use the codes written in a module by importing it. "
   ]
  },
  {
   "cell_type": "markdown",
   "id": "92721c63",
   "metadata": {},
   "source": [
    "**Q2. How do you make instances and classes?**"
   ]
  },
  {
   "cell_type": "markdown",
   "id": "d05985b6",
   "metadata": {},
   "source": [
    "**Ans**\n",
    "\n",
    "i.\tTo make classes we use class keyword. \n",
    "\n",
    "ii.\tTo make instance of a class you can define __init__() method inside class which is not mandatory. Then create object by passing the arguments it’s constructor takes then refer it to an instance or variable."
   ]
  },
  {
   "cell_type": "code",
   "execution_count": 3,
   "id": "1247a323",
   "metadata": {},
   "outputs": [
    {
     "name": "stdout",
     "output_type": "stream",
     "text": [
      "Sai\n"
     ]
    }
   ],
   "source": [
    "#Eg :\n",
    "\n",
    "class Instance:\n",
    "    def __init__(self, name):\n",
    "        self.name = name\n",
    "        \n",
    "i = Instance('Sai')\n",
    "print(i.name)"
   ]
  },
  {
   "cell_type": "code",
   "execution_count": 6,
   "id": "40766c67",
   "metadata": {},
   "outputs": [
    {
     "name": "stdout",
     "output_type": "stream",
     "text": [
      "Instance Print\n"
     ]
    }
   ],
   "source": [
    "class Instance:\n",
    "    def print_name(self):\n",
    "        print('Instance Print')\n",
    "        \n",
    "i = Instance()\n",
    "i.print_name()"
   ]
  },
  {
   "cell_type": "markdown",
   "id": "a9ce5725",
   "metadata": {},
   "source": [
    "**Q3. Where and how should be class attributes created?**"
   ]
  },
  {
   "cell_type": "markdown",
   "id": "d7afb9c4",
   "metadata": {},
   "source": [
    "**Ans**\n",
    "\n",
    "Class attributes belong to class itself, they will be shared by all the instances. They are defined at the class body parts."
   ]
  },
  {
   "cell_type": "markdown",
   "id": "1c598d27",
   "metadata": {},
   "source": [
    "**Q4. Where and how are instance attributes created?**"
   ]
  },
  {
   "cell_type": "markdown",
   "id": "95168ae6",
   "metadata": {},
   "source": [
    "**Ans**\n",
    "\n",
    "Instance attributes are defined inside constructor which is defined directly inside a class using parameter self."
   ]
  },
  {
   "cell_type": "markdown",
   "id": "c16e4a13",
   "metadata": {},
   "source": [
    "**Q5. What does the term \"self\" in a Python class mean?**"
   ]
  },
  {
   "cell_type": "markdown",
   "id": "8714e312",
   "metadata": {},
   "source": [
    "**Ans**\n",
    "\n",
    "Self is an reference variable which indicates current class instance/object. And it is used to access variables which belong to the particular class, inside the class."
   ]
  },
  {
   "cell_type": "markdown",
   "id": "74ff2d63",
   "metadata": {},
   "source": [
    "**Q6. How does a Python class handle operator overloading?**"
   ]
  },
  {
   "cell_type": "markdown",
   "id": "79b5765a",
   "metadata": {},
   "source": [
    "**Ans**\n",
    "\n",
    "In python + operator works as overloaded operator. It performs addition when we use it with **int** class. It performs concatenation when we use it with **str** and **list** class. To handle operator overloading python has inbuilt magic functions. \n",
    "\n",
    "(eg: __add__(self, other),__sub__(self, other), __mul__(self, other), __truediv__(self, other),__floordiv__(self, other), __mod__(self, other), __pow__(self, other), __rshift__(self, other), __lshift__(self, other), __and__(self, other), __or__(self, other), __xor__(self, other))\n"
   ]
  },
  {
   "cell_type": "markdown",
   "id": "1536d9c4",
   "metadata": {},
   "source": [
    "**Q7. When do you consider allowing operator overloading of your classes?**"
   ]
  },
  {
   "cell_type": "markdown",
   "id": "9e4645da",
   "metadata": {},
   "source": [
    "**Ans**\n",
    "\n",
    "Allowing operator overloading means using operators (+,-,*,<,>,&,|,^) for different classes to perform different operations. We will allow operator overloading for the classes when we are dealing with same type classes (int-int, str-str, list-list) to perform either addition or concatenation operation.\n"
   ]
  },
  {
   "cell_type": "markdown",
   "id": "19b355d7",
   "metadata": {},
   "source": [
    "**Q8. What is the most popular form of operator overloading?**"
   ]
  },
  {
   "cell_type": "markdown",
   "id": "9c730e25",
   "metadata": {},
   "source": [
    "**Ans**\n",
    "\n",
    "The most popular form of operator loading is +. Which is used for both addition and concatenation.\n"
   ]
  },
  {
   "cell_type": "markdown",
   "id": "bece9839",
   "metadata": {},
   "source": [
    "**Q9. What are the two most important concepts to grasp in order to comprehend Python OOP code?**"
   ]
  },
  {
   "cell_type": "markdown",
   "id": "8552e593",
   "metadata": {},
   "source": [
    "**Ans**\n",
    "\n",
    "The most important concepts to grasp Python OOP code are \n",
    "\n",
    "i.\tInheritance\n",
    "\n",
    "ii.\tPolymorphism\n",
    "\n",
    "Inheritance :\n",
    "\n",
    "Acquiring the properties of one class to another class is the concept of inheritance.\n",
    "It is used for code reusability and extendability."
   ]
  },
  {
   "cell_type": "code",
   "execution_count": 7,
   "id": "243dad76",
   "metadata": {},
   "outputs": [
    {
     "name": "stdout",
     "output_type": "stream",
     "text": [
      "Employee Number :  1118\n",
      "Employee Name :  Subhasish\n",
      "Employee Salary :  100000\n"
     ]
    }
   ],
   "source": [
    "#Eg:\n",
    "\n",
    "class Employee:\n",
    "\n",
    "    def __init__(self, eno, ename, esal):\n",
    "    \n",
    "        self.eno = eno\n",
    "        \n",
    "        self.ename = ename\n",
    "        \n",
    "        self.esal = esal\n",
    "        \n",
    "    def display(self):\n",
    "    \n",
    "        print('Employee Number : ', self.eno)\n",
    "        \n",
    "        print('Employee Name : ', self.ename)\n",
    "        \n",
    "        print('Employee Salary : ', self.esal)\n",
    "        \n",
    "e = Employee(1118, 'Subhasish', 100000)\n",
    "\n",
    "e.display()\n"
   ]
  },
  {
   "cell_type": "code",
   "execution_count": null,
   "id": "351cfadc",
   "metadata": {},
   "outputs": [],
   "source": []
  }
 ],
 "metadata": {
  "kernelspec": {
   "display_name": "Python 3 (ipykernel)",
   "language": "python",
   "name": "python3"
  },
  "language_info": {
   "codemirror_mode": {
    "name": "ipython",
    "version": 3
   },
   "file_extension": ".py",
   "mimetype": "text/x-python",
   "name": "python",
   "nbconvert_exporter": "python",
   "pygments_lexer": "ipython3",
   "version": "3.9.13"
  }
 },
 "nbformat": 4,
 "nbformat_minor": 5
}
