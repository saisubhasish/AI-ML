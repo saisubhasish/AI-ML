{
 "cells": [
  {
   "cell_type": "markdown",
   "id": "7569ca19",
   "metadata": {},
   "source": [
    "Q1. What is the relationship between classes and modules?\n",
    "\n",
    "i.\tTo define a class we use class keyword.\n",
    "\n",
    "ii.\tModule is the combination of classes, functions and other modules\n",
    "\n",
    "iii.\tWe can modify the attributes of the class by using inheritance. But we can simply use the codes written in a module by importing it. \n"
   ]
  },
  {
   "cell_type": "markdown",
   "id": "92721c63",
   "metadata": {},
   "source": [
    "Q2. How do you make instances and classes?\n",
    "\n",
    "i.\tTo make classes we use class keyword. \n",
    "\n",
    "ii.\tTo make instance of a class you need to define __init__() method inside class. Then create object by passing the arguments it’s constructor takes then refer it to an instance.\n",
    "\n",
    "Eg :\n",
    "\n",
    "class Instance:\n",
    "\n",
    "\tdef __init__(self, name)\n",
    "    \n",
    "\t\tname = name\n",
    "        \n",
    "i = Instance()\n",
    "\n",
    "print(i.name)\n"
   ]
  },
  {
   "cell_type": "markdown",
   "id": "a9ce5725",
   "metadata": {},
   "source": [
    "Q3. Where and how should be class attributes created?\n",
    "\n",
    "Class attributes belong to class itself, they will be shared by all the instances. They are defined at the class body parts.\n"
   ]
  },
  {
   "cell_type": "markdown",
   "id": "95168ae6",
   "metadata": {},
   "source": [
    "Q4. Where and how are instance attributes created?\n",
    "\n",
    "Instance attributes are defined inside constructor which is defined directly inside a class using parameter self.\n"
   ]
  },
  {
   "cell_type": "markdown",
   "id": "8714e312",
   "metadata": {},
   "source": [
    "Q5. What does the term \"self\" in a Python class mean?\n",
    "\n",
    "Self is a reference variable which indicates current class instance/object. And it is used to access variables which belong to the particular class, inside the class."
   ]
  },
  {
   "cell_type": "markdown",
   "id": "79b5765a",
   "metadata": {},
   "source": [
    "Q6. How does a Python class handle operator overloading?\n",
    "\n",
    "In python + operator works as overloaded operator. It performs addition when we use it with int class. It performs concatenation when we use it with string and list class. To handle operator overloading python has inbuilt magic functions. \n",
    "\n",
    "(eg: __add__(self, other),__sub__(self, other), __mul__(self, other), __truediv__(self, other),__floordiv__(self, other), __mod__(self, other), __pow__(self, other), __rshift__(self, other), __lshift__(self, other), __and__(self, other), __or__(self, other), __xor__(self, other))\n"
   ]
  },
  {
   "cell_type": "markdown",
   "id": "9e4645da",
   "metadata": {},
   "source": [
    "Q7. When do you consider allowing operator overloading of your classes?\n",
    "\n",
    "Allowing operator overloading means using operators (+,-,*,<,>,&,|,^) for different classes to perform different operations. We will allow operator overloading for the classes when we are dealing with same type classes (int-int, str-str, list-list) to perform either addition or concatenation operation.\n"
   ]
  },
  {
   "cell_type": "markdown",
   "id": "9c730e25",
   "metadata": {},
   "source": [
    "Q8. What is the most popular form of operator overloading?\n",
    "\n",
    "The most popular form of operator loading is +. Which is used for both addition and concatenation.\n"
   ]
  },
  {
   "cell_type": "markdown",
   "id": "8552e593",
   "metadata": {},
   "source": [
    "Q9. What are the two most important concepts to grasp in order to comprehend Python OOP code?\n",
    "\n",
    "The most important concepts to grasp Python OOP code are \n",
    "\n",
    "i.\tInheritance\n",
    "\n",
    "ii.\tPolymorphism\n",
    "\n",
    "Inheritance :\n",
    "\n",
    "Acquiring the properties of one class to another class is the concept of inheritance.\n",
    "It is used for code reusability and extendability.\n",
    "\n",
    "Eg:\n",
    "\n",
    "class Employee:\n",
    "\n",
    "    def __init__(self, eno, ename, esal):\n",
    "    \n",
    "        self.eno = eno\n",
    "        \n",
    "        self.ename = ename\n",
    "        \n",
    "        self.esal = esal\n",
    "        \n",
    "    def display(self):\n",
    "    \n",
    "        print('Employee Number : ', self.eno)\n",
    "        \n",
    "        print('Employee Name : ', self.ename)\n",
    "        \n",
    "        print('Employee Salary : ', self.esal)\n",
    "        \n",
    "e = Employee(1118, 'Subhasish', 100000)\n",
    "\n",
    "e.display()\n"
   ]
  },
  {
   "cell_type": "code",
   "execution_count": null,
   "id": "243dad76",
   "metadata": {},
   "outputs": [],
   "source": []
  }
 ],
 "metadata": {
  "kernelspec": {
   "display_name": "Python 3 (ipykernel)",
   "language": "python",
   "name": "python3"
  },
  "language_info": {
   "codemirror_mode": {
    "name": "ipython",
    "version": 3
   },
   "file_extension": ".py",
   "mimetype": "text/x-python",
   "name": "python",
   "nbconvert_exporter": "python",
   "pygments_lexer": "ipython3",
   "version": "3.9.13"
  }
 },
 "nbformat": 4,
 "nbformat_minor": 5
}
