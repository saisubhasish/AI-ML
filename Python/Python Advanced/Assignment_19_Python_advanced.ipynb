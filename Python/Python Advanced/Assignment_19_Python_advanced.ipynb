{
 "cells": [
  {
   "cell_type": "markdown",
   "id": "90af7f60",
   "metadata": {},
   "source": [
    "#### Q1. Define the relationship between a class and its instances. Is it a one-to-one or a one-to-many partnership, for example?\n"
   ]
  },
  {
   "cell_type": "markdown",
   "id": "f2cfc4fa",
   "metadata": {},
   "source": [
    "**Ans:** Relationship between a class and its instances is a one to many partnership."
   ]
  },
  {
   "cell_type": "markdown",
   "id": "2183009f",
   "metadata": {},
   "source": [
    "#### Q2. What kind of data is held only in an instance?\n"
   ]
  },
  {
   "cell_type": "markdown",
   "id": "4d192a33",
   "metadata": {},
   "source": [
    "**Ans:** Instance objects contains the Instance variables which are specific to that specific Instance object."
   ]
  },
  {
   "cell_type": "markdown",
   "id": "66c3b2f0",
   "metadata": {},
   "source": [
    "#### Q3. What kind of knowledge is stored in a class?\n"
   ]
  },
  {
   "cell_type": "markdown",
   "id": "98a5de14",
   "metadata": {},
   "source": [
    "**Ans:** Class creates a user-defined data structure, which holds its own data members and member functions, which can be accessed and used by creating an instance of that class. A class is like a blueprint for an object."
   ]
  },
  {
   "cell_type": "markdown",
   "id": "8c7cbdd8",
   "metadata": {},
   "source": [
    "#### Q4. What exactly is a method, and how is it different from a regular function?\n"
   ]
  },
  {
   "cell_type": "markdown",
   "id": "3d4c290a",
   "metadata": {},
   "source": [
    "**Ans:** The methods with a class can be used to access the insatnce variables of its instance. So,the object's state can be modified by its method. Function can't access the attributes of an instance of a class or can't modify the state of the object."
   ]
  },
  {
   "cell_type": "markdown",
   "id": "85302a57",
   "metadata": {},
   "source": [
    "#### Q5. Is inheritance supported in Python, and if so, what is the syntax?\n"
   ]
  },
  {
   "cell_type": "markdown",
   "id": "88c33f69",
   "metadata": {},
   "source": [
    "**Ans:** Yes,Python supports inheritance. The Types of Inheritence Supported by Python are:\n",
    "1. Simple Inheritence\n",
    "2. Multiple Inheritence\n",
    "3. Multilevel lInheritence\n",
    "4. Hybrid Inheritence\n",
    "5. Hierracial Inheritence"
   ]
  },
  {
   "cell_type": "code",
   "execution_count": 1,
   "id": "2398e089",
   "metadata": {},
   "outputs": [],
   "source": [
    "class Person:\n",
    "    def __init__(self, fname, lname):\n",
    "        self.first_name = fname\n",
    "        self.last_name = lname\n",
    "class Student(Person):\n",
    "    pass"
   ]
  },
  {
   "cell_type": "markdown",
   "id": "00033213",
   "metadata": {},
   "source": [
    "#### Q6. How much encapsulation (making instance or class variables private) does Python support?\n"
   ]
  },
  {
   "cell_type": "markdown",
   "id": "21b144dd",
   "metadata": {},
   "source": [
    "**Ans:** Encapsulation describes the idea of wrapping data and the methods that work on data within one unit. This puts restrictions on accessing variables and methods directly and can prevent the accidental modification of data. To prevent accidental change, an objects variable can only be changed by an objects method."
   ]
  },
  {
   "cell_type": "markdown",
   "id": "95bee4ea",
   "metadata": {},
   "source": [
    "#### Q7. How do you distinguish between a class variable and an instance variable?\n"
   ]
  },
  {
   "cell_type": "markdown",
   "id": "04a47167",
   "metadata": {},
   "source": [
    "**Ans:** The **`Class Attribute`** is available to all the instance objects of that class. whereas **`Instance Attributes`** are accessible only to the object or Instance of that class. \n",
    "\n",
    "A single copy of Class attributes is maintained by pvm at the class level. Whereas difference copies of instance attributes are maintained by pvm at objects/instance level."
   ]
  },
  {
   "cell_type": "markdown",
   "id": "46466fb6",
   "metadata": {},
   "source": [
    "#### Q8. When, if ever, can self be included in a class's method definitions?\n"
   ]
  },
  {
   "cell_type": "markdown",
   "id": "dc30cc7d",
   "metadata": {},
   "source": [
    "**Ans:** Yes, self can included in class method definations to access the instance variables inside class methods."
   ]
  },
  {
   "cell_type": "markdown",
   "id": "d31d34b2",
   "metadata": {},
   "source": [
    "#### Q9. What is the difference between the **`__add__`** and the **`__radd__`** methods ?\n"
   ]
  },
  {
   "cell_type": "markdown",
   "id": "affd339f",
   "metadata": {},
   "source": [
    "**Ans:** Entering **`__radd__`** Python will first try **`__add__()`**, and if that returns Not Implemented Python will check if the right-hand operand implements **`__radd__`**, and if it does, it will call **`__radd__()`** rather than raising a **`TypeError`**"
   ]
  },
  {
   "cell_type": "markdown",
   "id": "778eaa8f",
   "metadata": {},
   "source": [
    "#### Q10. When is it necessary to use a reflection method? When do you not need it, even though you support the operation in question?\n"
   ]
  },
  {
   "cell_type": "markdown",
   "id": "bca7ccc2",
   "metadata": {},
   "source": [
    "**Ans:** Reflection method we often encounter the requirement that a method in the executing object, or a variable in the calling object, or a field of the object should be assigned, while the method name or field name can not be determined when encoding the code, and need to be input in the form of passing strings through parameters."
   ]
  },
  {
   "cell_type": "markdown",
   "id": "b8947561",
   "metadata": {},
   "source": [
    "#### Q11. What is the `__iadd__` method called?\n"
   ]
  },
  {
   "cell_type": "markdown",
   "id": "9cf70e0d",
   "metadata": {},
   "source": [
    "**Ans:** **`__iadd__`** method is called when we use implementation like a+=b which is **`a.__iadd__(b)`**"
   ]
  },
  {
   "cell_type": "markdown",
   "id": "f9bb645a",
   "metadata": {},
   "source": [
    "#### Q12. Is the `_ _init_ _` method inherited by subclasses? What do you do if you need to customize its behavior within a subclass ?\n"
   ]
  },
  {
   "cell_type": "markdown",
   "id": "28fe9adf",
   "metadata": {},
   "source": [
    "**Ans:** Yes, **`__init__`** method will be inherited by subclasses. if we want to customize its behaviour within a subclass we can use **`super()`** method."
   ]
  },
  {
   "cell_type": "code",
   "execution_count": null,
   "id": "067f43a8",
   "metadata": {},
   "outputs": [],
   "source": []
  }
 ],
 "metadata": {
  "kernelspec": {
   "display_name": "Python 3 (ipykernel)",
   "language": "python",
   "name": "python3"
  },
  "language_info": {
   "codemirror_mode": {
    "name": "ipython",
    "version": 3
   },
   "file_extension": ".py",
   "mimetype": "text/x-python",
   "name": "python",
   "nbconvert_exporter": "python",
   "pygments_lexer": "ipython3",
   "version": "3.9.13"
  }
 },
 "nbformat": 4,
 "nbformat_minor": 5
}
