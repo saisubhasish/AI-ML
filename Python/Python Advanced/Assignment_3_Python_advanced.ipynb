{
 "cells": [
  {
   "cell_type": "markdown",
   "id": "e3aa5e18",
   "metadata": {},
   "source": [
    "**1.\tWhat is the concept of an abstract superclass?**"
   ]
  },
  {
   "cell_type": "markdown",
   "id": "b08537cb",
   "metadata": {},
   "source": [
    "**Ans**\n",
    "\n",
    "i. Abstract means partially implemented. \n",
    "\n",
    "ii. A class is called as abstract class if it contains at-least one abstract method. An abstract method is a method which is only declared but not implemented. It’s next level child class is responsible for implementation. \n",
    "\n",
    "iii. Abstract class may not be instantiated."
   ]
  },
  {
   "cell_type": "code",
   "execution_count": 1,
   "id": "04417344",
   "metadata": {},
   "outputs": [],
   "source": [
    "#Eg :\n",
    "\n",
    "class ABC:\n",
    "    def m(self):\n",
    "        pass\n",
    "\n",
    "class XYZ(ABC):\n",
    "    def m(self,a,b):\n",
    "        return a+b"
   ]
  },
  {
   "cell_type": "markdown",
   "id": "893b2b8c",
   "metadata": {},
   "source": [
    "**2. What happens when a class statement's top level contains a basic assignment statement?**"
   ]
  },
  {
   "cell_type": "markdown",
   "id": "20ff0b61",
   "metadata": {},
   "source": [
    "**Ans**\n",
    "\n",
    "If the class statement’s top level contains a basic assignment stamen then it can be usable in further codes if we are using the same variable without re-assigning any other value. In case we are re-assigning any value PVM will consider the recent assigned value.\n"
   ]
  },
  {
   "cell_type": "markdown",
   "id": "cbffbeb2",
   "metadata": {},
   "source": [
    "**3. Why does a class need to manually call a superclass's __init__ method?**"
   ]
  },
  {
   "cell_type": "markdown",
   "id": "88ff876c",
   "metadata": {},
   "source": [
    "**Ans**\n",
    "\n",
    "When we will create an object of the child class it will only execute the constructor present in particular class. If a class extends to a super class and we want to execute super class constructor then we need to call super class constructor manually from child class constructor with respective arguments. "
   ]
  },
  {
   "cell_type": "code",
   "execution_count": 5,
   "id": "3af95f7a",
   "metadata": {},
   "outputs": [
    {
     "name": "stdout",
     "output_type": "stream",
     "text": [
      "10 20\n"
     ]
    }
   ],
   "source": [
    "#Eg :\n",
    "\n",
    "class Parent:\n",
    "    def __init__(self,B,C):\n",
    "        print(B, C)\n",
    "        self.B = B\n",
    "        self.C = C\n",
    "        \n",
    "        \n",
    "class Child(Parent):\n",
    "    def __init__(self, B, C):\n",
    "        super().__init__(B,C)\n",
    "        \n",
    "c = Child(10,20) "
   ]
  },
  {
   "cell_type": "markdown",
   "id": "0bff2526",
   "metadata": {},
   "source": [
    "**4. How can you augment, instead of completely replacing, an inherited method?**"
   ]
  },
  {
   "cell_type": "markdown",
   "id": "eaa8f26a",
   "metadata": {},
   "source": [
    "**Ans**\n",
    "\n",
    "We can augment a method instead of completely replacing it by adding operations to it."
   ]
  },
  {
   "cell_type": "code",
   "execution_count": 6,
   "id": "a1907110",
   "metadata": {},
   "outputs": [
    {
     "name": "stdout",
     "output_type": "stream",
     "text": [
      "50\n"
     ]
    }
   ],
   "source": [
    "#Eg :\n",
    "\n",
    "class ABC:\n",
    "\n",
    "    def m(self):\n",
    "    \n",
    "        global a\n",
    "        \n",
    "        a = 10\n",
    "        \n",
    "class XYZ(ABC):\n",
    "\n",
    "    def m(self):\n",
    "    \n",
    "        b = 20\n",
    "        \n",
    "        c = 30\n",
    "        \n",
    "        return b+c\n",
    "    \n",
    "x = XYZ()\n",
    "\n",
    "print(x.m())"
   ]
  },
  {
   "cell_type": "markdown",
   "id": "27374c81",
   "metadata": {},
   "source": [
    "**5. How is the local scope of a class different from that of a function?**"
   ]
  },
  {
   "cell_type": "markdown",
   "id": "f3444f74",
   "metadata": {},
   "source": [
    "**Ans**\n",
    "\n",
    "i. Local variables have the scope with in the function, method. It will get destroyed by destructor once the execution completes. If we will try to access them out side of that block we will get error. \n",
    "\n",
    "ii. If we are creating a function then we can call it within the module, as python provides functionality for it all across the module.\n"
   ]
  },
  {
   "cell_type": "code",
   "execution_count": null,
   "id": "e5a3f26b",
   "metadata": {},
   "outputs": [],
   "source": []
  }
 ],
 "metadata": {
  "kernelspec": {
   "display_name": "Python 3 (ipykernel)",
   "language": "python",
   "name": "python3"
  },
  "language_info": {
   "codemirror_mode": {
    "name": "ipython",
    "version": 3
   },
   "file_extension": ".py",
   "mimetype": "text/x-python",
   "name": "python",
   "nbconvert_exporter": "python",
   "pygments_lexer": "ipython3",
   "version": "3.9.13"
  }
 },
 "nbformat": 4,
 "nbformat_minor": 5
}
