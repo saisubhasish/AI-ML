{
 "cells": [
  {
   "cell_type": "markdown",
   "id": "978ae1ab",
   "metadata": {},
   "source": [
    "**Q1. What is the purpose of Python's OOP?**"
   ]
  },
  {
   "cell_type": "markdown",
   "id": "ae22c8d6",
   "metadata": {},
   "source": [
    "**Ans**\n",
    "\n",
    "- In python Object Oriented Programming deals with the concept of class and Object. \n",
    "- It is used to structure the python program into simple and reusable form(classes) of which we can create instance/object.\n",
    "- We can understand class as a real world etity and object as it's blue print which performs the operations.\n",
    "- It aims to implement inheritance, abstraction, polymorphism, encapsulation. There are known as 4 pillars of OOPs concept."
   ]
  },
  {
   "cell_type": "markdown",
   "id": "24bd162f",
   "metadata": {},
   "source": [
    "**Q2. Where does an inheritance search look for an attribute?**"
   ]
  },
  {
   "cell_type": "markdown",
   "id": "60a9459d",
   "metadata": {},
   "source": [
    "**Ans**\n",
    "\n",
    "i.\tIn inheritance what ever methods, variables, constructors parent class has by-default available to child class, there is not required to redefine them in child class. In case of code execution inheritance search look for attributes of parent class.\n",
    "\n",
    "ii.\tWe use inheritance for code reusablility and extendability. "
   ]
  },
  {
   "cell_type": "markdown",
   "id": "41a56413",
   "metadata": {},
   "source": [
    "**Q3. How do you distinguish between a class object and an instance object?**"
   ]
  },
  {
   "cell_type": "markdown",
   "id": "e1b22004",
   "metadata": {},
   "source": [
    "**Ans**\n",
    "\n",
    "\n",
    "i.\tClass object is a real object which is the blue print and built from a class. \n",
    "\n",
    "ii.\tInstance object is a virtual copy of the object which is generated when we assign the instance to a variable.\n",
    "\n",
    "iii. You can distinguish them by the address of the object. For instance object the address will be always same. But in case of class object the address of the object is always different because each time we are creating a new object."
   ]
  },
  {
   "cell_type": "markdown",
   "id": "5b2c6271",
   "metadata": {},
   "source": [
    "**Q4. What makes the first argument in a class’s method function special?**"
   ]
  },
  {
   "cell_type": "markdown",
   "id": "ed4014a1",
   "metadata": {},
   "source": [
    "**Ans**\n",
    "\n",
    "i.\tThe first argument is a class method should be object itself. Self is the variable which indicates current class object. \n",
    "\n",
    "ii.\tIt is not a keyword, only a naming convention.\n"
   ]
  },
  {
   "cell_type": "markdown",
   "id": "41d24f89",
   "metadata": {},
   "source": [
    "**Q5. What is the purpose of the __init__ method?**"
   ]
  },
  {
   "cell_type": "markdown",
   "id": "a80f1189",
   "metadata": {},
   "source": [
    "**Ans**\n",
    "\n",
    "\n",
    "i.\t__init__ is the constructor. In python name of the constructor is always __init__.\n",
    "\n",
    "ii. It is a special type of method which gets executed when an object is created. The main purpose of constructor is to initialize the instance variables. It takes the first argument as self. And self indicates to current class object.\n",
    "\n",
    "iii. In python constructor is optional, if we are not creating any constructor then default constructor will be given by PVM."
   ]
  },
  {
   "cell_type": "code",
   "execution_count": 1,
   "id": "2ed999ed",
   "metadata": {},
   "outputs": [
    {
     "name": "stdout",
     "output_type": "stream",
     "text": [
      "{'B': 10}\n"
     ]
    }
   ],
   "source": [
    "#Eg :\n",
    "\n",
    "class A:\n",
    "    \n",
    "    def __init__(self):\n",
    "    \n",
    "        self.B = 10\n",
    "        \n",
    "a = A()\n",
    "\n",
    "print(a.__dict__) #displays the properties of the class"
   ]
  },
  {
   "cell_type": "code",
   "execution_count": 4,
   "id": "8ffa871e",
   "metadata": {},
   "outputs": [
    {
     "name": "stdout",
     "output_type": "stream",
     "text": [
      "118\n",
      "150000\n"
     ]
    }
   ],
   "source": [
    "class Employee:\n",
    "\n",
    "    def __init__(self, eno, esal):\n",
    "        \n",
    "        self.eno = eno\n",
    "        \n",
    "        self.esal = esal\n",
    "        \n",
    "e = Employee(118, 150000)\n",
    "\n",
    "print(e.eno)\n",
    "\n",
    "print(e.esal)"
   ]
  },
  {
   "cell_type": "markdown",
   "id": "7602bfe7",
   "metadata": {},
   "source": [
    "**Q6. What is the process for creating a class instance?**"
   ]
  },
  {
   "cell_type": "markdown",
   "id": "f0329d74",
   "metadata": {},
   "source": [
    "**Ans**\n",
    "\n",
    "i. In python to create an object we have only one process. \n",
    "\n",
    "ii. First we have to create a class by giving the keyword and class name. Then we need to create and object by giving paranthesis after the name of the class. To access it we need to assign it to a variable and which is the referance of th object."
   ]
  },
  {
   "cell_type": "code",
   "execution_count": 6,
   "id": "68339b11",
   "metadata": {},
   "outputs": [
    {
     "name": "stdout",
     "output_type": "stream",
     "text": [
      "S\n"
     ]
    }
   ],
   "source": [
    "#Eg :\n",
    "\n",
    "class A:\n",
    "\n",
    "    def function(self, ch):\n",
    "    \n",
    "        return ch\n",
    "        \n",
    "a = A()\n",
    "\n",
    "print(a.function('S'))"
   ]
  },
  {
   "cell_type": "markdown",
   "id": "d769357f",
   "metadata": {},
   "source": [
    "**Q7. What is the process for creating a class?**"
   ]
  },
  {
   "cell_type": "markdown",
   "id": "635cb31e",
   "metadata": {},
   "source": [
    "**Ans**\n",
    "\n",
    "In python to create a class we need to write class name followed by class keyword and the we need to provide colon. As per OOP concept the class name should start with capital letter and then followed by small letter."
   ]
  },
  {
   "cell_type": "code",
   "execution_count": 7,
   "id": "492a2201",
   "metadata": {},
   "outputs": [],
   "source": [
    "#Eg:\n",
    "\n",
    "class A:\n",
    "    def function(self, ch):\n",
    "        return ch"
   ]
  },
  {
   "cell_type": "markdown",
   "id": "5c9c598c",
   "metadata": {},
   "source": [
    "**Q8. How would you define the superclasses of a class?**"
   ]
  },
  {
   "cell_type": "markdown",
   "id": "82c54755",
   "metadata": {},
   "source": [
    "**Ans**\n",
    "\n",
    "i.\tTo define a super class of a class we need to write the super class name in parantheses after child class name while creating the child class. By this process the child class will extend all the atributes of parent class. \n",
    "\n",
    "ii.\tTo access the attributes of parent class from child class, you need to create an object of child class."
   ]
  },
  {
   "cell_type": "code",
   "execution_count": 9,
   "id": "23ce4850",
   "metadata": {},
   "outputs": [
    {
     "name": "stdout",
     "output_type": "stream",
     "text": [
      "Child Method\n",
      "Parent method\n"
     ]
    }
   ],
   "source": [
    "#Eg:\n",
    "\n",
    "class Parent:\n",
    "    def p(self):\n",
    "        return 'Parent method'\n",
    "        \n",
    "class Child(Parent):\n",
    "    def c(self):\n",
    "        return 'Child Method'\n",
    "        \n",
    "c = Child()\n",
    "print(c.c())\n",
    "print(c.p())"
   ]
  },
  {
   "cell_type": "code",
   "execution_count": null,
   "id": "ddd0359a",
   "metadata": {},
   "outputs": [],
   "source": []
  }
 ],
 "metadata": {
  "kernelspec": {
   "display_name": "Python 3 (ipykernel)",
   "language": "python",
   "name": "python3"
  },
  "language_info": {
   "codemirror_mode": {
    "name": "ipython",
    "version": 3
   },
   "file_extension": ".py",
   "mimetype": "text/x-python",
   "name": "python",
   "nbconvert_exporter": "python",
   "pygments_lexer": "ipython3",
   "version": "3.9.13"
  }
 },
 "nbformat": 4,
 "nbformat_minor": 5
}
