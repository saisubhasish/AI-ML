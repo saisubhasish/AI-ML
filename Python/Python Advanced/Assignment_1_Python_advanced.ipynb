{
 "cells": [
  {
   "cell_type": "markdown",
   "id": "978ae1ab",
   "metadata": {},
   "source": [
    "Q1. What is the purpose of Python's OOP?\n",
    "\n",
    "In python Object Oriented Programming deals with the concept of class and Object. It is used to structure the python program into simple and reusable form(classes) of which we can create instance/object. It aims to implement to implement inheritance, abstraction, polymorphism, encapsulation. "
   ]
  },
  {
   "cell_type": "markdown",
   "id": "60a9459d",
   "metadata": {},
   "source": [
    "Q2. Where does an inheritance search look for an attribute?\n",
    "\n",
    "i.\tIn inheritance what ever methods, variables, constructors parent class has by-default available to child class, there is not required to redefine them in child class. In case of code execution inheritance search look for attributes of parent class.\n",
    "\n",
    "ii.\tWe use inheritance for code reusablility and extendability. "
   ]
  },
  {
   "cell_type": "markdown",
   "id": "e1b22004",
   "metadata": {},
   "source": [
    "Q3. How do you distinguish between a class object and an instance object?\n",
    "\n",
    "i.\tClass object is a real object which is the blue print and built from a class. \n",
    "\n",
    "ii.\tInstance object is a virtual copy of the object\n",
    "\n",
    "iii.\tYou can distinguish them by the address of the object. For instance object the address will be always same. But in case of class object the address of the object is different always.\n"
   ]
  },
  {
   "cell_type": "markdown",
   "id": "ed4014a1",
   "metadata": {},
   "source": [
    "Q4. What makes the first argument in a class’s method function special?\n",
    "\n",
    "i.\tThe first argument is a class method should be object itself. Self is the variable which indicates current class object. \n",
    "\n",
    "ii.\tIt is not a keyword, only a naming convention.\n"
   ]
  },
  {
   "cell_type": "markdown",
   "id": "a80f1189",
   "metadata": {},
   "source": [
    "Q5. What is the purpose of the __init__ method?\n",
    "\n",
    "i.\t__init__ is the constructor. It is a special type of method which gets executed when an object is created. The main purpose of constructor is to initialize the instance variables. \n",
    "\n",
    "ii.\tIt takes the first argument as self. In python name of the constructor is always __init__.\n",
    "\n",
    "iii.\tIn python constructor is optional, if we are not creating ant constructor then default constructor will be given by PVM.\n",
    "\n",
    "Eg :\n",
    "\n",
    "class A:\n",
    "    \n",
    "    def __init__(self):\n",
    "    \n",
    "        self.B = 10\n",
    "        \n",
    "a = A()\n",
    "\n",
    "print(a.__dict__) #displays the properties of the class\n",
    "\n",
    "class Employee:\n",
    "\n",
    "    def __init__(self, eno, esal):\n",
    "        \n",
    " \t\tself.eno = eno\n",
    "        \n",
    "\t\tself.esal = esal\t\n",
    "        \n",
    "e = Employee()\n",
    "\n",
    "print(e.eno)\n",
    "\n",
    "print(e.esal)"
   ]
  },
  {
   "cell_type": "markdown",
   "id": "f0329d74",
   "metadata": {},
   "source": [
    "Q6. What is the process for creating a class instance?\n",
    "\n",
    "In python to create an object we have only one process. First we have to create a class by giving the keyword and class name. Then we need to create and object by giving paranthesis after the name of the class. To access it we need to assign it to a variable.\n",
    "\n",
    "Eg :\n",
    "\n",
    "class A:\n",
    "\n",
    "    def function(self, ch):\n",
    "    \n",
    "\t\treturn ch\n",
    "        \n",
    "a = A()\n",
    "\n",
    "print(a.function(‘S’))\n"
   ]
  },
  {
   "cell_type": "markdown",
   "id": "635cb31e",
   "metadata": {},
   "source": [
    "Q7. What is the process for creating a class?\n",
    "\n",
    "In python to create a class we need to write class name followed by class keyword and the we need to provide colon. As per OOP concept the class name should start with capital letter and then by small letter.\n",
    "\n",
    "Eg:\n",
    "\n",
    "class A:\n",
    "\n",
    "\tdef function(self, ch):\n",
    "    \n",
    "\t\treturn ch\n"
   ]
  },
  {
   "cell_type": "markdown",
   "id": "82c54755",
   "metadata": {},
   "source": [
    "Q8. How would you define the superclasses of a class?\n",
    "\n",
    "i.\tTo define a super class of a class we need to write the super class name in parantheses after child class name while creating the child class. By this process the child class will extend the parent class attributes. \n",
    "\n",
    "ii.\tTo access the attributes of parent class from child class, you need to create an object of child class.\n",
    "\n",
    "Eg:\n",
    "\n",
    "class Parent:\n",
    "\n",
    "    def p(self):\n",
    "    \n",
    "        print('Parent method')\n",
    "        \n",
    "class Child(Parent):\n",
    "\n",
    "    def c(self):\n",
    "    \n",
    "        print('Child Method')\n",
    "        \n",
    "c = Child()\n",
    "\n",
    "print(c.c())\n",
    "\n",
    "print(c.p())"
   ]
  },
  {
   "cell_type": "code",
   "execution_count": null,
   "id": "23ce4850",
   "metadata": {},
   "outputs": [],
   "source": []
  }
 ],
 "metadata": {
  "kernelspec": {
   "display_name": "Python 3 (ipykernel)",
   "language": "python",
   "name": "python3"
  },
  "language_info": {
   "codemirror_mode": {
    "name": "ipython",
    "version": 3
   },
   "file_extension": ".py",
   "mimetype": "text/x-python",
   "name": "python",
   "nbconvert_exporter": "python",
   "pygments_lexer": "ipython3",
   "version": "3.9.13"
  }
 },
 "nbformat": 4,
 "nbformat_minor": 5
}
