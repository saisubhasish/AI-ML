{
 "cells": [
  {
   "cell_type": "code",
   "execution_count": 3,
   "id": "00b743ea",
   "metadata": {},
   "outputs": [
    {
     "data": {
      "text/plain": [
       "28"
      ]
     },
     "execution_count": 3,
     "metadata": {},
     "output_type": "execute_result"
    }
   ],
   "source": [
    "#  1. Write a Python program to find sum of elements in list?\n",
    "\n",
    "def sum(l):\n",
    "    '''\n",
    "    This function will find the sum of elements in a list\n",
    "    '''\n",
    "    output= 0\n",
    "    for i in l:\n",
    "        output+=i\n",
    "    return output\n",
    "\n",
    "\n",
    "\n",
    "\n",
    "l = [1,2,3,4,5,6,7]\n",
    "sum(l)"
   ]
  },
  {
   "cell_type": "code",
   "execution_count": 6,
   "id": "8c069a39",
   "metadata": {},
   "outputs": [
    {
     "data": {
      "text/plain": [
       "5040"
      ]
     },
     "execution_count": 6,
     "metadata": {},
     "output_type": "execute_result"
    }
   ],
   "source": [
    "# 2. Write a Python program to  Multiply all numbers in the list?\n",
    "\n",
    "def mul(l):\n",
    "    '''\n",
    "    This function will find the multiplication of elements in a list\n",
    "    '''\n",
    "    output= 1\n",
    "    for i in l:\n",
    "        output*=i\n",
    "    return output\n",
    "\n",
    "l = [1,2,3,4,5,6,7]\n",
    "mul(l)"
   ]
  },
  {
   "cell_type": "code",
   "execution_count": 25,
   "id": "05d8374d",
   "metadata": {},
   "outputs": [
    {
     "name": "stdout",
     "output_type": "stream",
     "text": [
      "Smallest number:  20\n",
      "Smallest number:  89\n",
      "Smallest number:  26\n"
     ]
    }
   ],
   "source": [
    "# 3. Write a Python program to find smallest number in a list?\n",
    "\n",
    "def smallest1(l):\n",
    "    '''\n",
    "    This function returns smallest number by comparing each element from the list\n",
    "    '''\n",
    "    smallest_num= l[0]\n",
    "    for i in l:\n",
    "        if i < smallest_num:\n",
    "            smallest_num = i\n",
    "            \n",
    "    return smallest_num\n",
    "        \n",
    "l = [80,30,90,40,70,50,60,20]\n",
    "print('Smallest number: ',smallest1(l))\n",
    "\n",
    "\n",
    "def smallest2(l):\n",
    "    '''\n",
    "    This function returns smallest number by using min()\n",
    "    '''     \n",
    "    return min(l)\n",
    "        \n",
    "l = [125, 855,87456,6555,8544,89]\n",
    "print('Smallest number: ',smallest2(l))\n",
    "\n",
    "\n",
    "def smallest3(l):\n",
    "    '''\n",
    "    This function returns smallest number by using sort()\n",
    "    '''   \n",
    "    sorted = l.sort()\n",
    "    return l[0]\n",
    "        \n",
    "l = [94,26,187,64,47]\n",
    "print('Smallest number: ',smallest3(l))"
   ]
  },
  {
   "cell_type": "code",
   "execution_count": 24,
   "id": "7a3fcb73",
   "metadata": {},
   "outputs": [
    {
     "name": "stdout",
     "output_type": "stream",
     "text": [
      "Largest number:  90\n",
      "Largest number:  87456\n",
      "Largest number:  187\n"
     ]
    }
   ],
   "source": [
    "# 4. Write a Python program to find largest number in a list?\n",
    "\n",
    "def largest1(l):\n",
    "    '''\n",
    "    This function returns largest number by comparing each element from the list\n",
    "    '''\n",
    "    largest_num= l[0]\n",
    "    for i in l:\n",
    "        if i > largest_num:\n",
    "            largest_num = i\n",
    "            \n",
    "    return largest_num\n",
    "        \n",
    "l = [80,30,90,40,70,50,60,20]\n",
    "print('Largest number: ',largest1(l))\n",
    "\n",
    "\n",
    "def largest2(l):\n",
    "    '''\n",
    "    This function returns largest number by using min()\n",
    "    '''     \n",
    "    return max(l)\n",
    "        \n",
    "l = [125, 855,87456,6555,8544,89]\n",
    "print('Largest number: ',largest2(l))\n",
    "\n",
    "\n",
    "def largest3(l):\n",
    "    '''\n",
    "    This function returns largest number by using sort()\n",
    "    '''   \n",
    "    sorted = l.sort(reverse=True)\n",
    "    return l[0]\n",
    "        \n",
    "l = [94,26,187,64,47]\n",
    "print('Largest number: ',largest3(l))"
   ]
  },
  {
   "cell_type": "code",
   "execution_count": 34,
   "id": "574d2691",
   "metadata": {},
   "outputs": [
    {
     "name": "stdout",
     "output_type": "stream",
     "text": [
      "Largest number:  94\n",
      "Largest number:  80\n"
     ]
    }
   ],
   "source": [
    "# 5. Write a Python program to find second largest number in a list?\n",
    "\n",
    "def SecondLargest1(l):\n",
    "    '''\n",
    "    This function returns Second Largest number by using sort()\n",
    "    '''   \n",
    "    sorted = l.sort(reverse=True)\n",
    "    return l[1]\n",
    "        \n",
    "l = [94,26,187,64,47]\n",
    "print('Largest number: ',SecondLargest1(l))\n",
    "\n",
    "def SecondLargest2(l):\n",
    "    '''\n",
    "    This function returns largest number by comparing each element from the list\n",
    "    '''\n",
    "    mx = max(l[0], l[1])\n",
    "    secondmax = min(l[0], l[1])\n",
    "    n = len(l)\n",
    "    for i in range(2,n):\n",
    "        if l[i] > mx:\n",
    "            secondmax = mx\n",
    "            mx = l[i]\n",
    "        elif l[i] > secondmax and \\\n",
    "            mx != l[i]:\n",
    "            secondmax = l[i]\n",
    "        elif mx == secondmax and \\\n",
    "            secondmax != l[i]:\n",
    "              secondmax = l[i]\n",
    "    return secondmax\n",
    "        \n",
    "l = [80,30,90,40,70,50,60,20]\n",
    "print('Largest number: ',SecondLargest2(l))"
   ]
  },
  {
   "cell_type": "code",
   "execution_count": 40,
   "id": "af1d27db",
   "metadata": {},
   "outputs": [
    {
     "name": "stdout",
     "output_type": "stream",
     "text": [
      "N_Largest number:  [70, 80, 90]\n"
     ]
    }
   ],
   "source": [
    "# 6. Write a Python program to find N largest elements from a list?\n",
    "\n",
    "def n_largest1(l, n):\n",
    "    '''\n",
    "    This function returns n largest number using slicing\n",
    "    '''\n",
    "    sorted = l.sort()\n",
    "    return l[-n:]\n",
    "\n",
    "l = [80,30,90,40,70,50,60,20]\n",
    "print('N_Largest number: ',n_largest1(l, 3))"
   ]
  },
  {
   "cell_type": "code",
   "execution_count": 64,
   "id": "04332ec4",
   "metadata": {},
   "outputs": [
    {
     "name": "stdout",
     "output_type": "stream",
     "text": [
      "Even numbers:  [8, 4, 6, 4, 6, 4, 6, 52, 6, 52]\n"
     ]
    }
   ],
   "source": [
    "# 7. Write a Python program to print even numbers in a list?\n",
    "\n",
    "def even_num(l):\n",
    "    '''\n",
    "    This function will return even numbers in a list\n",
    "    '''\n",
    "    output = [num for num in l if num%2 == 0]\n",
    "    \n",
    "    return output\n",
    "        \n",
    "l= [5,8,4,9,6,5,5,4,6,4,6,89,5,52,6,52]\n",
    "print(\"Even numbers: \",even_num(l))"
   ]
  },
  {
   "cell_type": "code",
   "execution_count": 65,
   "id": "eb4db5c0",
   "metadata": {},
   "outputs": [
    {
     "name": "stdout",
     "output_type": "stream",
     "text": [
      "Odd numbers:  [5, 9, 5, 5, 89, 5]\n"
     ]
    }
   ],
   "source": [
    "# 8. Write a Python program to print odd numbers in a List?\n",
    "\n",
    "def even_num(l):\n",
    "    '''\n",
    "    This function will return odd numbers in a list\n",
    "    '''\n",
    "    output = [num for num in l if num%2 != 0]\n",
    "\n",
    "    return output\n",
    "        \n",
    "l= [5,8,4,9,6,5,5,4,6,4,6,89,5,52,6,52]\n",
    "print(\"Odd numbers: \",even_num(l))"
   ]
  },
  {
   "cell_type": "code",
   "execution_count": 67,
   "id": "04e9ce40",
   "metadata": {},
   "outputs": [
    {
     "name": "stdout",
     "output_type": "stream",
     "text": [
      "Refined numbers:  [5, 4, 6, 5, 4, 6, 4, 6, 5, 52, 6, 52]\n"
     ]
    }
   ],
   "source": [
    "# 9. Write a Python program to Remove empty List from List?\n",
    "\n",
    "def empty_list(l):\n",
    "    '''\n",
    "    This function will remove empty list from a list\n",
    "    '''\n",
    "    output= [list_OP for list_OP in l if list_OP != []]\n",
    "    \n",
    "    return output\n",
    "        \n",
    "l= [[],5,4,[],6,5,[],4,6,4,6,[],5,52,6,52]\n",
    "print(\"Refined numbers: \",empty_list(l))\n"
   ]
  },
  {
   "cell_type": "code",
   "execution_count": 76,
   "id": "9239fa42",
   "metadata": {},
   "outputs": [
    {
     "name": "stdout",
     "output_type": "stream",
     "text": [
      "Clone List:   [7, 8, 9, 5, 4, 6, 5, 6]\n",
      "Clone List:   [25, 85, 68, 74, 85, 91]\n",
      "Clone List:   [75, 85, 96, 85, 75, 84, 23, 16]\n",
      "Clone List:   [65, 75, 85, 95, 95, 85, 75, 65]\n"
     ]
    }
   ],
   "source": [
    "# 10. Write a Python program to Cloning or Copying a list?\n",
    "\n",
    "def clone_list1(l):\n",
    "    '''\n",
    "    This function will clone a list using copy()\n",
    "    '''\n",
    "    output= l.copy()\n",
    "    \n",
    "    return output\n",
    "        \n",
    "l= [7,8,9,5,4,6,5,6]\n",
    "print(\"Clone List:  \",clone_list1(l))\n",
    "\n",
    "\n",
    "def clone_list2(l):\n",
    "    '''\n",
    "    This function will clone a list using slicing\n",
    "    '''\n",
    "    output= l[:]\n",
    "    \n",
    "    return output\n",
    "        \n",
    "l= [25,85,68,74,85,91]\n",
    "print(\"Clone List:  \",clone_list2(l))\n",
    "\n",
    "\n",
    "def clone_list3(l):\n",
    "    '''\n",
    "    This function will clone a list using extend()\n",
    "    '''\n",
    "    output= []\n",
    "    output.extend(l)\n",
    "    \n",
    "    return output\n",
    "        \n",
    "l= [75,85,96,85,75,84,23,16]\n",
    "print(\"Clone List:  \",clone_list3(l))\n",
    "\n",
    "\n",
    "def clone_list4(l):\n",
    "    '''\n",
    "    This function will clone a list using assignment operator\n",
    "    '''\n",
    "    output= l\n",
    "    \n",
    "    return output\n",
    "        \n",
    "l= [65,75,85,95,95,85,75,65]\n",
    "print(\"Clone List:  \",clone_list4(l))"
   ]
  },
  {
   "cell_type": "code",
   "execution_count": 81,
   "id": "ac4a7942",
   "metadata": {},
   "outputs": [
    {
     "name": "stdout",
     "output_type": "stream",
     "text": [
      "Occurance List:   3\n",
      "Occurance List:   3\n"
     ]
    }
   ],
   "source": [
    "# 11. Write a Python program to Count occurrences of an element in a list?\n",
    "\n",
    "def occurance(l, n):\n",
    "    '''\n",
    "    This function will return the occurance of an element in list \n",
    "    '''\n",
    "    count = 0\n",
    "    for i in l:\n",
    "        if n == i:\n",
    "            count += 1\n",
    "            \n",
    "    return count\n",
    "\n",
    "\n",
    "l= ['S','A','A','I','S','I','S','A']\n",
    "n = 'S'\n",
    "print(\"Occurance List:  \",occurance(l, n))\n",
    "\n",
    "\n",
    "def occurance(l, n):\n",
    "    '''\n",
    "    This function will return the occurance of an element in list using count()\n",
    "    '''\n",
    "            \n",
    "    return l.count(n)\n",
    "\n",
    "\n",
    "l= ['S','A','A','I','S','I','S','A']\n",
    "n = 'A'\n",
    "print(\"Occurance List:  \",occurance(l, n))"
   ]
  },
  {
   "cell_type": "code",
   "execution_count": null,
   "id": "909d975b",
   "metadata": {},
   "outputs": [],
   "source": []
  }
 ],
 "metadata": {
  "kernelspec": {
   "display_name": "Python 3 (ipykernel)",
   "language": "python",
   "name": "python3"
  },
  "language_info": {
   "codemirror_mode": {
    "name": "ipython",
    "version": 3
   },
   "file_extension": ".py",
   "mimetype": "text/x-python",
   "name": "python",
   "nbconvert_exporter": "python",
   "pygments_lexer": "ipython3",
   "version": "3.9.13"
  }
 },
 "nbformat": 4,
 "nbformat_minor": 5
}
