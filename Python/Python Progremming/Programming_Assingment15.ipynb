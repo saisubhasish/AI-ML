{
 "cells": [
  {
   "cell_type": "markdown",
   "id": "818f91d4",
   "metadata": {},
   "source": [
    "Question 1:\n",
    "\n",
    "Please write a program using generator to print the numbers which can be divisible by 5 and 7 between 0 and n in comma separated form while n is input by console.\n",
    "\n",
    "Example:\n",
    "\n",
    "If the following n is given as input to the program:\n",
    "100\n",
    "\n",
    "Then, the output of the program should be:\n",
    "0,35,70\n"
   ]
  },
  {
   "cell_type": "code",
   "execution_count": 77,
   "id": "47012b1d",
   "metadata": {},
   "outputs": [
    {
     "name": "stdout",
     "output_type": "stream",
     "text": [
      "[0, 35, 70]\n"
     ]
    }
   ],
   "source": [
    "def div_gen(n):\n",
    "    num = [i for i in range(0,n+1) if i%5==0 and i%7==0]\n",
    "    yield num\n",
    "            \n",
    "for n in div_gen(100):\n",
    "    print(n)\n",
    "            "
   ]
  },
  {
   "cell_type": "markdown",
   "id": "ef1594f8",
   "metadata": {},
   "source": [
    "Question 2:\n",
    "\n",
    "Please write a program using generator to print the even numbers between 0 and n in comma separated form while n is input by console.\n",
    "\n",
    "Example:\n",
    "If the following n is given as input to the program:\n",
    "10\n",
    "\n",
    "Then, the output of the program should be:\n",
    "0,2,4,6,8,10\n"
   ]
  },
  {
   "cell_type": "code",
   "execution_count": 76,
   "id": "9e976951",
   "metadata": {},
   "outputs": [
    {
     "name": "stdout",
     "output_type": "stream",
     "text": [
      "[0, 2, 4, 6, 8, 10]\n"
     ]
    }
   ],
   "source": [
    "def gen_even(n):\n",
    "    \n",
    "    even_num = [i for i in range(0,n+1) if i%2==0]\n",
    "    yield even_num\n",
    "            \n",
    "for i in gen_even(10):\n",
    "    print(i)"
   ]
  },
  {
   "cell_type": "markdown",
   "id": "9b39ccf1",
   "metadata": {},
   "source": [
    "Question 3:\n",
    "\n",
    "The Fibonacci Sequence is computed based on the following formula:\n",
    "f(n)=0 if n=0\n",
    "\n",
    "f(n)=1 if n=1\n",
    "\n",
    "f(n)=f(n-1)+f(n-2) if n>1\n",
    "\n",
    "Please write a program using list comprehension to print the Fibonacci Sequence in comma separated form with a given n input by console.\n",
    "\n",
    "Example:\n",
    "If the following n is given as input to the program:\n",
    "7\n",
    "\n",
    "Then, the output of the program should be:\n",
    "0,1,1,2,3,5,8,13\n"
   ]
  },
  {
   "cell_type": "code",
   "execution_count": 86,
   "id": "775a23b1",
   "metadata": {},
   "outputs": [
    {
     "name": "stdout",
     "output_type": "stream",
     "text": [
      "0,1,1,2,3,5,8,13,21,34,55\n"
     ]
    }
   ],
   "source": [
    "def gen_fib(x):\n",
    "    f = lambda x: 0 if x == 0 else 1 if x == 1 else f(x-1)+f(x-2)\n",
    "    print(','.join([str(f(x)) for x in range(0, n+1)]))\n",
    "\n",
    "gen_fib(10)"
   ]
  },
  {
   "cell_type": "markdown",
   "id": "bda543ce",
   "metadata": {},
   "source": [
    "Question 4:\n",
    "\n",
    "Assuming that we have some email addresses in the \"username@companyname.com\" format, please write program to print the user name of a given email address. Both user names and company names are composed of letters only.\n",
    "\n",
    "Example:\n",
    "If the following email address is given as input to the program:\n",
    "\n",
    "john@google.com\n",
    "\n",
    "Then, the output of the program should be:\n",
    "\n",
    "john\n"
   ]
  },
  {
   "cell_type": "code",
   "execution_count": 89,
   "id": "d56cdfc6",
   "metadata": {},
   "outputs": [
    {
     "name": "stdout",
     "output_type": "stream",
     "text": [
      "Enter the email: sai@inovaare.com\n"
     ]
    },
    {
     "data": {
      "text/plain": [
       "'sai'"
      ]
     },
     "execution_count": 89,
     "metadata": {},
     "output_type": "execute_result"
    }
   ],
   "source": [
    "email = input('Enter the email: ')\n",
    "\n",
    "def find_username(email):\n",
    "    email = email.split('@')\n",
    "    return email[0]\n",
    "    \n",
    "find_username(email)"
   ]
  },
  {
   "cell_type": "markdown",
   "id": "b73a9a42",
   "metadata": {},
   "source": [
    "Question 5:\n",
    "\n",
    "Define a class named Shape and its subclass Square. The Square class has an init function which takes a length as argument. Both classes have a area function which can print the area of the shape where Shape's area is 0 by default.\n"
   ]
  },
  {
   "cell_type": "code",
   "execution_count": 93,
   "id": "433b38bf",
   "metadata": {},
   "outputs": [
    {
     "data": {
      "text/plain": [
       "25"
      ]
     },
     "execution_count": 93,
     "metadata": {},
     "output_type": "execute_result"
    }
   ],
   "source": [
    "class Shape:\n",
    "    def __init__(self):\n",
    "        pass\n",
    "    \n",
    "    def area(self):\n",
    "        return 0\n",
    "    \n",
    "class Square(Shape):\n",
    "    def __init__(self, length):\n",
    "        self.length = length\n",
    "        \n",
    "    def area(self):\n",
    "        return (self.length*self.length)\n",
    "    \n",
    "s = Square(5)\n",
    "s.area()"
   ]
  },
  {
   "cell_type": "code",
   "execution_count": null,
   "id": "94789c64",
   "metadata": {},
   "outputs": [],
   "source": []
  }
 ],
 "metadata": {
  "kernelspec": {
   "display_name": "Python 3 (ipykernel)",
   "language": "python",
   "name": "python3"
  },
  "language_info": {
   "codemirror_mode": {
    "name": "ipython",
    "version": 3
   },
   "file_extension": ".py",
   "mimetype": "text/x-python",
   "name": "python",
   "nbconvert_exporter": "python",
   "pygments_lexer": "ipython3",
   "version": "3.9.13"
  }
 },
 "nbformat": 4,
 "nbformat_minor": 5
}
