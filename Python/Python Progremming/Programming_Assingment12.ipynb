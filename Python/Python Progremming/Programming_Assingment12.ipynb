{
 "cells": [
  {
   "cell_type": "code",
   "execution_count": 175,
   "id": "1be5110c",
   "metadata": {},
   "outputs": [
    {
     "name": "stdout",
     "output_type": "stream",
     "text": [
      "The unique values are:  [2, 3, 4, 5, 7, 8, 9]\n",
      "The unique values are:  [2, 3, 4, 5, 7, 8, 9]\n"
     ]
    }
   ],
   "source": [
    "# 1. Write a Python program to Extract Unique values dictionary values?\n",
    "\n",
    "dictionary = {'abc':[5,8,7,9,4],\n",
    "             'def':[8,7,2,5,4],\n",
    "             'ghi':[3,4,9,8,7]}\n",
    "\n",
    "def extract_set(dictionary):\n",
    "    '''\n",
    "    This function will return unique values from dict using set()\n",
    "    '''\n",
    "    x = []\n",
    "    for i in dictionary.keys():\n",
    "        x.extend(dictionary[i])\n",
    "    \n",
    "    return list(set(x))\n",
    "\n",
    "print('The unique values are: ',extract_set(dictionary))\n",
    "\n",
    "def extract_extend(dictionary):\n",
    "    '''\n",
    "    This function will return unique values from dict using extend() and sort()\n",
    "    '''\n",
    "    y= []\n",
    "    output= []\n",
    "    for i in dictionary.keys():\n",
    "        y.extend(dictionary[i])\n",
    "        \n",
    "    for j in y:\n",
    "        if j not in output:\n",
    "            output.append(j)\n",
    "    output.sort()\n",
    "    return output\n",
    "\n",
    "print('The unique values are: ',extract_extend(dictionary))"
   ]
  },
  {
   "cell_type": "code",
   "execution_count": 176,
   "id": "af7cce4b",
   "metadata": {},
   "outputs": [
    {
     "name": "stdout",
     "output_type": "stream",
     "text": [
      "The sum is:  90\n"
     ]
    }
   ],
   "source": [
    "# 2. Write a Python program to find the sum of all items in a dictionary?\n",
    "\n",
    "dictionary = {'abc':[5,8,7,9,4],\n",
    "             'def':[8,7,2,5,4],\n",
    "             'ghi':[3,4,9,8,7]}\n",
    "\n",
    "def sum(dictionary):\n",
    "    '''\n",
    "    This function will retur the sum of each item in a dict\n",
    "    '''\n",
    "    output = 0\n",
    "    for i,j in dictionary.items():\n",
    "        for k in j:\n",
    "            output+=k\n",
    "    return output\n",
    "    \n",
    "print('The sum is: ',sum(dictionary))"
   ]
  },
  {
   "cell_type": "code",
   "execution_count": 187,
   "id": "57f84628",
   "metadata": {},
   "outputs": [
    {
     "name": "stdout",
     "output_type": "stream",
     "text": [
      "The merged dict is:  {1: 'a', 2: 'c', 4: 'd'}\n",
      "The merged dict is:  {1: 'a', 2: 'c', 4: 'd'}\n",
      "The merged dict is:  {2: 'b', 4: 'd', 1: 'a'}\n"
     ]
    }
   ],
   "source": [
    "# 3. Write a Python program to Merging two Dictionaries?\n",
    "\n",
    "dict_1 = {1: 'a', 2: 'b'}\n",
    "dict_2 = {2: 'c', 4: 'd'}\n",
    "\n",
    "def merge_dict1(dict_1, dict_2):\n",
    "    '''\n",
    "    This function returns a merged dict out of given dict using | operator\n",
    "    '''\n",
    "    return (dict_1 | dict_2)\n",
    "\n",
    "print('The merged dict is: ',merge_dict1(dict_1, dict_2))\n",
    "\n",
    "def merge_dict2(dict_1, dict_2):\n",
    "    '''\n",
    "    This function returns a merged dict out of given dict using ** operator\n",
    "    '''\n",
    "    return {**dict_1, **dict_2}\n",
    "\n",
    "print('The merged dict is: ',merge_dict2(dict_1, dict_2))\n",
    "\n",
    "def merge_dict3(dict_1, dict_2):\n",
    "    '''\n",
    "    This function returns a merged dict out of given dict using ** operator\n",
    "    '''\n",
    "    dict_3 = dict_2.copy()\n",
    "    dict_3.update(dict_1)\n",
    "\n",
    "    return dict_3\n",
    "\n",
    "print('The merged dict is: ',merge_dict3(dict_1, dict_2))\n"
   ]
  },
  {
   "cell_type": "code",
   "execution_count": 209,
   "id": "c0420df5",
   "metadata": {},
   "outputs": [
    {
     "name": "stdout",
     "output_type": "stream",
     "text": [
      "The flattern dict is: {1: 'Jan', 2: 'Feb', 3: 'March'}\n"
     ]
    }
   ],
   "source": [
    "# 4. Write a Python program to convert key-values list to flat dictionary?\n",
    "\n",
    "from itertools import product\n",
    "\n",
    "def flat_dict(dictionary):\n",
    "    '''\n",
    "    This function will return a flat dict from dictionaries\n",
    "    '''\n",
    "    output = dict(zip(dictionary['month'], dictionary['name']))\n",
    "    return output\n",
    "\n",
    "dictionary = {'month' : [1, 2, 3],\n",
    "             'name' : ['Jan', 'Feb', 'March']}\n",
    "\n",
    "print(f'The flattern dict is: {flat_dict(dictionary)}')"
   ]
  },
  {
   "cell_type": "code",
   "execution_count": 210,
   "id": "473d567d",
   "metadata": {},
   "outputs": [
    {
     "name": "stdout",
     "output_type": "stream",
     "text": [
      "The inserted dict is: OrderedDict([('manjeet', '3'), ('akshat', '1'), ('nikhil', '2')])\n"
     ]
    }
   ],
   "source": [
    "# 5. Write a Python program to insertion at the beginning in OrderedDict?\n",
    "\n",
    "from collections import OrderedDict\n",
    " \n",
    "    \n",
    "def insert_at_begining(new_dict):\n",
    "    '''\n",
    "    This function will insert a new dict to the begening od an OrderedDict\n",
    "    '''\n",
    "    iniordered_dict = OrderedDict([('akshat', '1'), ('nikhil', '2')])\n",
    "    iniordered_dict.update(new_dict)\n",
    "    iniordered_dict.move_to_end('manjeet', last = False)\n",
    "    \n",
    "    return iniordered_dict\n",
    "    \n",
    "new_dict = {'manjeet':'3'}\n",
    "print(f'The inserted dict is: {insert_at_begining(new_dict)}')"
   ]
  },
  {
   "cell_type": "code",
   "execution_count": 211,
   "id": "066320c5",
   "metadata": {},
   "outputs": [
    {
     "name": "stdout",
     "output_type": "stream",
     "text": [
      "The string is \n",
      "Hi Mark\n",
      "The input pattern is \n",
      "Ma\n",
      "The order of pattern is correct\n"
     ]
    }
   ],
   "source": [
    "# 6. Write a Python program to check order of character in string using OrderedDict()?\n",
    "\n",
    "from collections import OrderedDict\n",
    "\n",
    "\n",
    "def check_order(my_input, my_pattern):\n",
    "    '''\n",
    "    This function checks the order of character in string using OrderedDict()\n",
    "    '''\n",
    "    my_dict = OrderedDict.fromkeys(my_input)\n",
    "    pattern_length = 0\n",
    "    for key,value in my_dict.items():\n",
    "        if (key == my_pattern[pattern_length]):\n",
    "            pattern_length = pattern_length + 1\n",
    "\n",
    "        if (pattern_length == (len(my_pattern))):\n",
    "            return 'The order of pattern is correct'\n",
    "\n",
    "    return 'The order of pattern is incorrect'\n",
    "\n",
    "my_input = 'Hi Mark'\n",
    "input_pattern = 'Ma'\n",
    "print(\"The string is \")\n",
    "print(my_input)\n",
    "print(\"The input pattern is \")\n",
    "print(input_pattern)\n",
    "print(check_order(my_input,input_pattern))"
   ]
  },
  {
   "cell_type": "code",
   "execution_count": 219,
   "id": "e20cd0d3",
   "metadata": {},
   "outputs": [
    {
     "name": "stdout",
     "output_type": "stream",
     "text": [
      "['abc', 'def', 'ghi']\n"
     ]
    }
   ],
   "source": [
    "# 7. Write a Python program to sort Python Dictionaries by Key or Value?\n",
    "\n",
    "def dict_sort1(dictionary):\n",
    "    my_keys = list(dictionary.keys())\n",
    "    my_keys.sort()\n",
    "    \n",
    "    return my_keys\n",
    "\n",
    "\n",
    "dictionary = {'abc':[5,8,7,9,4],\n",
    "             'def':[8,7,2,5,4],\n",
    "             'ghi':[3,4,9,8,7]}\n",
    "\n",
    "print(dict_sort1(dictionary))\n"
   ]
  },
  {
   "cell_type": "code",
   "execution_count": null,
   "id": "ccf2625b",
   "metadata": {},
   "outputs": [],
   "source": []
  }
 ],
 "metadata": {
  "kernelspec": {
   "display_name": "Python 3 (ipykernel)",
   "language": "python",
   "name": "python3"
  },
  "language_info": {
   "codemirror_mode": {
    "name": "ipython",
    "version": 3
   },
   "file_extension": ".py",
   "mimetype": "text/x-python",
   "name": "python",
   "nbconvert_exporter": "python",
   "pygments_lexer": "ipython3",
   "version": "3.9.13"
  }
 },
 "nbformat": 4,
 "nbformat_minor": 5
}
