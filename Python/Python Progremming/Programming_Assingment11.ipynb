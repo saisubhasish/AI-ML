{
 "cells": [
  {
   "cell_type": "code",
   "execution_count": 101,
   "id": "460cafec",
   "metadata": {},
   "outputs": [
    {
     "name": "stdout",
     "output_type": "stream",
     "text": [
      "String greater than length k:  ['Subhasish']\n"
     ]
    }
   ],
   "source": [
    "# 1. Write a Python program to find words which are greater than given length k?\n",
    "\n",
    "def greater_than_k(string, k):\n",
    "    \"\"\"\n",
    "    This function returns the words which are greater than given length of k\n",
    "    \"\"\"\n",
    "    text = string.split(' ')\n",
    "    output = []\n",
    "    \n",
    "    for word in text:\n",
    "        if len(word) > k:\n",
    "            output.append(word)\n",
    "            \n",
    "    return(output)\n",
    "\n",
    "k = 7\n",
    "string = \"Sai Subhasish Rout\"\n",
    "print('String greater than length k: ',greater_than_k(string, k))\n"
   ]
  },
  {
   "cell_type": "code",
   "execution_count": 104,
   "id": "7adc6116",
   "metadata": {},
   "outputs": [
    {
     "name": "stdout",
     "output_type": "stream",
     "text": [
      "String after removing ith character:  Subasish\n"
     ]
    }
   ],
   "source": [
    "# 2. Write a Python program for removing i-th character from a string?\n",
    "\n",
    "def remove_ith(l, i):\n",
    "    a = l[:i]\n",
    "    b = l[i+1:]\n",
    "    return a+b\n",
    "\n",
    "\n",
    "l= 'Subhasish'\n",
    "i = 3\n",
    "print(\"String after removing ith character: \",remove_ith(l,i))"
   ]
  },
  {
   "cell_type": "code",
   "execution_count": 94,
   "id": "5bc4b7d4",
   "metadata": {},
   "outputs": [
    {
     "data": {
      "text/plain": [
       "['A', 'B', 'D', 'E', 'F']"
      ]
     },
     "execution_count": 94,
     "metadata": {},
     "output_type": "execute_result"
    }
   ],
   "source": [
    "## Practice: Not related to any answer\n",
    "\n",
    "def remove_i(l, i):\n",
    "    output = []\n",
    "    for i in l:\n",
    "        if i == x:\n",
    "            continue\n",
    "        output.append(i)\n",
    "    return output\n",
    "\n",
    "l= ['A','B','C','D','E','F']\n",
    "i = 'C'\n",
    "remove_i(l, i)"
   ]
  },
  {
   "cell_type": "code",
   "execution_count": 107,
   "id": "0ba1358b",
   "metadata": {},
   "outputs": [
    {
     "name": "stdout",
     "output_type": "stream",
     "text": [
      "Output string after split and join :  Sai-Subhasish-Rout\n"
     ]
    }
   ],
   "source": [
    "# 3. Write a Python program to split and join a string?\n",
    "\n",
    "def split_n_join(string):\n",
    "    '''\n",
    "    This string will split the string with ' ' and join it back with -\n",
    "    '''\n",
    "    list_string = string.split(' ')\n",
    "    join_string = '-'.join(list_string)\n",
    "    return join_string\n",
    "\n",
    "string = \"Sai Subhasish Rout\"\n",
    "print('Output string after split and join : ',split_n_join(string))"
   ]
  },
  {
   "cell_type": "code",
   "execution_count": 124,
   "id": "2c15904c",
   "metadata": {},
   "outputs": [
    {
     "data": {
      "text/plain": [
       "'0101010 : is a binary sting'"
      ]
     },
     "execution_count": 124,
     "metadata": {},
     "output_type": "execute_result"
    }
   ],
   "source": [
    "# 4. Write a Python to check if a given string is binary string or not?\n",
    "\n",
    "\n",
    "def check_binary(string):\n",
    "    s = set(string)\n",
    "    p = {'0', '1'}\n",
    "    \n",
    "    if s==p or s=='0' or s=='1':\n",
    "        return f'{string} : is a binary sting'\n",
    "    else:\n",
    "        return f'{string} :It is not a binary string'\n",
    "        \n",
    "string = '0101010'\n",
    "check_binary(string)"
   ]
  },
  {
   "cell_type": "code",
   "execution_count": 135,
   "id": "1e03ba0a",
   "metadata": {},
   "outputs": [
    {
     "data": {
      "text/plain": [
       "['Subhasish', 'Sangita']"
      ]
     },
     "execution_count": 135,
     "metadata": {},
     "output_type": "execute_result"
    }
   ],
   "source": [
    "# 5. Write a Python program to find uncommon words from two Strings?\n",
    "\n",
    "def uncommon_words(x, y):\n",
    "    \"\"\"\n",
    "    This function returns the unique words present in two strings\n",
    "    \"\"\"\n",
    "    count = {}\n",
    "    for word in x.split():\n",
    "        count[word]= count.get(word, 0)+1\n",
    "        \n",
    "    for word in y.split():\n",
    "        count[word]= count.get(word, 0)+1\n",
    "        \n",
    "    return [word for word in count if count[word]==1]\n",
    "\n",
    "\n",
    "x= 'Sai Subhasish Rout'\n",
    "y= 'Sai Sangita Rout'\n",
    "uncommon_words(x,y)"
   ]
  },
  {
   "cell_type": "code",
   "execution_count": 141,
   "id": "124f9fd2",
   "metadata": {},
   "outputs": [
    {
     "data": {
      "text/plain": [
       "['s', 'h']"
      ]
     },
     "execution_count": 141,
     "metadata": {},
     "output_type": "execute_result"
    }
   ],
   "source": [
    "# 6. Write a Python to find all duplicate characters in string?\n",
    "\n",
    "def duplicate_characters(s):\n",
    "    '''\n",
    "    This function returns duplicate characters\n",
    "    '''\n",
    "    output= {}\n",
    "    for char in s:\n",
    "        output[char]=output.get(char, 0)+1\n",
    "    return [char for char in output if output[char]>1]\n",
    "\n",
    "s= 'subhasish'\n",
    "duplicate_characters(s)"
   ]
  },
  {
   "cell_type": "code",
   "execution_count": 153,
   "id": "04e4a9bc",
   "metadata": {},
   "outputs": [
    {
     "data": {
      "text/plain": [
       "'There are special Characters in string: #Sai#'"
      ]
     },
     "execution_count": 153,
     "metadata": {},
     "output_type": "execute_result"
    }
   ],
   "source": [
    "# 7. Write a Python Program to check if a string contains any special character?\n",
    "\n",
    "import re\n",
    "\n",
    "def special_char_check(string):\n",
    "    \"\"\"\n",
    "    This function checks if there are any special characters in the string or not\n",
    "    \"\"\"\n",
    "    regex = re.compile('[!@#$%^&*()_+{}\\|;:/?]')\n",
    "    if regex.search(string) == None:\n",
    "        return f'There is no special characters in string: {string}'\n",
    "    else: \n",
    "        return f'There are special Characters in string: {string}'\n",
    "    \n",
    "string = \"#Sai#\"\n",
    "special_char_check(string)"
   ]
  },
  {
   "cell_type": "code",
   "execution_count": null,
   "id": "c23fa4f2",
   "metadata": {},
   "outputs": [],
   "source": []
  }
 ],
 "metadata": {
  "kernelspec": {
   "display_name": "Python 3 (ipykernel)",
   "language": "python",
   "name": "python3"
  },
  "language_info": {
   "codemirror_mode": {
    "name": "ipython",
    "version": 3
   },
   "file_extension": ".py",
   "mimetype": "text/x-python",
   "name": "python",
   "nbconvert_exporter": "python",
   "pygments_lexer": "ipython3",
   "version": "3.9.13"
  }
 },
 "nbformat": 4,
 "nbformat_minor": 5
}
