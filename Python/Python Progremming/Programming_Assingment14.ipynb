{
 "cells": [
  {
   "cell_type": "markdown",
   "id": "48e20df3",
   "metadata": {},
   "source": [
    "Question 1:\n",
    "\n",
    "Define a class with a generator which can iterate the numbers, which are divisible by 7, between a given range 0 and n.\n"
   ]
  },
  {
   "cell_type": "code",
   "execution_count": 4,
   "id": "752cd8a5",
   "metadata": {},
   "outputs": [
    {
     "name": "stdout",
     "output_type": "stream",
     "text": [
      "0\n",
      "7\n",
      "14\n",
      "21\n",
      "28\n",
      "35\n",
      "42\n",
      "49\n",
      "56\n",
      "63\n",
      "70\n",
      "77\n",
      "84\n",
      "91\n",
      "98\n"
     ]
    }
   ],
   "source": [
    "def num_generator(n):\n",
    "    i = 0\n",
    "    while i<n:\n",
    "        j=i\n",
    "        i=i+1\n",
    "        if j%7==0:\n",
    "            yield j\n",
    " \n",
    "for i in num_generator(100):\n",
    "    print(i)"
   ]
  },
  {
   "cell_type": "markdown",
   "id": "388ff314",
   "metadata": {},
   "source": [
    "Question 2:\n",
    "\n",
    "Write a program to compute the frequency of the words from the input. The output should output after sorting the key alphanumerically. \n",
    "\n",
    "Suppose the following input is supplied to the program:\n",
    "\n",
    "New to Python or choosing between Python 2 and Python 3? Read Python 2 or Python 3.\n",
    "\n",
    "Then, the output should be:\n",
    "\n",
    "2:2\n",
    "\n",
    "3.:1\n",
    "\n",
    "3?:1\n",
    "\n",
    "New:1\n",
    "\n",
    "Python:5\n",
    "\n",
    "Read:1\n",
    "\n",
    "and:1\n",
    "\n",
    "between:1\n",
    "\n",
    "choosing:1\n",
    "\n",
    "or:2\n",
    "\n",
    "to:1\n"
   ]
  },
  {
   "cell_type": "code",
   "execution_count": 14,
   "id": "37ca4910",
   "metadata": {},
   "outputs": [
    {
     "name": "stdout",
     "output_type": "stream",
     "text": [
      "2 : 2\n",
      "3 : 1\n",
      "New : 1\n",
      "Python : 5\n",
      "Read : 1\n",
      "and : 1\n",
      "between : 1\n",
      "choosing : 1\n",
      "or : 2\n",
      "to : 1\n"
     ]
    }
   ],
   "source": [
    "import operator\n",
    "\n",
    "def repetation(x):\n",
    "\n",
    "    freq_dict = {}\n",
    "\n",
    "    for i in x.split(' '):\n",
    "        if i.isdigit():\n",
    "            if i not in freq_dict:\n",
    "                freq_dict[i] = 1\n",
    "            elif i in freq_dict:\n",
    "                freq_dict[i] = freq_dict[i] + 1\n",
    "        \n",
    "        elif i.isalpha():\n",
    "            if i not in freq_dict:\n",
    "                freq_dict[i] = 1\n",
    "            elif i in freq_dict:\n",
    "                freq_dict[i] = freq_dict[i] + 1\n",
    "        else:\n",
    "            pass\n",
    "\n",
    "    sorted_freq_dict = sorted(freq_dict.items(), key = operator.itemgetter(0))\n",
    "\n",
    "    for i in sorted_freq_dict:\n",
    "        print(i[0],':', i[1])\n",
    "        \n",
    "x = 'New to Python or choosing between Python 2 and Python 3? Read Python 2 or Python 3'\n",
    "repetation(x)"
   ]
  },
  {
   "cell_type": "markdown",
   "id": "37990796",
   "metadata": {},
   "source": [
    "Question 3:\n",
    "\n",
    "Define a class Person and its two child classes: Male and Female. All classes have a method \"getGender\" which can print \"Male\" for Male class and \"Female\" for Female class.\n"
   ]
  },
  {
   "cell_type": "code",
   "execution_count": 15,
   "id": "2e24732a",
   "metadata": {},
   "outputs": [],
   "source": [
    "class Person:\n",
    "    def getGender(self):\n",
    "        print('Gender')\n",
    "\n",
    "class Male(Person):\n",
    "    def getGender(self):\n",
    "        print('Male') \n",
    "        \n",
    "class Male(Person):\n",
    "    def getGender(self):\n",
    "        print('Female') "
   ]
  },
  {
   "cell_type": "markdown",
   "id": "3bf136aa",
   "metadata": {},
   "source": [
    "Question 4:\n",
    "Please write a program to generate all sentences where subject is in [\"I\", \"You\"] and verb is in [\"Play\", \"Love\"] and the object is in [\"Hockey\",\"Football\"].\n"
   ]
  },
  {
   "cell_type": "code",
   "execution_count": 23,
   "id": "ae2e22af",
   "metadata": {},
   "outputs": [
    {
     "name": "stdout",
     "output_type": "stream",
     "text": [
      "I Play Hockey.\n",
      "I Play Football.\n",
      "I Love Hockey.\n",
      "I Love Football.\n",
      "You Play Hockey.\n",
      "You Play Football.\n",
      "You Love Hockey.\n",
      "You Love Football.\n"
     ]
    }
   ],
   "source": [
    "\n",
    "def generate():\n",
    "    subject = [\"I\", \"You\"]\n",
    "    verb = [\"Play\", \"Love\"]\n",
    "    object = [\"Hockey\",\"Football\"]\n",
    "    for i in range(len(subject)):\n",
    "        for j in range(len(subject)):\n",
    "            for k in range(len(object)):\n",
    "                sentense = \"%s %s %s.\"%(subject[i], verb[j], object[k])\n",
    "                print(sentense)\n",
    "\n",
    "generate()"
   ]
  },
  {
   "cell_type": "markdown",
   "id": "b17f2403",
   "metadata": {},
   "source": [
    "Question 5:\n",
    "\n",
    "Please write a program to compress and decompress the string \"hello world!hello world!hello world!hello world!\"."
   ]
  },
  {
   "cell_type": "code",
   "execution_count": 39,
   "id": "978a2871",
   "metadata": {},
   "outputs": [
    {
     "name": "stdout",
     "output_type": "stream",
     "text": [
      "Enter the dtring: hello world!hello world!hello world!hello world!\n",
      "b'x\\x9c\\xcbH\\xcd\\xc9\\xc9W(\\xcf/\\xcaIQ\\xcc \\x82\\r\\x00\\xbd[\\x11\\xf5'\n"
     ]
    },
    {
     "data": {
      "text/plain": [
       "b'hello world!hello world!hello world!hello world!'"
      ]
     },
     "execution_count": 39,
     "metadata": {},
     "output_type": "execute_result"
    }
   ],
   "source": [
    "import zlib\n",
    "\n",
    "s = input('Enter the dtring: ')\n",
    "\n",
    "def compose_decompose(s):\n",
    "    y = bytes(s, 'utf-8')\n",
    "    x = zlib.compress(y)\n",
    "    print(x)\n",
    "    return (zlib.decompress(x))\n",
    "\n",
    "compose_decompose(s)"
   ]
  },
  {
   "cell_type": "markdown",
   "id": "1618938a",
   "metadata": {},
   "source": [
    "Question 6:\n",
    "\n",
    "Please write a binary search function which searches an item in a sorted list. The function should return the index of element to be searched in the list."
   ]
  },
  {
   "cell_type": "code",
   "execution_count": 47,
   "id": "996b9d81",
   "metadata": {},
   "outputs": [
    {
     "name": "stdout",
     "output_type": "stream",
     "text": [
      "First occurrence of 7 is present at location:  6\n"
     ]
    }
   ],
   "source": [
    "from bisect import bisect_left\n",
    " \n",
    "def BinarySearch(a, x):\n",
    "    i = bisect_left(a, x)\n",
    "    if i != len(a) and a[i] == x:\n",
    "        return i\n",
    "    else:\n",
    "        return -1\n",
    " \n",
    "a  = [1, 2, 3, 4, 5, 6, 7, 7, 7, 8]\n",
    "x = int(7)\n",
    "res = BinarySearch(a, x)\n",
    "if res == -1:\n",
    "    print(x, \"is not present\")\n",
    "else:\n",
    "    print(\"First occurrence of\", x, \"is present at location: \", res)"
   ]
  },
  {
   "cell_type": "code",
   "execution_count": null,
   "id": "95aad16f",
   "metadata": {},
   "outputs": [],
   "source": []
  }
 ],
 "metadata": {
  "kernelspec": {
   "display_name": "Python 3 (ipykernel)",
   "language": "python",
   "name": "python3"
  },
  "language_info": {
   "codemirror_mode": {
    "name": "ipython",
    "version": 3
   },
   "file_extension": ".py",
   "mimetype": "text/x-python",
   "name": "python",
   "nbconvert_exporter": "python",
   "pygments_lexer": "ipython3",
   "version": "3.9.13"
  }
 },
 "nbformat": 4,
 "nbformat_minor": 5
}
